{
 "cells": [
  {
   "cell_type": "code",
   "execution_count": null,
   "metadata": {},
   "outputs": [],
   "source": [
    "__author__ = 'Mike Fitzpatrick <mfitzpatrick@noao.edu>, Alice Jacques <alice.jacques@noao.edu>, NOIRLab Astro Data Lab Team <datalab@noao.edu>'\n",
    "__version__ = '20200908'\n",
    "__keywords__ = ['query','vospace','mydb']"
   ]
  },
  {
   "cell_type": "markdown",
   "metadata": {},
   "source": [
    "# How to use the Data Lab *Query Client* Service"
   ]
  },
  {
   "cell_type": "markdown",
   "metadata": {},
   "source": [
    "### Table of contents\n",
    "* [Summary](#summary)\n",
    "* [Disclaimer & attribution](#attribution)\n",
    "* [Imports & setup](#imports)\n",
    "* [Review: General template for a simple query in SQL](#review)\n",
    "* [Quick Example Query](#query)\n",
    "* [Save to virtual storage VOSpace](#savevospace)\n",
    "* [Save to remote database MyDB](#savemydb)\n",
    "* [Import data into a MyDB table with QueryClient](#importmydb)\n",
    "* [An asynchronous query example](#async)\n",
    "* [Using profiles](#profiles)\n"
   ]
  },
  {
   "cell_type": "markdown",
   "metadata": {},
   "source": [
    "<a class=\"anchor\" id=\"summary\"></a>\n",
    "# Summary\n",
    "\n",
    "This notebook documents how to query the Data Lab via the query client service. For full documentation see the <a href=\"https://datalab.noao.edu/docs/api/queryClient.html\">API documentation</a>.\n",
    "\n",
    "\n",
    "### The *queryClient* class\n",
    "\n",
    "\n",
    "All queries are executed through the *queryClient.query()* method of the *queryClient* class. This takes as arguments:\n",
    "\n",
    "| Argument | Description | Optional | Default  value | Supported Values |\n",
    "|----------|-------------|----------|----------------|----------------|\n",
    "| adql | The query to be submitted to the TAP service | No | None | string |\n",
    "| sql | The query to be submitted to the DB directly | Yes | None | string |\n",
    "| fmt | The requested format (if any) | Yes | ascii | ascii,csv,fits,hdf5,votable |\n",
    "| out | The saved location (if any) | Yes | None | local filename, *vos://filename*, *mydb://tablename* |\n",
    "| async_ | Indicates if the query is asynchronous | Yes | False | True/False |\n",
    "\n",
    "\n",
    "All arguments are optional, except that one of *adql* or *sql* must be supplied.  The distinction between these two parameters is in how the *QueryClient* executes the query:  If *adql* is provided the query is sent to the TAP (Table Access Protocol) service, if *sql* is provided the query is sent directly to the database. The choice of execution depends on whether the query string contains ADQL-specific functions, or SQL constructs or DB extensions not understood by the TAP service.  For large queries there can also be a performance difference depending on the where/how the results are saved. \n",
    "\n",
    "#### Output formats\n",
    "The results can be returned as whitespace delimited (*ascii*), CSV (*csv*), FITS object (*fits*), HDF5 (*hdf5*), or in VOTable format (*votable*). Note that if the results are saved to the user's database then the output format is ignored.\n",
    "\n",
    "#### Saving results\n",
    "If no save location is specified (no *out* param) then the results are returned directly. A save location beginning with the 'vos://' identifier indicates a location in the user's virtual storage to save the result. A save location beginning with the 'mydb://' identifier indicates the results are to be saved to a table in the user's remote database (MyDB). \n",
    "\n",
    "#### Asynchronous queries\n",
    "Long queries should be run asynchronously and the service may refuse any synchronous query attempted if the projected query time is too long. A query can be submitted asynchronously by setting the *async_* parameter to *True*. A job id will then be returned.\n",
    "\n",
    "    \n",
    "The status of an asynchronous query can be checked with *queryClient.status(jobid)*. A return value of 'COMPLETED' indicates the query has terminated. A return value of 'ERROR' indicates that there was a problem with the query.    \n",
    "\n",
    "The results of an asynchronous query (assuming that they were not saved to either the user's virtual storage or remote database) can be retrieved once the query has completed with *result = qc.query(adql=query,async_=True,wait=True,poll=1,verbose=1)*\n",
    "\n",
    "### From Python code\n",
    "\n",
    "The query client service can be called from Python code using the *datalab* module. This provides methods to access the various query client functions in the *QueryClient* subpackage. See the information [here](https://github.com/noaodatalab/datalab/blob/master/README.md).\n",
    "\n",
    "Queries can be also run from the command line, e.g. on your local machine, using the datalab command line utility. Read about it in our GitHub repo [here](https://github.com/noaodatalab/datalab).\n"
   ]
  },
  {
   "cell_type": "markdown",
   "metadata": {},
   "source": [
    "<a class=\"anchor\" id=\"attribution\"></a>\n",
    "# Disclaimer & attribution\n",
    "If you use this notebook for your published science, please acknowledge the following:\n",
    "\n",
    "* Data Lab concept paper: Fitzpatrick et al., \"The NOAO Data Laboratory: a conceptual overview\", SPIE, 9149, 2014, http://dx.doi.org/10.1117/12.2057445\n",
    "\n",
    "* Data Lab disclaimer: https://datalab.noao.edu/disclaimers.php"
   ]
  },
  {
   "cell_type": "markdown",
   "metadata": {},
   "source": [
    "<a class=\"anchor\" id=\"imports\"></a>\n",
    "# Imports and setup\n",
    "\n",
    "This is the setup that is required to use the query client. The first thing to do is import the relevant Python modules."
   ]
  },
  {
   "cell_type": "code",
   "execution_count": null,
   "metadata": {},
   "outputs": [],
   "source": [
    "# Standard lib\n",
    "from getpass import getpass\n",
    "\n",
    "# Data Lab\n",
    "from dl import authClient as ac, queryClient as qc, storeClient as sc\n",
    "from dl.helpers.utils import convert"
   ]
  },
  {
   "cell_type": "markdown",
   "metadata": {},
   "source": [
    "# Authentication\n",
    "Much of the functionality of Data Lab can be accessed without explicitly logging in (the service then uses an anonymous login). But some capacities, for instance saving the results of your queries to your virtual storage space, require a login (i.e. you will need a registered user account).\n",
    "\n",
    "If you need to log in to Data Lab, issue this command, and respond according to the instructions:"
   ]
  },
  {
   "cell_type": "code",
   "execution_count": null,
   "metadata": {},
   "outputs": [],
   "source": [
    "#ac.login(input(\"Enter user name: (+ENTER) \"),getpass(\"Enter password: (+ENTER) \"))\n",
    "ac.whoAmI()"
   ]
  },
  {
   "cell_type": "markdown",
   "metadata": {},
   "source": [
    "<a class=\"anchor\" id=\"review\"></a>\n",
    "# Review: General template for a simple query in SQL\n",
    "\n",
    "### SQL is a way to describe to a database what you want from it\n",
    "General template for a simple query written in SQL\n",
    "```\n",
    "SELECT something\n",
    "FROM database.table\n",
    "WHERE constraints\n",
    "LIMIT 100\n",
    "```\n",
    "### Please see our intro notebook [JupyterPythonSQL101](https://github.com/noaodatalab/notebooks-latest/blob/master/01_GettingStartedWithDataLab/01_JupyterPythonSQL101.ipynb) for more info on this."
   ]
  },
  {
   "cell_type": "markdown",
   "metadata": {},
   "source": [
    "<a class=\"anchor\" id=\"query\"></a>\n",
    "# A quick query\n",
    "\n",
    "Let's say we want to fetch the g,r,i magnitudes from 10 objects in the SMASH DR1 data set, and retrieve the results as a CSV-formatted string:"
   ]
  },
  {
   "cell_type": "code",
   "execution_count": null,
   "metadata": {},
   "outputs": [],
   "source": [
    "query = 'SELECT gmag, rmag, imag FROM smash_dr1.object WHERE gmag<99 AND rmag<99 AND imag<99 LIMIT 10'\n",
    "response = qc.query(sql = query, fmt = 'csv')\n",
    "print (response)"
   ]
  },
  {
   "cell_type": "markdown",
   "metadata": {},
   "source": [
    "<a class=\"anchor\" id=\"savevospace\"></a>\n",
    "# Saving results to virtual storage VOSpace\n",
    "\n",
    "VOSpace is a convenient storage space for users to save their work. It can store any data or file type.  \n",
    "\n",
    "Now we want to save the results from the same query to our virtual storage space instead.  By putting the query in a try-block we are able to trap errors when executing the query.  Note that running this cell multiple times will trigger an error and we use the Storage Manager Client to remove the file once we are done."
   ]
  },
  {
   "cell_type": "code",
   "execution_count": null,
   "metadata": {},
   "outputs": [],
   "source": [
    "try:\n",
    "    response = qc.query (sql=query, fmt='csv', out='vos://examplemags.csv')\n",
    "except Exception as e:\n",
    "    # Handle any errors in the query.  By running this cell multiple times with the same\n",
    "    # output file, or by using a bogus SQL statement, you can view various error messages.\n",
    "    print (e.message)\n",
    "else:\n",
    "    if response is not None: \n",
    "        print (response)        \n",
    "    else:\n",
    "        print (\"OK\")"
   ]
  },
  {
   "cell_type": "markdown",
   "metadata": {},
   "source": [
    "Let's ensure the file was created in VOSpace:"
   ]
  },
  {
   "cell_type": "code",
   "execution_count": null,
   "metadata": {},
   "outputs": [],
   "source": [
    "sc.ls(name='vos://examplemags.csv')"
   ]
  },
  {
   "cell_type": "markdown",
   "metadata": {},
   "source": [
    "Now let's remove the file we just created:"
   ]
  },
  {
   "cell_type": "code",
   "execution_count": null,
   "metadata": {},
   "outputs": [],
   "source": [
    "sc.rm (name='vos://examplemags.csv')"
   ]
  },
  {
   "cell_type": "markdown",
   "metadata": {},
   "source": [
    "Let's ensure the file was removed from VOSpace:"
   ]
  },
  {
   "cell_type": "code",
   "execution_count": null,
   "metadata": {},
   "outputs": [],
   "source": [
    "sc.rm (name='vos://examplemags.csv')"
   ]
  },
  {
   "cell_type": "markdown",
   "metadata": {},
   "source": [
    "<a class=\"anchor\" id=\"savemydb\"></a>\n",
    "# Saving results to remote database MyDB\n",
    "MyDB is a useful OS remote per-user relational database that can store data tables. Furthermore, the results of queries can be directly saved to MyDB, as we show in the following example:"
   ]
  },
  {
   "cell_type": "code",
   "execution_count": null,
   "metadata": {},
   "outputs": [],
   "source": [
    "try:\n",
    "    response = qc.query (sql=query, fmt='csv', out='mydb://examplemags')\n",
    "except Exception as e:\n",
    "    # Handle any errors in the query.  By running this cell multiple times with the same\n",
    "    # output file, or by using a bogus SQL statement, you can view various error messages.\n",
    "    print (e.message)\n",
    "else:\n",
    "    if response is not None: \n",
    "        print (response)         \n",
    "    else:\n",
    "        print (\"OK\")"
   ]
  },
  {
   "cell_type": "markdown",
   "metadata": {},
   "source": [
    "Ensure the table has been saved to MyDB by calling the *mydb_list()* function:"
   ]
  },
  {
   "cell_type": "code",
   "execution_count": null,
   "metadata": {},
   "outputs": [],
   "source": [
    "print(qc.mydb_list(),\"\\n\")"
   ]
  },
  {
   "cell_type": "markdown",
   "metadata": {},
   "source": [
    "Now let's drop the table from our MyDB."
   ]
  },
  {
   "cell_type": "code",
   "execution_count": null,
   "metadata": {},
   "outputs": [],
   "source": [
    "qc.mydb_drop('examplemags')"
   ]
  },
  {
   "cell_type": "markdown",
   "metadata": {},
   "source": [
    "Ensure it has been removed by calling the *mydb_list()* function again:"
   ]
  },
  {
   "cell_type": "code",
   "execution_count": null,
   "metadata": {},
   "outputs": [],
   "source": [
    "print(qc.mydb_list(),\"\\n\")"
   ]
  },
  {
   "cell_type": "markdown",
   "metadata": {},
   "source": [
    "<a class=\"anchor\" id=\"importmydb\"></a>\n",
    "# Import data into a MyDB table with QueryClient\n",
    "\n",
    "Users can use the *mydb_import* function to import data saved on a local computer or import data from VOSpace into a MyDB data table. The data must be in the form of either a CSV file or Pandas Dataframe object in order to load it into MyDB.\n",
    "\n",
    "First let's query some data from the Data Lab database and save it locally as a CSV file:"
   ]
  },
  {
   "cell_type": "code",
   "execution_count": null,
   "metadata": {},
   "outputs": [],
   "source": [
    "query = \"select * from gaia_dr1.gaia_source limit 10\"\n",
    "qc.query (sql=query, fmt='csv', out='./gaiaresult.csv')"
   ]
  },
  {
   "cell_type": "markdown",
   "metadata": {},
   "source": [
    "Next we will use the *mydb_import* function to import the locally stored CSV file into a MyDB table:"
   ]
  },
  {
   "cell_type": "code",
   "execution_count": null,
   "metadata": {},
   "outputs": [],
   "source": [
    "qc.mydb_import('testresult','./gaiaresult.csv')"
   ]
  },
  {
   "cell_type": "markdown",
   "metadata": {},
   "source": [
    "Let's ensure it's there by calling the *mydb_list()* function:"
   ]
  },
  {
   "cell_type": "code",
   "execution_count": null,
   "metadata": {},
   "outputs": [],
   "source": [
    "print(qc.mydb_list(),\"\\n\")"
   ]
  },
  {
   "cell_type": "markdown",
   "metadata": {},
   "source": [
    "Similarly, we can use the *mydb_import* function to import data from VOSpace into a MyDB table:"
   ]
  },
  {
   "cell_type": "code",
   "execution_count": null,
   "metadata": {},
   "outputs": [],
   "source": [
    "qc.mydb_import('testresult2','vos://newmags.csv')"
   ]
  },
  {
   "cell_type": "code",
   "execution_count": null,
   "metadata": {},
   "outputs": [],
   "source": [
    "print(qc.mydb_list(),\"\\n\")"
   ]
  },
  {
   "cell_type": "markdown",
   "metadata": {},
   "source": [
    "Finally, for clean-up purposes, let's remove the two tables we just imported into MyDB by using the *mydb_drop* function:"
   ]
  },
  {
   "cell_type": "code",
   "execution_count": null,
   "metadata": {},
   "outputs": [],
   "source": [
    "qc.mydb_drop('testresult')\n",
    "qc.mydb_drop('testresult2')"
   ]
  },
  {
   "cell_type": "markdown",
   "metadata": {},
   "source": [
    "And let's make sure the two tables were removed from MyDB by using the *mydb_list()* function:"
   ]
  },
  {
   "cell_type": "code",
   "execution_count": null,
   "metadata": {},
   "outputs": [],
   "source": [
    "print(qc.mydb_list(),\"\\n\")"
   ]
  },
  {
   "cell_type": "markdown",
   "metadata": {},
   "source": [
    "<a class=\"anchor\" id=\"async\"></a>\n",
    "# An asynchronous query\n",
    "\n",
    "We now want to run a longer query, say, counting the total number of objects in USNO-B1, and need to do it asynchronously. To do this we will submit the query as normal but with the *async_* argument indicated."
   ]
  },
  {
   "cell_type": "code",
   "execution_count": null,
   "metadata": {},
   "outputs": [],
   "source": [
    "query = 'SELECT count(*) FROM usno.b1'"
   ]
  },
  {
   "cell_type": "code",
   "execution_count": null,
   "metadata": {},
   "outputs": [],
   "source": [
    "result = qc.query(sql=query,async_=True,wait=True,poll=5,verbose=1)"
   ]
  },
  {
   "cell_type": "code",
   "execution_count": null,
   "metadata": {},
   "outputs": [],
   "source": [
    "print(result)"
   ]
  },
  {
   "cell_type": "markdown",
   "metadata": {},
   "source": [
    "### Please see our [JupyterPythonSQL101](https://github.com/noaodatalab/notebooks-latest/blob/master/01_GettingStartedWithDataLab/01_JupyterPythonSQL101.ipynb) notebook for more information on getting jobid, checking status until 'COMPLETED', and retrieving results with qc.results(). "
   ]
  },
  {
   "cell_type": "markdown",
   "metadata": {},
   "source": [
    "<a class=\"anchor\" id=\"profiles\"></a>\n",
    "# Using profiles\n",
    "\n",
    "Sometimes, different datasets (or versions of the same dataset) may reside on different backend servers and a user may want to work explicitly with a (typically older) dataset. In some cases these servers will be used only by developers or those with restricted access. Also, external TAP services are accessible from within Data Lab. In both use cases, the *qc.profiles()* function comes in handy.\n",
    "\n",
    "The first thing to do is see what profiles are available:"
   ]
  },
  {
   "cell_type": "code",
   "execution_count": null,
   "metadata": {},
   "outputs": [],
   "source": [
    "profilelist = qc.list_profiles()\n",
    "print (profilelist)"
   ]
  },
  {
   "cell_type": "markdown",
   "metadata": {},
   "source": [
    "The thing to note in the output here are names such as '*GAVO*', '*SDSS-DR9*', etc;  **These profiles refer to external TAP services that can be accessed using the Query Manager interface.** Only a few are configured at the moment as we work on ways to automatically discover the >100 such services and provide useful listings of what they contain.\n",
    "\n",
    "Let's see how we can query one and save the result to our Virtual Storage VOSpace:"
   ]
  },
  {
   "cell_type": "code",
   "execution_count": null,
   "metadata": {},
   "outputs": [],
   "source": [
    "qc.set_profile('GAVO')\n",
    "query = 'SELECT top 10 * FROM sdssdr7.sources'\n",
    "response = qc.query(adql = query, fmt = 'csv', out=\"vos://gavo_out.csv\")\n",
    "print (response)"
   ]
  },
  {
   "cell_type": "markdown",
   "metadata": {},
   "source": [
    "In this case we queried an SDSS DR7 table at the TAP service run by GAVO in Heidelberg. "
   ]
  },
  {
   "cell_type": "markdown",
   "metadata": {},
   "source": [
    "Let's ensure it has been saved to VOSpace:"
   ]
  },
  {
   "cell_type": "code",
   "execution_count": null,
   "metadata": {},
   "outputs": [],
   "source": [
    "listing = sc.ls (name='vos://',format='long')\n",
    "print (listing)"
   ]
  },
  {
   "cell_type": "markdown",
   "metadata": {},
   "source": [
    "We can load the data set and e.g. convert to a Pandas data frame, like this:"
   ]
  },
  {
   "cell_type": "code",
   "execution_count": null,
   "metadata": {},
   "outputs": [],
   "source": [
    "data = sc.get(fr = 'vos://gavo_out.csv', to = '')\n",
    "df = convert(data)\n",
    "df"
   ]
  },
  {
   "cell_type": "markdown",
   "metadata": {},
   "source": [
    "We can get the details of a particular profile by including the name of the profile as an argument in the *list_profiles* method:"
   ]
  },
  {
   "cell_type": "code",
   "execution_count": null,
   "metadata": {},
   "outputs": [],
   "source": [
    "qc.list_profiles('default')"
   ]
  },
  {
   "cell_type": "markdown",
   "metadata": {},
   "source": [
    "So let's try a query against the default profile - let's get a list of all tables in the default database.  Note that in this case we are accessing the *information_schema* table of the database, this table is not included in the TAP service and so we **must** use the *sql* argument to talk directly to the database."
   ]
  },
  {
   "cell_type": "code",
   "execution_count": null,
   "metadata": {},
   "outputs": [],
   "source": [
    "sql = 'SELECT table_catalog, table_schema, table_name FROM information_schema.tables'\n",
    "try:\n",
    "    qc.set_profile('default')\n",
    "    default = qc.query(sql=sql)\n",
    "except Exception as e:\n",
    "    print (e.message)\n",
    "else:\n",
    "    print (default)"
   ]
  }
 ],
 "metadata": {
  "anaconda-cloud": {},
  "kernelspec": {
   "display_name": "Python 3",
   "language": "python",
   "name": "python3"
  },
  "language_info": {
   "codemirror_mode": {
    "name": "ipython",
    "version": 3
   },
   "file_extension": ".py",
   "mimetype": "text/x-python",
   "name": "python",
   "nbconvert_exporter": "python",
   "pygments_lexer": "ipython3",
   "version": "3.7.4"
  }
 },
 "nbformat": 4,
 "nbformat_minor": 1
}
