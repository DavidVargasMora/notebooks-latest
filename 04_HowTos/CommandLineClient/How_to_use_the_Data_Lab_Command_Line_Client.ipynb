{
 "cells": [
  {
   "cell_type": "code",
   "execution_count": null,
   "metadata": {},
   "outputs": [],
   "source": [
    "__author__ = 'Alice Jacques <alice.jacques@noao.edu>, NOIRLab Astro Data Lab Team <datalab@noao.edu>'\n",
    "__version__ = '20200915'\n",
    "__keywords__ = ['vospace','mydb','store files','query']"
   ]
  },
  {
   "cell_type": "markdown",
   "metadata": {},
   "source": [
    "# How to use the Data Lab *Command Line Client* Service"
   ]
  },
  {
   "cell_type": "markdown",
   "metadata": {},
   "source": [
    "### Table of Contents\n",
    "\n",
    "* [Summary](#summary)\n",
    "* [Disclaimer & attribution](#attribution)\n",
    "* [Imports & setup](#imports)\n",
    "* [Handling VOSpace directories/files via the datalab command line client](#datalabcommand)\n",
    "    - [Uploading a file](#cmdupload)\n",
    "    - [Downloading a file](#cmddownload)\n",
    "    - [Copying a file/directory](#cmdcopy)\n",
    "    - [Linking a file/directory](#cmdlink)\n",
    "    - [Creating a directory](#cmdcreate)\n",
    "    - [Moving a file/directory](#cmdmove)\n",
    "    - [Deleting a file](#cmddeletefile)\n",
    "    - [Deleting a directory](#cmddeletedirectory)\n",
    "    - ~[Tagging a file/directory](#cmdtag)~\n",
    "* [Handling MyDB tables via the datalab command line client](#datalabcmdmydb)\n",
    "    - [Listing MyDB tables and a table's schema](#listcmdmydb)\n",
    "    - [Creating a MyDB table](#createcmdmydb)\n",
    "    - [Inserting data into a MyDB table](#insertcmdmydb)\n",
    "    - [Importing data into a MyDB table](#importcmdmydb)\n",
    "    - [Truncating a MyDB table](#truncmdmydb)\n",
    "    - [Copying a MyDB table](#copycmdmydb)\n",
    "    - [Renaming a MyDB table](#renamecmdmydb)\n",
    "    - [Dropping a MyDB table](#dropcmdmydb)\n",
    "    \n",
    "*Note: those that are crossed out above indicate this feature is currently not working.*    "
   ]
  },
  {
   "cell_type": "markdown",
   "metadata": {},
   "source": [
    "<a class=\"anchor\" id=\"summary\"></a>\n",
    "# Summary\n",
    "\n",
    "This notebook documents how to use the Data Lab virtual storage system VOSpace and a user's personal MyDB database via the command line using the `datalab` command. The `datalab` command provides an alternate command line way to work with the auth client, query client, and store client. The API documentation can be found [here](https://datalab.noao.edu/docs/manual/UsingTheNOAODataLab/CommandLineTools/TheDatalabCommand/TheDatalabCommand.html)."
   ]
  },
  {
   "cell_type": "markdown",
   "metadata": {},
   "source": [
    "<a class=\"anchor\" id=\"attribution\"></a>\n",
    "# Disclaimer & attribution\n",
    "If you use this notebook for your published science, please acknowledge the following:\n",
    "\n",
    "* Data Lab concept paper: Fitzpatrick et al., \"The NOAO Data Laboratory: a conceptual overview\", SPIE, 9149, 2014, http://dx.doi.org/10.1117/12.2057445\n",
    "\n",
    "* Data Lab disclaimer: http://datalab.noao.edu/disclaimers.php"
   ]
  },
  {
   "cell_type": "markdown",
   "metadata": {},
   "source": [
    "<a class=\"anchor\" id=\"imports\"></a>\n",
    "# Imports & setup"
   ]
  },
  {
   "cell_type": "code",
   "execution_count": null,
   "metadata": {},
   "outputs": [],
   "source": [
    "from dl import queryClient as qc, storeClient as sc\n",
    "from dl.helpers.utils import convert"
   ]
  },
  {
   "cell_type": "code",
   "execution_count": null,
   "metadata": {},
   "outputs": [],
   "source": [
    "qc.set_svc_url('http://dltest.datalab.noao.edu/query')\n",
    "sc.set_svc_url('http://dltest.datalab.noao.edu/storage')"
   ]
  },
  {
   "cell_type": "markdown",
   "metadata": {},
   "source": [
    "The Data Lab Command Line Client (DCLC) is a Python-based package that provides an alternate way to interact with the various Data Lab services. It can be installed with \n",
    "\n",
    "    pip install --ignore-installed --no-cache-dir noaodatalab\n",
    "    \n",
    "It is invoked via the datalab command. \n",
    "\n",
    "We need to be logged into the Data Lab to use the query client and store client. If you are not already logged in, enter your Data Lab username after '*user=*' and enter your password for Data Lab after '*password=*' below:"
   ]
  },
  {
   "cell_type": "code",
   "execution_count": null,
   "metadata": {},
   "outputs": [],
   "source": [
    "!datalab login user=ajacques_dltest password="
   ]
  },
  {
   "cell_type": "markdown",
   "metadata": {},
   "source": [
    "<a class=\"anchor\" id=\"datalabcommand\"></a>\n",
    "# 1. Handling directories/files via the datalab command line client\n",
    "\n",
    "The `datalab` command provides a way to use a user's VOSpace. VOSpace is a convenient virtual storage space for users to save their work. It can store any data or file type."
   ]
  },
  {
   "cell_type": "markdown",
   "metadata": {},
   "source": [
    "Before we start this section, let's first query some example data from a Data Lab database and save it locally as a CSV file named `smags.csv`:"
   ]
  },
  {
   "cell_type": "code",
   "execution_count": null,
   "metadata": {},
   "outputs": [],
   "source": [
    "query = 'SELECT gmag, imag, rmag, zmag FROM smash_dr1.object LIMIT 10'\n",
    "qc.query(adql=query,fmt='csv',out='./smags.csv')"
   ]
  },
  {
   "cell_type": "markdown",
   "metadata": {},
   "source": [
    "<a class=\"anchor\" id=\"cmdupload\"></a>\n",
    "### 1.1 Uploading a file\n",
    "\n",
    "Let's say we want to upload a file from our local disk to the virtual storage:"
   ]
  },
  {
   "cell_type": "code",
   "execution_count": null,
   "metadata": {},
   "outputs": [],
   "source": [
    "!datalab put fr=\"./smags.csv\" to=\"vos://smags.csv\""
   ]
  },
  {
   "cell_type": "markdown",
   "metadata": {},
   "source": [
    "We can check that it has been uploaded to VOSpace:"
   ]
  },
  {
   "cell_type": "code",
   "execution_count": null,
   "metadata": {},
   "outputs": [],
   "source": [
    "!datalab ls name=\"vos://smags.csv\""
   ]
  },
  {
   "cell_type": "markdown",
   "metadata": {},
   "source": [
    "<a class=\"anchor\" id=\"cmddownload\"></a>\n",
    "### 1.2 Downloading a file\n",
    "\n",
    "Let's say we want to download a file from our virtual storage space, in this case the CSV file that we uploaded to it in the last cell:"
   ]
  },
  {
   "cell_type": "code",
   "execution_count": null,
   "metadata": {},
   "outputs": [],
   "source": [
    "!datalab get fr=\"vos://smags.csv\" to=\"./mysmags.csv\""
   ]
  },
  {
   "cell_type": "markdown",
   "metadata": {},
   "source": [
    "<a class=\"anchor\" id=\"cmdcopy\"></a>\n",
    "### 1.3 Copying a file/directory\n",
    "\n",
    "We want to put a copy of the file in a remote work directory:"
   ]
  },
  {
   "cell_type": "code",
   "execution_count": null,
   "metadata": {},
   "outputs": [],
   "source": [
    "!datalab cp fr=\"vos://smags.csv\" to=\"vos://tmp/smags.csv\""
   ]
  },
  {
   "cell_type": "markdown",
   "metadata": {},
   "source": [
    "<a class=\"anchor\" id=\"cmdlink\"></a>\n",
    "### 1.4 Linking to a file/directory\n",
    "\n",
    "Sometimes we want to create a link to a file or directory. The following creates a (soft) link to the specified file at the given location:"
   ]
  },
  {
   "cell_type": "code",
   "execution_count": null,
   "metadata": {},
   "outputs": [],
   "source": [
    "!datalab ln fr=\"vos://tmp/mags.csv\" to=\"vos://mags.csv\""
   ]
  },
  {
   "cell_type": "markdown",
   "metadata": {},
   "source": [
    "<a class=\"anchor\" id=\"cmdlist\"></a>\n",
    "### 1.5 Listing a file/directory\n",
    "\n",
    "We can see all the files that are in a specific directory or get a full listing for a specific file:"
   ]
  },
  {
   "cell_type": "code",
   "execution_count": null,
   "metadata": {},
   "outputs": [],
   "source": [
    "!datalab ls name=\"vos://tmp\""
   ]
  },
  {
   "cell_type": "markdown",
   "metadata": {},
   "source": [
    "<a class=\"anchor\" id=\"cmdcreate\"></a>\n",
    "### 1.6 Creating a directory\n",
    "\n",
    "We can create a directory:"
   ]
  },
  {
   "cell_type": "code",
   "execution_count": null,
   "metadata": {},
   "outputs": [],
   "source": [
    "!datalab mkdir name=\"vos://results\""
   ]
  },
  {
   "cell_type": "markdown",
   "metadata": {},
   "source": [
    "<a class=\"anchor\" id=\"cmdmove\"></a>\n",
    "### 1.7 Moving a file/directory\n",
    "\n",
    "We can move a file or directory:"
   ]
  },
  {
   "cell_type": "code",
   "execution_count": null,
   "metadata": {},
   "outputs": [],
   "source": [
    "!datalab mv fr=\"vos://tmp/smags.csv\" to=\"vos://results\""
   ]
  },
  {
   "cell_type": "markdown",
   "metadata": {},
   "source": [
    "<a class=\"anchor\" id=\"cmddeletefile\"></a>\n",
    "### 1.8 Deleting a file\n",
    "\n",
    "We can delete a file:"
   ]
  },
  {
   "cell_type": "code",
   "execution_count": null,
   "metadata": {},
   "outputs": [],
   "source": [
    "!datalab rm name=\"vos://results/smags.csv\""
   ]
  },
  {
   "cell_type": "markdown",
   "metadata": {},
   "source": [
    "<a class=\"anchor\" id=\"cmddeletedirectory\"></a>\n",
    "### 1.9 Deleting a directory\n",
    "\n",
    "We can also delete a directory:"
   ]
  },
  {
   "cell_type": "code",
   "execution_count": null,
   "metadata": {},
   "outputs": [],
   "source": [
    "!datalab rmdir name=\"vos://results\""
   ]
  },
  {
   "cell_type": "markdown",
   "metadata": {},
   "source": [
    "<a class=\"anchor\" id=\"cmdtag\"></a>\n",
    "### ~1.10 Tagging a file/directory~\n",
    "**Warning**: Tagging is currently **not** working in the Data Lab storage manager. This notebook will be updated when the problem has been resolved.\n",
    "\n",
    "We can tag any file or directory with arbitrary metadata:"
   ]
  },
  {
   "cell_type": "code",
   "execution_count": null,
   "metadata": {},
   "outputs": [],
   "source": [
    "#!datalab tag name=\"vos://results\" tag=\"The results from my analysis\""
   ]
  },
  {
   "cell_type": "markdown",
   "metadata": {},
   "source": [
    "<a class=\"anchor\" id=\"datalabcmdmydb\"></a>\n",
    "# 2. Handling MyDB tables via the datalab command line client\n",
    "The `datalab` command provides a way to use a user's MyDB database. MyDB is a useful virtual storage space for users to save their work as a table. It can only store data tables. **_NOTE: The data must be in the form of either a CSV file or Pandas Dataframe object in order to load it into MyDB._**"
   ]
  },
  {
   "cell_type": "markdown",
   "metadata": {},
   "source": [
    "<a class=\"anchor\" id=\"listcmdmydb\"></a>\n",
    "### 2.1 Listing MyDB tables and a table's schema\n",
    "\n",
    "We can list all of the MyDB tables currently in a user's database with the `mydb_list` function:"
   ]
  },
  {
   "cell_type": "code",
   "execution_count": null,
   "metadata": {},
   "outputs": [],
   "source": [
    "!datalab mydb_list"
   ]
  },
  {
   "cell_type": "markdown",
   "metadata": {},
   "source": [
    "We can also list the schema and schema's datatype in a specified MyDB table:"
   ]
  },
  {
   "cell_type": "code",
   "execution_count": null,
   "metadata": {},
   "outputs": [],
   "source": [
    "!datalab mydb_list table=\"usno_objects\""
   ]
  },
  {
   "cell_type": "markdown",
   "metadata": {},
   "source": [
    "<a class=\"anchor\" id=\"createcmdmydb\"></a>\n",
    "### 2.2 Creating a MyDB table \n",
    "We can create a new empty MyDB table with a user-provided schema file using the `mydb_create` function with the following parameters:\n",
    "\n",
    "*table* - name of the new MyDB table to create  \n",
    "*schema* - location and name of the schema definition to be in the table\n",
    "\n",
    "The schema definition is stored in a text file, in this case in the user notebook directory. The schema definition file is a CSV-formatted file that contains column name and (Postgres) data type, one row per column. The general format is:\n",
    "\n",
    "`Columnname1,datatype1\\nColumnname2,datatype2\\nColumnname3,datatype3`\n",
    "\n",
    "Let's first create a simple (id,ra,dec) schema of an integer value and two double values and save it locally as a text file named `schema.txt`:"
   ]
  },
  {
   "cell_type": "code",
   "execution_count": null,
   "metadata": {},
   "outputs": [],
   "source": [
    "schema_str = 'id,integer\\nra,double precision\\ndec,double precision\\n'\n",
    "with open ('schema.txt','w') as fd:\n",
    "    fd.write (schema_str)"
   ]
  },
  {
   "cell_type": "markdown",
   "metadata": {},
   "source": [
    "Now let's use the `mydb_create` function to make a new table in MyDB with the schema definition we created above:"
   ]
  },
  {
   "cell_type": "code",
   "execution_count": null,
   "metadata": {},
   "outputs": [],
   "source": [
    "!datalab mydb_create table=\"table1\" schema=\"./schema.txt\""
   ]
  },
  {
   "cell_type": "markdown",
   "metadata": {},
   "source": [
    "Let's make sure the table was created in MyDB by calling the `mydb_list` function:"
   ]
  },
  {
   "cell_type": "code",
   "execution_count": null,
   "metadata": {},
   "outputs": [],
   "source": [
    "!datalab mydb_list"
   ]
  },
  {
   "cell_type": "markdown",
   "metadata": {},
   "source": [
    "Let's also make sure the schema was loaded into the table by calling the `mydb_list` function on the table:"
   ]
  },
  {
   "cell_type": "code",
   "execution_count": null,
   "metadata": {},
   "outputs": [],
   "source": [
    "!datalab mydb_list table=\"table1\""
   ]
  },
  {
   "cell_type": "markdown",
   "metadata": {},
   "source": [
    "<a class=\"anchor\" id=\"insertcmdmydb\"></a>\n",
    "### 2.3 Inserting data into a MyDB table\n",
    "\n",
    "We can choose to insert data saved on a local computer or insert data from VOSpace into a pre-existing MyDB table. The data must be in the form of either a CSV file or Pandas Dataframe object in order to load it into MyDB. Use the `mydb_insert` function and the following parameters:  \n",
    "\n",
    "*table* - name of the pre-existing MyDB table in which to insert the data  \n",
    "*data* - location and name of the data to insert into the table"
   ]
  },
  {
   "cell_type": "markdown",
   "metadata": {},
   "source": [
    "We will use the `exampledata.csv` file provided in this notebook directory as our data to insert into the `table1` table we created a few cells above:"
   ]
  },
  {
   "cell_type": "code",
   "execution_count": null,
   "metadata": {},
   "outputs": [],
   "source": [
    "!datalab mydb_insert table=\"table1\" data=\"./exampledata.csv\""
   ]
  },
  {
   "cell_type": "markdown",
   "metadata": {},
   "source": [
    "**FROM A PYTHON SCRIPT (i.e. within this notebook, not on command line):** Let's make sure the data was inserted into the table by converting the table into a Pandas Dataframe and printing it on-screen:"
   ]
  },
  {
   "cell_type": "code",
   "execution_count": null,
   "metadata": {},
   "outputs": [],
   "source": [
    "df1=convert(qc.query(sql=\"SELECT * FROM mydb://table1\"))\n",
    "df1"
   ]
  },
  {
   "cell_type": "markdown",
   "metadata": {},
   "source": [
    "<a class=\"anchor\" id=\"importcmdmydb\"></a>\n",
    "### 2.4 Importing data into a MyDB table\n",
    "We can import data saved on a local computer or import data from VOSpace into a MyDB data table. The data must be in the form of either a CSV file or Pandas Dataframe object in order to load it into MyDB. Use the `mydb_import` function with the following parameters: \n",
    "\n",
    "*table* - name of the new MyDB table to create with the imported data  \n",
    "*data* - location and name of the data to import  "
   ]
  },
  {
   "cell_type": "markdown",
   "metadata": {},
   "source": [
    "Let's first query some example data from a Data Lab database and save it locally as a CSV file named `gaia_result.csv`:"
   ]
  },
  {
   "cell_type": "code",
   "execution_count": null,
   "metadata": {},
   "outputs": [],
   "source": [
    "query = \"select * from gaia_dr1.gaia_source limit 10\"\n",
    "qc.query (adql=query, fmt='csv', out='./gaia_result.csv')"
   ]
  },
  {
   "cell_type": "markdown",
   "metadata": {},
   "source": [
    "Now we can import the queried data into a new MyDB table:"
   ]
  },
  {
   "cell_type": "code",
   "execution_count": null,
   "metadata": {},
   "outputs": [],
   "source": [
    "!datalab mydb_import table=\"gaia_result_table\" data=\"./gaia_result.csv\""
   ]
  },
  {
   "cell_type": "markdown",
   "metadata": {},
   "source": [
    "Let's make sure the table was created in MyDB by calling the `mydb_list` function:"
   ]
  },
  {
   "cell_type": "code",
   "execution_count": null,
   "metadata": {},
   "outputs": [],
   "source": [
    "!datalab mydb_list"
   ]
  },
  {
   "cell_type": "markdown",
   "metadata": {},
   "source": [
    "**FROM A PYTHON SCRIPT (i.e. within this notebook, not on command line):** Let's also make sure the data was imported into the table by converting the table into a Pandas Dataframe and printing it on-screen:"
   ]
  },
  {
   "cell_type": "code",
   "execution_count": null,
   "metadata": {},
   "outputs": [],
   "source": [
    "df2=convert(qc.query(sql=\"SELECT * FROM mydb://gaia_result_table\"))\n",
    "df2"
   ]
  },
  {
   "cell_type": "markdown",
   "metadata": {},
   "source": [
    "Similarly, we can use the `mydb_import` function to import data from VOSpace into a MyDB table:"
   ]
  },
  {
   "cell_type": "code",
   "execution_count": null,
   "metadata": {},
   "outputs": [],
   "source": [
    "!datalab mydb_import table=\"magsvos\" data=\"vos://smags.csv\""
   ]
  },
  {
   "cell_type": "markdown",
   "metadata": {},
   "source": [
    "Let's make sure the table was created in MyDB by calling the `mydb_list` function:"
   ]
  },
  {
   "cell_type": "code",
   "execution_count": null,
   "metadata": {},
   "outputs": [],
   "source": [
    "!datalab mydb_list"
   ]
  },
  {
   "cell_type": "markdown",
   "metadata": {},
   "source": [
    "We can view the schema definition of the table by calling the `mydb_list` function on the table:"
   ]
  },
  {
   "cell_type": "code",
   "execution_count": null,
   "metadata": {},
   "outputs": [],
   "source": [
    "!datalab mydb_list table=\"magsvos\""
   ]
  },
  {
   "cell_type": "markdown",
   "metadata": {},
   "source": [
    "**FROM A PYTHON SCRIPT (i.e. within this notebook, not on command line):** Let's also make sure the data was imported into the table by converting the table into a Pandas Dataframe and printing it on-screen:"
   ]
  },
  {
   "cell_type": "code",
   "execution_count": null,
   "metadata": {},
   "outputs": [],
   "source": [
    "df3=convert(qc.query(sql=\"SELECT * FROM mydb://magsvos\"))\n",
    "df3"
   ]
  },
  {
   "cell_type": "markdown",
   "metadata": {},
   "source": [
    "<a class=\"anchor\" id=\"truncmdmydb\"></a>\n",
    "### 2.5 Truncating a MyDB table \n",
    "            \n",
    "We can truncate a MyDB table, i.e. drop all rows but keep the table definition (schema), with the `mydb_truncate` function and the following parameter:\n",
    "\n",
    "*table* - name of the MyDB table to truncate"
   ]
  },
  {
   "cell_type": "code",
   "execution_count": null,
   "metadata": {},
   "outputs": [],
   "source": [
    "!datalab mydb_truncate table=\"table1\" "
   ]
  },
  {
   "cell_type": "markdown",
   "metadata": {},
   "source": [
    "Let's make sure the table was truncated by calling the `mydb_list` function on the table: "
   ]
  },
  {
   "cell_type": "code",
   "execution_count": null,
   "metadata": {},
   "outputs": [],
   "source": [
    "!datalab mydb_list table=\"table1\""
   ]
  },
  {
   "cell_type": "markdown",
   "metadata": {},
   "source": [
    "**FROM A PYTHON SCRIPT (i.e. within this notebook, not on command line):** We can also make sure the table was truncated by converting the table into a Pandas Dataframe and printing it on-screen:"
   ]
  },
  {
   "cell_type": "code",
   "execution_count": null,
   "metadata": {},
   "outputs": [],
   "source": [
    "df4=convert(qc.query(sql=\"SELECT * FROM mydb://table1\"))\n",
    "df4"
   ]
  },
  {
   "cell_type": "markdown",
   "metadata": {},
   "source": [
    "<a class=\"anchor\" id=\"copycmdmydb\"></a>\n",
    "### 2.6 Copying a MyDB table\n",
    "We can copy a MyDB table that currently exists in a user's MyDB database with the `mydb_copy` function and the following parameters:\n",
    "\n",
    "*source* - name of table to copy  \n",
    "*target* - name of new table with copied data from source table"
   ]
  },
  {
   "cell_type": "code",
   "execution_count": null,
   "metadata": {},
   "outputs": [],
   "source": [
    "!datalab mydb_copy source=\"magsvos\" target=\"magsvos_copy\""
   ]
  },
  {
   "cell_type": "markdown",
   "metadata": {},
   "source": [
    "Let's make sure the newly copied table exists in MyDB database by calling the `mydb_list` function:"
   ]
  },
  {
   "cell_type": "code",
   "execution_count": null,
   "metadata": {},
   "outputs": [],
   "source": [
    "!datalab mydb_list"
   ]
  },
  {
   "cell_type": "markdown",
   "metadata": {},
   "source": [
    "<a class=\"anchor\" id=\"renamecmdmydb\"></a>\n",
    "### 2.7 Renaming a MyDB table\n",
    "We can choose to rename a MyDB table with the `mydb_rename` function and the following parameters:\n",
    "\n",
    "*old* - name of table to rename  \n",
    "*new* - new name of table"
   ]
  },
  {
   "cell_type": "code",
   "execution_count": null,
   "metadata": {},
   "outputs": [],
   "source": [
    "!datalab mydb_rename old=\"magsvos_copy\" new=\"newermagsvos\""
   ]
  },
  {
   "cell_type": "markdown",
   "metadata": {},
   "source": [
    "Let's make sure the name was changed by calling the `mydb_list` function:"
   ]
  },
  {
   "cell_type": "code",
   "execution_count": null,
   "metadata": {},
   "outputs": [],
   "source": [
    "!datalab mydb_list"
   ]
  },
  {
   "cell_type": "markdown",
   "metadata": {},
   "source": [
    "<a class=\"anchor\" id=\"dropcmdmydb\"></a>\n",
    "### 2.8 Dropping a MyDB table\n",
    "We can remove a MyDB table from a user's MyDB database by calling the `mydb_drop` function and the following parameter:\n",
    "\n",
    "*table* - name of the table we wish to remove from MyDB database"
   ]
  },
  {
   "cell_type": "code",
   "execution_count": null,
   "metadata": {},
   "outputs": [],
   "source": [
    "!datalab mydb_drop table=\"newermagsvos\""
   ]
  },
  {
   "cell_type": "markdown",
   "metadata": {},
   "source": [
    "Let's make sure the MyDB table was dropped by calling the `mydb_list` function:"
   ]
  },
  {
   "cell_type": "code",
   "execution_count": null,
   "metadata": {},
   "outputs": [],
   "source": [
    "!datalab mydb_list"
   ]
  },
  {
   "cell_type": "markdown",
   "metadata": {},
   "source": [
    "# Clean up MyDB and VOSpace\n",
    "For clean-up purposes, let's remove the tables we created in MyDB and files/directories we created in VOSpace."
   ]
  },
  {
   "cell_type": "code",
   "execution_count": null,
   "metadata": {},
   "outputs": [],
   "source": [
    "!datalab mydb_drop table=\"gaia_result_table\"\n",
    "!datalab mydb_drop table=\"table1\"\n",
    "!datalab rm name=\"vos://smags.csv\"\n",
    "!datalab rm name=\"vos://mysmags.csv\"\n",
    "!datalab rmdir name=\"vos://tmp\""
   ]
  }
 ],
 "metadata": {
  "kernelspec": {
   "display_name": "Python 3",
   "language": "python",
   "name": "python3"
  },
  "language_info": {
   "codemirror_mode": {
    "name": "ipython",
    "version": 3
   },
   "file_extension": ".py",
   "mimetype": "text/x-python",
   "name": "python",
   "nbconvert_exporter": "python",
   "pygments_lexer": "ipython3",
   "version": "3.7.6"
  }
 },
 "nbformat": 4,
 "nbformat_minor": 2
}
