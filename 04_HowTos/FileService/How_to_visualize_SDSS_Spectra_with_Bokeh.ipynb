{
 "cells": [
  {
   "cell_type": "code",
   "execution_count": null,
   "metadata": {},
   "outputs": [],
   "source": [
    "__author__ = 'Benjamin Alan Weaver <baweaver@lbl.gov>, Alice Jacques <alice.jacques@noao.edu>'\n",
    "__version__ = '20200917'\n",
    "__datasets__ = ['sdss_dr16']\n",
    "__keywords__ = ['spectroscopy', 'fits', 'plot:animation']"
   ]
  },
  {
   "cell_type": "markdown",
   "metadata": {},
   "source": [
    "# How to Visualize SDSS Spectroscopic Data with Bokeh\n",
    "\n",
    "*Benjamin Alan Weaver & NOIRLab Astro Data Lab Team*\n",
    "\n",
    "### Table of contents\n",
    "\n",
    "* [Goals & Notebook Summary](#Goals)\n",
    "* [Disclaimer & Attribution](#Disclaimer-&-Attribution)\n",
    "* [Imports & Setup](#Imports-&-Setup)\n",
    "* [Loading Spectra](#Loading-Spectra)\n",
    "* [Plotting](#Plotting)\n",
    "* [Visual inspection results](#Visual-inspection-results)\n",
    "* [Navigating through targets](#Navigating-through-targets)\n",
    "\n",
    "## Goals\n",
    "\n",
    "Display and interact with SDSS spectroscopic data.\n",
    "\n",
    "## Notebook Summary\n",
    "\n",
    "[Bokeh](https://bokeh.pydata.org/en/latest/) is a library for interactive plotting.  We're going to try to plot some SDSS spectroscopic data.  In particular, we'll read BOSS/eBOSS [spPlate](https://data.sdss.org/datamodel/files/BOSS_SPECTRO_REDUX/RUN2D/PLATE4/spPlate.html) files that contain the flux *versus* wavelength data and match them up with [spZbest](https://data.sdss.org/datamodel/files/BOSS_SPECTRO_REDUX/RUN2D/PLATE4/RUN1D/spZbest.html) files that contain the best-fit redshift and model.\n",
    "\n",
    "In the Setup section below, we first load all the necessary code, then in the section Loading Spectra below, we actually start loading and plotting the spectra.\n",
    "\n",
    "This notebook is inspired by [the Inspector](https://github.com/sbailey/inspector/)."
   ]
  },
  {
   "cell_type": "markdown",
   "metadata": {},
   "source": [
    "<a class=\"anchor\" id=\"Disclaimer-&-Attribution\"></a>\n",
    "\n",
    "## Disclaimer & Attribution\n",
    "\n",
    "If you use this notebook for your published science, please acknowledge the following:\n",
    "\n",
    "* Data Lab concept paper: Fitzpatrick *et al.*, \"The NOAO Data Laboratory: a conceptual overview\", SPIE, 9149, 2014, http://dx.doi.org/10.1117/12.2057445\n",
    "* Data Lab disclaimer: http://datalab.noao.edu/disclaimers.php"
   ]
  },
  {
   "cell_type": "markdown",
   "metadata": {},
   "source": [
    "## Imports & Setup\n",
    "\n",
    "In this section we simply load all the code to create the plots."
   ]
  },
  {
   "cell_type": "code",
   "execution_count": null,
   "metadata": {},
   "outputs": [],
   "source": [
    "# Standard Library\n",
    "# import os\n",
    "from io import BytesIO\n",
    "from getpass import getpass\n",
    "from sdss_viz_bokeh import load_sdss_spectra"
   ]
  },
  {
   "cell_type": "markdown",
   "metadata": {},
   "source": [
    "# Authentication\n",
    "Much of the functionality of Data Lab can be accessed without explicitly logging in (the service then uses an anonymous login). But some capacities, for instance saving the results of your queries to your virtual storage space, require a login (i.e. you will need a registered user account).\n",
    "\n",
    "If you need to log in to Data Lab, issue this command, and respond according to the instructions:"
   ]
  },
  {
   "cell_type": "code",
   "execution_count": null,
   "metadata": {},
   "outputs": [],
   "source": [
    "# ac.login(input(\"Enter user name: (+ENTER) \"),getpass(\"Enter password: (+ENTER) \"))\n",
    "ac.whoAmI()"
   ]
  },
  {
   "cell_type": "markdown",
   "metadata": {},
   "source": [
    "## Loading Spectra\n",
    "\n",
    "Use `load_sdss_spectra(spPlate, spZbest)` to load a `spPlate*.fits` file. A matching `spZbest` file may also be provided, but if not, the location of this file can be deduced from the `spPlate` file.\n",
    "\n",
    "SDSS-specific file information:"
   ]
  },
  {
   "cell_type": "code",
   "execution_count": null,
   "metadata": {},
   "outputs": [],
   "source": [
    "release = 16\n",
    "run2d = 'v5_13_0'\n",
    "run1d = run2d\n",
    "plate = 4055\n",
    "mjd = 55359\n",
    "spPlate = f'sdss_dr{release:d}://eboss/spectro/redux/{run2d}/{plate:d}/spPlate-{plate:04d}-{mjd:5d}.fits'\n",
    "\n",
    "sp = load_sdss_spectra(spPlate)"
   ]
  },
  {
   "cell_type": "markdown",
   "metadata": {},
   "source": [
    "## Plotting\n",
    "\n",
    "Start the interactive viewer with the `.plot()` method.\n",
    "\n",
    "* The large window displays a downsampled spectrum with best fit model overlaid.\n",
    "* Scanning the mouse over that plot shows a full-resolution zoom of that portion of the spectrum, which is particularly useful for scanning narrow emission lines.\n",
    "* Try the various tools at the top for panning, zooming, selecting. When the wheel zoom tool is selected (default), using the scroll wheel will zoom in and out. Point the mouse over the x or y axis before scrolling to zoom on just that axis.\n",
    "* Click on one of the legend entries to turn that item on/off.\n",
    "* The buttons at the bottom can be used to navigate between targets and perform other tasks:\n",
    "  * prev / next: go to the previous or next target without recording visual inspection results\n",
    "  * the other buttons record visual inspection results and advance to the next target:\n",
    "    - flag: flag this target as having bad data\n",
    "    - bad: bad data (*e.g.* low-S/N) such that no redshift fitter could get a confident redshift\n",
    "    - no: the fitted redshift is incorrect\n",
    "    - maybe: the fitted redshift might be correct, but not confidently\n",
    "    - yes: the fitted redshift is definitely correct\n",
    "  * Emission / Absorption Lines: toggle the display of prominent emission or absorption lines."
   ]
  },
  {
   "cell_type": "code",
   "execution_count": null,
   "metadata": {},
   "outputs": [],
   "source": [
    "sp.plot()"
   ]
  },
  {
   "cell_type": "markdown",
   "metadata": {},
   "source": [
    "## Visual inspection results\n",
    "\n",
    "The visual inspection results are stored in a `visual_scan` table which can be inspected and saved. This table includes the scanner's username so that results from different scanners can be cross checked. Tables for different spectra files can also be stacked to create truth tables. Try navigating through a few spectra marking them as flag/bad/no/maybe/yes, then view the scan results table and save it."
   ]
  },
  {
   "cell_type": "code",
   "execution_count": null,
   "metadata": {},
   "outputs": [],
   "source": [
    "sp.visual_scan"
   ]
  },
  {
   "cell_type": "markdown",
   "metadata": {},
   "source": [
    "Save the results locally as a FITS file:"
   ]
  },
  {
   "cell_type": "code",
   "execution_count": null,
   "metadata": {},
   "outputs": [],
   "source": [
    "sp.visual_scan.write('scan_results.fits', overwrite=True)"
   ]
  },
  {
   "cell_type": "markdown",
   "metadata": {},
   "source": [
    "A user can also save the results to their virtual storage VOSpace:"
   ]
  },
  {
   "cell_type": "code",
   "execution_count": null,
   "metadata": {},
   "outputs": [],
   "source": [
    "sc.put('./scan_results.fits', 'vos://scan_results.fits')"
   ]
  },
  {
   "cell_type": "markdown",
   "metadata": {},
   "source": [
    "We can ensure it has made it to VOSpace by calling the `sc.ls()` function, which lists all files currently in a user's VOSpace:"
   ]
  },
  {
   "cell_type": "code",
   "execution_count": null,
   "metadata": {},
   "outputs": [],
   "source": [
    "listing = sc.ls(name='vos://')\n",
    "print(listing)"
   ]
  },
  {
   "cell_type": "markdown",
   "metadata": {},
   "source": [
    "## Navigating through targets\n",
    "\n",
    "You can use the buttons to go the previous/next targets, or use the `.prev()` and `.next()` functions. *e.g.* to watch a loop over all the targets, you could do the following (scroll back up to watch the display update)"
   ]
  },
  {
   "cell_type": "code",
   "execution_count": null,
   "metadata": {},
   "outputs": [],
   "source": [
    "import time\n",
    "sp.ispec = 0\n",
    "for i in range(sp.nspec):\n",
    "    sp.next()\n",
    "    time.sleep(0.5)"
   ]
  }
 ],
 "metadata": {
  "kernelspec": {
   "display_name": "Python 3",
   "language": "python",
   "name": "python3"
  },
  "language_info": {
   "codemirror_mode": {
    "name": "ipython",
    "version": 3
   },
   "file_extension": ".py",
   "mimetype": "text/x-python",
   "name": "python",
   "nbconvert_exporter": "python",
   "pygments_lexer": "ipython3",
   "version": "3.7.4"
  }
 },
 "nbformat": 4,
 "nbformat_minor": 2
}
