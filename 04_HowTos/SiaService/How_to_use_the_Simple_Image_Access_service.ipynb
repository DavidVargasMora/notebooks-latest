{
 "cells": [
  {
   "cell_type": "code",
   "execution_count": null,
   "metadata": {},
   "outputs": [],
   "source": [
    "__author__ = 'Knut Olsen <kolsen@noao.edu>, Alice Jacques <alice.jacques@noao.edu>' \n",
    "__version__ = '20200915' # yyyymmdd;\n",
    "__datasets__ = ['nsc_dr1','svc_stripe82']  \n",
    "__keywords__ = ['image cutout','SIA','tutorial']"
   ]
  },
  {
   "cell_type": "markdown",
   "metadata": {},
   "source": [
    "# How to use the Simple Image Access (SIA) Service to make image cutouts\n",
    "\n",
    "*Knut Olsen & NOIRLab Astro Data Lab Team*"
   ]
  },
  {
   "cell_type": "markdown",
   "metadata": {},
   "source": [
    "### Table of contents\n",
    "* [Goals & notebook summary](#goals)\n",
    "* [Disclaimer & Attribution](#attribution)\n",
    "* [Imports & setup](#import)\n",
    "* [What is the Simple Image Access (SIA) service?](#chapter1)\n",
    "* [Example usage](#chapter2)\n",
    "* [Making the process easier with functions](#chapter3)"
   ]
  },
  {
   "cell_type": "markdown",
   "metadata": {},
   "source": [
    "<a class=\"anchor\" id=\"goals\"></a>\n",
    "# Goals\n",
    "Show how to use the Simple Image Access (SIA) Service API to make image cutouts."
   ]
  },
  {
   "cell_type": "markdown",
   "metadata": {},
   "source": [
    "# Summary\n",
    "In this notebook, we describe and demonstrate the SIA Service API and use it to make an example set of image cutouts.  We list all of the available image collections available through SIA services, and then select one to retrieve an image cutout at a specific RA, Dec on the sky.  We define a function to identify the deepest image available at a specific band and position, retrieve g, r, and i band image cutouts at that position, and make a three-band color image from the cutouts."
   ]
  },
  {
   "cell_type": "markdown",
   "metadata": {},
   "source": [
    "<a class=\"anchor\" id=\"attribution\"></a>\n",
    "# Disclaimer & Attribution\n",
    "If you use this notebook for your published science, please acknowledge the following:\n",
    "\n",
    "* Data Lab concept paper: Fitzpatrick et al., \"The NOAO Data Laboratory: a conceptual overview\", SPIE, 9149, 2014, http://dx.doi.org/10.1117/12.2057445\n",
    "\n",
    "* Data Lab disclaimer: http://datalab.noao.edu/disclaimers.php"
   ]
  },
  {
   "cell_type": "markdown",
   "metadata": {},
   "source": [
    "<a class=\"anchor\" id=\"import\"></a>\n",
    "# Imports and setup"
   ]
  },
  {
   "cell_type": "code",
   "execution_count": null,
   "metadata": {},
   "outputs": [],
   "source": [
    "# 3rd party \n",
    "import numpy as np\n",
    "from numpy.core.defchararray import startswith\n",
    "import pylab as plt\n",
    "import matplotlib\n",
    "%matplotlib inline\n",
    "\n",
    "# SIA library and utilities for accessing FITS images and making three-color images\n",
    "from pyvo.dal import sia\n",
    "from astropy.utils.data import download_file\n",
    "from astropy.io import fits\n",
    "from astropy.wcs import WCS\n",
    "from astropy.visualization import make_lupton_rgb\n",
    "\n",
    "# Data Lab\n",
    "from dl import authClient as ac, queryClient as qc, storeClient as sc\n",
    "\n",
    "# Quiet the Astropy warnings\n",
    "import warnings\n",
    "from astropy.utils.exceptions import AstropyWarning\n",
    "warnings.simplefilter('ignore', category=AstropyWarning)"
   ]
  },
  {
   "cell_type": "markdown",
   "metadata": {},
   "source": [
    "# Authentication\n",
    "Much of the functionality of Data Lab can be accessed without explicitly logging in (the service then uses an anonymous login). But some capacities, for instance saving the results of your queries to your virtual storage space, require a login (i.e. you will need a registered user account).\n",
    "\n",
    "If you need to log in to Data Lab, issue this command, and respond according to the instructions:"
   ]
  },
  {
   "cell_type": "code",
   "execution_count": null,
   "metadata": {},
   "outputs": [],
   "source": [
    "#ac.login(input(\"Enter user name: (+ENTER) \"),getpass(\"Enter password: (+ENTER) \"))\n",
    "ac.whoAmI()"
   ]
  },
  {
   "cell_type": "markdown",
   "metadata": {},
   "source": [
    "<a class=\"anchor\" id=\"chapter1\"></a>\n",
    "# What is the Simple Image Access (SIA) service?\n",
    "The SIA service is a tool to identify the set of images in an image collection that overlap the position at which an image cutout is desired.  It returns a table of potential images containing information (metadata) typically found in the image headers (filter, exposure time, time of observation, etc.) as well as a URL pointing to the image cutout itself.  Getting image cutouts is thus a three-step process:\n",
    "\n",
    "1) choose an image collection  \n",
    "2) call the SIA service for that collection to retrieve information about images that overlap a position of interest  \n",
    "3) retrieve the image cutouts by accessing the URLs for the selected images in the table of information  \n",
    "\n",
    "Choosing a specific image collection is done by selecting the URL that points to that collection.  There are lots of available collections, including images from the Dark Energy Survey, Legacy Survey, and the entire NOIRLab Astro Data Archive. For more background on the SIA protocol, see the [IVOA document](http://www.ivoa.net/documents/SIA/) that describes it."
   ]
  },
  {
   "cell_type": "markdown",
   "metadata": {},
   "source": [
    "Here we list the Simple Image Access (SIA) service endpoints for different image collections:"
   ]
  },
  {
   "cell_type": "code",
   "execution_count": null,
   "metadata": {},
   "outputs": [],
   "source": [
    "# The default endpoint points to the entire public NOIRLab Astro Data Archive\n",
    "DEF_ACCESS_URL = \"http://datalab.noao.edu/sia\"\n",
    "svc = sia.SIAService(DEF_ACCESS_URL)\n",
    "\n",
    "# The NOIRLab Astro Data Archive is the default endpoint.  It contains all public data in the archive, including\n",
    "# raw and processed images, data quality masks, etc.\n",
    "DEF_ACCESS_URL = \"http://datalab.noao.edu/sia/nsa\"\n",
    "svc_nsa = sia.SIAService(DEF_ACCESS_URL)\n",
    "\n",
    "# The subset of images from the NOIRLab Astro Data Archive that overlap with SDSS Stripe 82:\n",
    "DEF_ACCESS_URL = \"http://datalab.noao.edu/sia/stripe82_nsa\"\n",
    "svc_stripe82 = sia.SIAService(DEF_ACCESS_URL)\n",
    "# Other targeted image subsets that overlap with SDSS Stripe 82:\n",
    "# To use these, call svc = sia.SIAService(DEF_ACCESS_URL)\n",
    "DEF_ACCESS_URL = \"http://datalab.noao.edu/sia/stripe82_calibrated\"\n",
    "DEF_ACCESS_URL = \"http://datalab.noao.edu/sia/stripe82_coadd\"\n",
    "DEF_ACCESS_URL = \"http://datalab.noao.edu/sia/stripe82_decaps_dr1\"\n",
    "DEF_ACCESS_URL = \"http://datalab.noao.edu/sia/stripe82_des_dr1\"\n",
    "DEF_ACCESS_URL = \"http://datalab.noao.edu/sia/stripe82_des_sva1\"\n",
    "DEF_ACCESS_URL = \"http://datalab.noao.edu/sia/stripe82_des_y1\"\n",
    "DEF_ACCESS_URL = \"http://datalab.noao.edu/sia/stripe82_des_y2\"\n",
    "DEF_ACCESS_URL = \"http://datalab.noao.edu/sia/stripe82_des_y3\"\n",
    "DEF_ACCESS_URL = \"http://datalab.noao.edu/sia/stripe82_des_y4\"\n",
    "DEF_ACCESS_URL = \"http://datalab.noao.edu/sia/stripe82_ls_dr3\"\n",
    "DEF_ACCESS_URL = \"http://datalab.noao.edu/sia/stripe82_ls_dr5\"\n",
    "DEF_ACCESS_URL = \"http://datalab.noao.edu/sia/stripe82_ls_dr6\"\n",
    "DEF_ACCESS_URL = \"http://datalab.noao.edu/sia/stripe82_ls_dr7\"\n",
    "DEF_ACCESS_URL = \"http://datalab.noao.edu/sia/stripe82_ls_dr8\"\n",
    "DEF_ACCESS_URL = \"http://datalab.noao.edu/sia/stripe82_raw\"\n",
    "DEF_ACCESS_URL = \"http://datalab.noao.edu/sia/stripe82_smash_dr1\"\n",
    "DEF_ACCESS_URL = \"http://datalab.noao.edu/sia/stripe82_smash_dr2\"\n",
    "DEF_ACCESS_URL = \"http://datalab.noao.edu/sia/stripe82_splus_dr1\"\n",
    "DEF_ACCESS_URL = \"http://datalab.noao.edu/sia/stripe82_splus_edr\"\n",
    "\n",
    "# The subset of instrument calibrated images from the NOIRLab Astro Data Archive:\n",
    "DEF_ACCESS_URL = \"http://datalab.noao.edu/sia/calibrated_all\"\n",
    "svc_cal = sia.SIAService(DEF_ACCESS_URL)\n",
    "# Other collections of instrument calibrated images for specific surveys:\n",
    "# To use these, call svc = sia.SIAService(DEF_ACCESS_URL)\n",
    "DEF_ACCESS_URL = \"http://datalab.noao.edu/sia/calibrated_des_y1\" # DES Year 1 calibrated images\n",
    "DEF_ACCESS_URL = \"http://datalab.noao.edu/sia/calibrated_des_y2\" # DES Year 2 calibrated images\n",
    "DEF_ACCESS_URL = \"http://datalab.noao.edu/sia/calibrated_des_y3\" # DES Year 3 calibrated images\n",
    "DEF_ACCESS_URL = \"http://datalab.noao.edu/sia/calibrated_des_y4\" # DES Year 4 calibrated images\n",
    "DEF_ACCESS_URL = \"http://datalab.noao.edu/sia/calibrated_nsa\" # NSA calibrated images\n",
    "DEF_ACCESS_URL = \"http://datalab.noao.edu/sia/calibrated_smash_dr1\" # SMASH DR1 calibrated images\n",
    "DEF_ACCESS_URL = \"http://datalab.noao.edu/sia/calibrated_smash_dr2\" # SMASH DR2 calibrated images\n",
    "\n",
    "# The subset of stacked calibrated images from the NOIRLab Astro Data Archive:\n",
    "DEF_ACCESS_URL = \"http://datalab.noao.edu/sia/coadd_all\"\n",
    "svc_coadd = sia.SIAService(DEF_ACCESS_URL)\n",
    "# Other collections of stacked images for specific surveys:\n",
    "# To use these, call svc = sia.SIAService(DEF_ACCESS_URL)\n",
    "DEF_ACCESS_URL = \"http://datalab.noao.edu/sia/coadd_decaps_dr1\" # DECaPS DR1 stacks\n",
    "DEF_ACCESS_URL = \"http://datalab.noao.edu/sia/coadd_des_dr1\" # DES DR1 stacks\n",
    "DEF_ACCESS_URL = \"http://datalab.noao.edu/sia/coadd_des_sva1\" # DES SVA1 stacks\n",
    "DEF_ACCESS_URL = \"http://datalab.noao.edu/sia/coadd_ls_dr3\" # Legacy Survey DR3 stacks\n",
    "DEF_ACCESS_URL = \"http://datalab.noao.edu/sia/coadd_ls_dr4\" # Legacy Survey DR4 stacks\n",
    "DEF_ACCESS_URL = \"http://datalab.noao.edu/sia/coadd_ls_dr5\" # Legacy Survey DR5 stacks\n",
    "DEF_ACCESS_URL = \"http://datalab.noao.edu/sia/coadd_ls_dr6\" # Legacy Survey DR6 stacks\n",
    "DEF_ACCESS_URL = \"http://datalab.noao.edu/sia/coadd_ls_dr7\" # Legacy Survey DR7 stacks\n",
    "DEF_ACCESS_URL = \"http://datalab.noao.edu/sia/coadd_ls_dr8\" # Legacy Survey DR8 stacks\n",
    "DEF_ACCESS_URL = \"http://datalab.noao.edu/sia/coadd_smash_dr1\" # SMASH DR1 stacks\n",
    "DEF_ACCESS_URL = \"http://datalab.noao.edu/sia/coadd_splus_dr1\" # S-PLUS DR1 stacks\n",
    "\n",
    "# The subset of raw uncalibrated images from the NOIRLab Astro Data Archive\n",
    "DEF_ACCESS_URL = \"http://datalab.noao.edu/sia/raw_all\"\n",
    "svc_raw = sia.SIAService(DEF_ACCESS_URL)\n",
    "\n",
    "# DECam images from the DECam Plane Survey DR1\n",
    "DEF_ACCESS_URL = \"http://datalab.noao.edu/sia/decaps_dr1\"\n",
    "svc_decaps_dr1 = sia.SIAService(DEF_ACCESS_URL)\n",
    "\n",
    "# The Dark Energy Survey DR1 image release contains images from the first three years of DES\n",
    "DEF_ACCESS_URL = \"http://datalab.noao.edu/sia/des_dr1\"\n",
    "svc_des_dr1 = sia.SIAService(DEF_ACCESS_URL)\n",
    "\n",
    "# The Dark Energy Survey SV image release contains images from the DES SV period\n",
    "DEF_ACCESS_URL = \"http://datalab.noao.edu/sia/des_sva1\"\n",
    "svc_des_sva1 = sia.SIAService(DEF_ACCESS_URL)\n",
    "\n",
    "# The subset of Dark Energy Survey DR1 images obtained in the first year of DES\n",
    "DEF_ACCESS_URL = \"http://datalab.noao.edu/sia/des_y1\"\n",
    "svc_des_y1 = sia.SIAService(DEF_ACCESS_URL)\n",
    "\n",
    "# The subset of Dark Energy Survey DR1 images obtained in the second year of DES\n",
    "DEF_ACCESS_URL = \"http://datalab.noao.edu/sia/des_y2\"\n",
    "svc_des_y2 = sia.SIAService(DEF_ACCESS_URL)\n",
    "\n",
    "# The subset of Dark Energy Survey DR1 images obtained in the third year of DES\n",
    "DEF_ACCESS_URL = \"http://datalab.noao.edu/sia/des_y3\"\n",
    "svc_des_y3 = sia.SIAService(DEF_ACCESS_URL)\n",
    "\n",
    "# The subset of Dark Energy Survey DR1 images obtained in the fourth year of DES\n",
    "DEF_ACCESS_URL = \"http://datalab.noao.edu/sia/des_y4\"\n",
    "svc_des_y4 = sia.SIAService(DEF_ACCESS_URL)\n",
    "\n",
    "# Images from GOGREEN DR1 \n",
    "DEF_ACCESS_URL = \"https://datalab.noao.edu/sia/gogreen_dr1\"\n",
    "svc_gogreen_dr1 = sia.SIAService(DEF_ACCESS_URL)\n",
    "\n",
    "# DECam images from Legacy Survey DR3\n",
    "DEF_ACCESS_URL = \"http://datalab.noao.edu/sia/ls_dr3\"\n",
    "svc_ls_dr3 = sia.SIAService(DEF_ACCESS_URL)\n",
    "\n",
    "# Mosaic-3 and Bok images from Legacy Survey DR4\n",
    "DEF_ACCESS_URL = \"http://datalab.noao.edu/sia/ls_dr4\"\n",
    "svc_ls_dr4 = sia.SIAService(DEF_ACCESS_URL)\n",
    "\n",
    "# DECam images from Legacy Survey DR5\n",
    "DEF_ACCESS_URL = \"http://datalab.noao.edu/sia/ls_dr5\"\n",
    "svc_ls_dr5 = sia.SIAService(DEF_ACCESS_URL)\n",
    "\n",
    "# Mosaic-3 and Bok images from Legacy Survey DR6\n",
    "DEF_ACCESS_URL = \"http://datalab.noao.edu/sia/ls_dr6\"\n",
    "svc_ls_dr6 = sia.SIAService(DEF_ACCESS_URL)\n",
    "\n",
    "# DECam images from Legacy Survey DR7\n",
    "DEF_ACCESS_URL = \"http://datalab.noao.edu/sia/ls_dr7\"\n",
    "svc_ls_dr7 = sia.SIAService(DEF_ACCESS_URL)\n",
    "\n",
    "# Mosaic-3 and Bok images from Legacy Survey DR8\n",
    "DEF_ACCESS_URL = \"http://datalab.noao.edu/sia/ls_dr8\"\n",
    "svc_ls_dr8 = sia.SIAService(DEF_ACCESS_URL)\n",
    "\n",
    "# DECam images from the SMASH Survey DR1 release\n",
    "DEF_ACCESS_URL = \"http://datalab.noao.edu/sia/smash_dr1\"\n",
    "svc_smash_dr1 = sia.SIAService(DEF_ACCESS_URL)\n",
    "\n",
    "# DECam images from the SMASH Survey DR2 release\n",
    "DEF_ACCESS_URL = \"http://datalab.noao.edu/sia/smash_dr2\"\n",
    "svc_smash_dr2 = sia.SIAService(DEF_ACCESS_URL)\n",
    "\n",
    "# T80S telescope images from the S-PLUS DR1 release\n",
    "DEF_ACCESS_URL = \"http://datalab.noao.edu/sia/splus_dr1\"\n",
    "svc_splus_dr1 = sia.SIAService(DEF_ACCESS_URL)\n",
    "\n",
    "# T80S telescope images from the S-PLUS EDR release\n",
    "DEF_ACCESS_URL = \"http://datalab.noao.edu/sia/splus_edr\"\n",
    "svc_splus_edr = sia.SIAService(DEF_ACCESS_URL)"
   ]
  },
  {
   "cell_type": "markdown",
   "metadata": {},
   "source": [
    "<a class=\"anchor\" id=\"chapter2\"></a>\n",
    "# Example usage\n",
    "We will pick a location in Stripe 82 and use the Stripe 82-specific SIA service to retrieve an image cutout 6x6 arcmin in size.  We use the search method of the SIA service object to perform the search, and return the result as an astropy Table object.  \n",
    "\n",
    "The search method takes the following as arguments:\n",
    "* a tuple containing (ra,dec)  \n",
    "* a second tuple with the size of the cutout in each direction (field of view or fov)\n",
    "\n",
    "The search works in RA and Dec in degrees, and does not account for the convergence of lines of RA toward the poles, so we divide by a `cos(dec)` term in the RA size argument."
   ]
  },
  {
   "cell_type": "code",
   "execution_count": null,
   "metadata": {},
   "outputs": [],
   "source": [
    "ra = 335.0\n",
    "dec = 0.0\n",
    "fov = 0.1\n",
    "\n",
    "imgTable = svc_stripe82.search((ra,dec), (fov/np.cos(dec*np.pi/180), fov), verbosity=2).to_table()"
   ]
  },
  {
   "cell_type": "markdown",
   "metadata": {},
   "source": [
    "The result is a table of metadata for images that overlap the search position:"
   ]
  },
  {
   "cell_type": "code",
   "execution_count": null,
   "metadata": {},
   "outputs": [],
   "source": [
    "imgTable"
   ]
  },
  {
   "cell_type": "markdown",
   "metadata": {},
   "source": [
    "The column `access_url` contains the link to retrieve the image cutout.  We can filter the table on any of the columns to narrow down the list to just the cutouts we want.  Here we'll select stacked images (`proctype=Stack` and `prodtype=image`) observed in the g filter (`obs_bandpass` starts with the the letter 'g'):"
   ]
  },
  {
   "cell_type": "code",
   "execution_count": null,
   "metadata": {},
   "outputs": [],
   "source": [
    "sel = (imgTable['proctype'].astype(str)=='Stack') & (imgTable['prodtype'].astype(str)=='image') & \\\n",
    "    (startswith(imgTable['obs_bandpass'].astype(str),'g'))"
   ]
  },
  {
   "cell_type": "markdown",
   "metadata": {},
   "source": [
    "We'll pick a row from the filtered table and retrieve the image."
   ]
  },
  {
   "cell_type": "code",
   "execution_count": null,
   "metadata": {},
   "outputs": [],
   "source": [
    "row = imgTable[sel][1]\n",
    "url = row['access_url'].decode() # get the download URL\n",
    "filename = download_file(url,cache=True,show_progress=False,timeout=120)\n",
    "hdu = fits.open(filename)[0]\n",
    "image = hdu.data\n",
    "hdr = hdu.header\n",
    "wcs = WCS(hdr) # WCS info from header to convert pixel coords to world coords"
   ]
  },
  {
   "cell_type": "markdown",
   "metadata": {},
   "source": [
    "Then we'll display the image.  Note that the image might not be square for a variety of reasons, such as that the image cutout ran into a chip edge along one axis."
   ]
  },
  {
   "cell_type": "code",
   "execution_count": null,
   "metadata": {},
   "outputs": [],
   "source": [
    "print(\"Min pixel:\", image.min(), \"\\nMax pixel:\", image.max(),\"\\nImage size:\",image.shape)\n",
    "fig = plt.figure(figsize=(10,10))\n",
    "ax = fig.add_subplot(projection=wcs)\n",
    "ax.imshow(image,origin='lower',cmap='bone',vmin=image.min(),vmax=image.min()+(image.max()-image.min())/170.)"
   ]
  },
  {
   "cell_type": "markdown",
   "metadata": {},
   "source": [
    "### Catalog overlay\n",
    "We can also query the database for catalog objects and overlay them easily on the image cutout.  In this example, we query around the central position for objects in the NOAO Source Catalog DR1 object table:"
   ]
  },
  {
   "cell_type": "code",
   "execution_count": null,
   "metadata": {},
   "outputs": [],
   "source": [
    "sql = '''SELECT ra, dec, gmag \n",
    "            FROM nsc_dr1.object \n",
    "            WHERE q3c_radial_query(ra,dec,{0},{1},{2})\n",
    "            AND gerr < 0.1 AND gmag < 22\n",
    "'''.format(ra, dec, fov/2)\n",
    "df = qc.query(sql=sql, fmt='pandas')"
   ]
  },
  {
   "cell_type": "markdown",
   "metadata": {},
   "source": [
    "Here we'll use the object *g*-band magnitudes to control the sizes of the markers."
   ]
  },
  {
   "cell_type": "code",
   "execution_count": null,
   "metadata": {},
   "outputs": [],
   "source": [
    "fig = plt.figure(figsize=(10,10))\n",
    "ax = fig.add_subplot(1, 1, 1, projection=wcs)\n",
    "ax.imshow(image, cmap='bone', vmin=image.min(), vmax=image.min()+(image.max()-image.min())/170.)\n",
    "ax.scatter(df['ra'], df['dec'], transform=ax.get_transform('icrs'), s=1000./(df['gmag']-12), \n",
    "           edgecolor='green', facecolor='none', linewidths=3)"
   ]
  },
  {
   "cell_type": "markdown",
   "metadata": {},
   "source": [
    "## Save image to VOSpace\n",
    "If you're not intending to display or work with the image in the notebook, but instead want to save the image as a file, the storeClient (`sc`) can copy the cutout URL directly to VOSpace if you are logged in to Data Lab."
   ]
  },
  {
   "cell_type": "markdown",
   "metadata": {},
   "source": [
    "Save the contents of the image cutout URL to VOSpace:"
   ]
  },
  {
   "cell_type": "code",
   "execution_count": null,
   "metadata": {},
   "outputs": [],
   "source": [
    "sc.load('cutout.fits',url)"
   ]
  },
  {
   "cell_type": "markdown",
   "metadata": {},
   "source": [
    "Let's make sure the image was saved to VOSpace by calling the `sc.ls` function specifying the name of the image:"
   ]
  },
  {
   "cell_type": "code",
   "execution_count": null,
   "metadata": {},
   "outputs": [],
   "source": [
    "sc.ls('cutout.fits')"
   ]
  },
  {
   "cell_type": "markdown",
   "metadata": {},
   "source": [
    "<a class=\"anchor\" id=\"chapter3\"></a>\n",
    "# Making the process easier with functions\n",
    "The example workflow above lends itself to writing a short function to access the SIA service, filtering the metadata table to narrow down the search result, and retrieving the cutout.  Here we define two functions: (1) a function to get the deepest stacked image for a given image collection and band, and (2) a function to plot the images."
   ]
  },
  {
   "cell_type": "code",
   "execution_count": null,
   "metadata": {},
   "outputs": [],
   "source": [
    "# A little function to download the deepest stacked images\n",
    "#   adapted from R. Nikutta\n",
    "def download_deepest_image(ra,dec,svc=sia.SIAService('http://datalab.noao.edu/sia'),fov=0.1,band='g'):\n",
    "    imgTable = svc.search((ra,dec), (fov/np.cos(dec*np.pi/180), fov), verbosity=2).to_table()\n",
    "    \n",
    "    sel0 = startswith(imgTable['obs_bandpass'].astype(str),band)\n",
    "    print(\"The full image list contains\", len(imgTable[sel0]), \"entries with bandpass=\"+band)\n",
    "\n",
    "    sel = sel0 & ((imgTable['proctype'].astype(str)=='Stack') & (imgTable['prodtype'].astype(str)=='image'))\n",
    "    Table = imgTable[sel]\n",
    "    if (len(Table)>0):\n",
    "        row = Table[np.argmax(Table['exptime'].data.data.astype('float'))] # pick image with longest exposure time\n",
    "        url = row['access_url'].decode() # get the download URL\n",
    "        print ('downloading deepest '+band+' image...')\n",
    "        image = fits.getdata(download_file(url,cache=True,show_progress=False,timeout=120))\n",
    "\n",
    "    else:\n",
    "        print ('No image available.')\n",
    "        image=None\n",
    "        \n",
    "    return image"
   ]
  },
  {
   "cell_type": "code",
   "execution_count": null,
   "metadata": {},
   "outputs": [],
   "source": [
    "# Multi panel image plotter\n",
    "def plot_images(images,geo=None,panelsize=4,bands=list('gri'),cmap=matplotlib.cm.gray_r):\n",
    "    n = len(images)\n",
    "    if geo is None: geo = (n,1)\n",
    "        \n",
    "    fig = plt.figure(figsize=(geo[0]*panelsize,geo[1]*panelsize))\n",
    "    for j,img in enumerate(images):\n",
    "        ax = fig.add_subplot(geo[1],geo[0],j+1)\n",
    "        if img is not None:\n",
    "            print(\"min pixel (\"+bands[j]+\" band):\",img.min(),\"max pixel (\"+bands[j]+\" band):\",img.max())\n",
    "            vmin = np.median(img)-2*np.std(img)\n",
    "            vmax = np.median(img)+2*np.std(img)\n",
    "            ax.imshow(img,origin='lower',interpolation='none',cmap=cmap,vmin=vmin, vmax=vmax)\n",
    "            ax.set_title('%s band' % bands[j])\n",
    "            ax.xaxis.set_visible(False)\n",
    "            ax.yaxis.set_visible(False)"
   ]
  },
  {
   "cell_type": "markdown",
   "metadata": {},
   "source": [
    "We run the function to get cutouts from deep stack in g, r, and i bands."
   ]
  },
  {
   "cell_type": "code",
   "execution_count": null,
   "metadata": {},
   "outputs": [],
   "source": [
    "band = 'g'\n",
    "gimage = download_deepest_image(ra, dec, fov=0.1, band=band) # FOV in deg\n",
    "band = 'r'\n",
    "rimage = download_deepest_image(ra, dec, fov=0.1, band=band) # FOV in deg\n",
    "band = 'i'\n",
    "iimage = download_deepest_image(ra, dec, fov=0.1, band=band) # FOV in deg"
   ]
  },
  {
   "cell_type": "markdown",
   "metadata": {},
   "source": [
    "Now we plot the image per band:"
   ]
  },
  {
   "cell_type": "code",
   "execution_count": null,
   "metadata": {},
   "outputs": [],
   "source": [
    "images=[gimage,rimage,iimage]\n",
    "plot_images(images)"
   ]
  },
  {
   "cell_type": "markdown",
   "metadata": {},
   "source": [
    "And finally make a three-color image from the output:"
   ]
  },
  {
   "cell_type": "code",
   "execution_count": null,
   "metadata": {},
   "outputs": [],
   "source": [
    "gimage2 = gimage-np.median(gimage)\n",
    "rimage2 = rimage-np.median(rimage)\n",
    "iimage2 = iimage-np.median(iimage)\n",
    "img = make_lupton_rgb(iimage2, rimage2, gimage2, Q=10, stretch=30) # Q=asinh softening parameter\n",
    "\n",
    "fig = plt.figure(figsize=[12,12])\n",
    "ax = fig.add_subplot(1,1,1)\n",
    "\n",
    "ax.imshow(img,origin='lower')\n",
    "ax.xaxis.set_visible(False)\n",
    "ax.yaxis.set_visible(False)"
   ]
  }
 ],
 "metadata": {
  "kernelspec": {
   "display_name": "Python 3",
   "language": "python",
   "name": "python3"
  },
  "language_info": {
   "codemirror_mode": {
    "name": "ipython",
    "version": 3
   },
   "file_extension": ".py",
   "mimetype": "text/x-python",
   "name": "python",
   "nbconvert_exporter": "python",
   "pygments_lexer": "ipython3",
   "version": "3.7.4"
  }
 },
 "nbformat": 4,
 "nbformat_minor": 2
}
