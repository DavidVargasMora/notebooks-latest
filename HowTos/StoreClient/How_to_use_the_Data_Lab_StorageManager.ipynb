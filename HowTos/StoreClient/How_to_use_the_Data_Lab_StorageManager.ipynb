{
 "cells": [
  {
   "cell_type": "code",
   "execution_count": null,
   "metadata": {},
   "outputs": [],
   "source": [
    "__author__ = 'M. Fitzpatrick <fitz@noao.edu>. M. Graham <graham@noao.edu>' # single string; emails in <>\n",
    "__version__ = '20180604' # yyyymmdd; version datestamp of this notebook\n",
    "__datasets__ = ['']      # datasets used"
   ]
  },
  {
   "cell_type": "markdown",
   "metadata": {},
   "source": [
    "## How to use the Data Lab *Storage Manager* Service\n",
    "\n",
    "*Revised:  June 04, 2018*\n",
    "\n",
    "This notebook documents how to use the Data Lab _virtual storage system_ via the Storage Manager service. This can be done either from a Python script (e.g. within this notebook) or from the command line using the <i>datalab</i> command.  The Storage Manager provides a simpler interface to the VOSpace system used on the backend to implement the Data Lab virtual storage.\n",
    "\n",
    "### The Storage Manager Web Service Interface\n",
    "\n",
    "The Storage Manager service simplifies access to the Data Lab virtual storage system. This section describes the storage manager service interface in case we want to write our own code against that rather than using one of the provided tools. The Storage Manager service accepts an HTTP GET or POST call and then makes the appropriate call to the VOSpace backend for the requested operation:\n",
    "\n",
    "| Endpoint | Description | Parameters | Client Interface |\n",
    "|----------|-------------|------------|:----------------:|\n",
    "| /get | Retrieve a file | name | res = get (fr \\[, to\\]) |\n",
    "| /put | Upload a file | name | put (fr, to) |\n",
    "| /cp | Copy a file/directory | from, to | cp (fr, to) |\n",
    "| /ln | Link a file/directory | from, to | ln (src, target) |\n",
    "| /ls | Get a file/directory listing | name | res = ls ([name]) |\n",
    "| /access | Determine file accessability | path, mode | bool = access (path \\[,mode\\]) |\n",
    "| /stat | File status info | path | stat_dict = stat (path) |\n",
    "| /mkdir | Create a directory | name | mkdir (name) |\n",
    "| /mv | Move/rename a file/directory | from, to | mv (fr, to) |\n",
    "| /rm | Delete a file | name | rm (name) |\n",
    "| /rmdir | Delete a directory | name | rmdir (name) |\n",
    "| /tag | Annotate a file/directory | name, tag | tag (name) |\n",
    "| /resolve | Resolve shorthand to full URI | name | res = resolve (name) |\n",
    "| /setProperty | Set a node property | name, prop, val | setProperty (name) |\n",
    "| /getProperty | Get a node property | name, prop | val = getProperty (name) |\n",
    "| | | | | |\n",
    "| /available | Service availability endpoint | N/A | N/A |\n",
    "| /profiles | List available service profiles | profile, format | res = get_profiles (profile) |\n",
    "| /debug | Toggle service debug flag | N/A | N/A |\n",
    "\n",
    "For example, a call to <i>http://datalab.noao.edu/storage/get?name=vos://mag.csv</i> will retrieve the file '_mag.csv_' from the root directory of the user's virtual storage.  Likewise, a python call using the _storeClient_ interface such as \"_storeClient.get('vos://mag.csv')_\" would get the same file.\n",
    "\n",
    "#### Virtual Storage Identifiers\n",
    "\n",
    "Files in the virtual storage are usually identified via the prefix \"_vos://_\". This shorthand identifier is resolved to a user's home directory of the storage space in the service.  As a convenience, the prefix may optionally be omitted when the parameter refers to a node in the virtual storage. Navigation above a user's home directory is not supported however subdirectories within the space may be created and used as needed.  \n",
    "\n",
    "If the '_vos_' prefix is instead the name of another user, and the remainder of the path grants public or group read/write access, then the other user's spaces will be accessed.  _Public spaces_ are specially created user accounts where all files are world-readable, otherwise it is typically only a user's \"_/public_\" directory that can be accessed (e.g. '_sarah://public/foo.fits_' will access the '_foo.fits_' file from user '_sarah_').  Users can make any file (or directory) public by moving it to (or creating a link in) their \"/public\" directory.\n",
    "\n",
    "#### User Authentication and Public Spaces\n",
    "The Storage Manager service requires a Data Lab token to be passed as the value of the HTTP header keyword \"X-DL-AuthToken\" in any call to the service. This token identifies the user and which space to access.  If the token is not supplied anonymous access is assumed but provides access only to public storage spaces.\n",
    "\n",
    "## From Python code\n",
    "\n",
    "The Storage Manager service can be called from Python code using the <i>datalab</i> client module. This provides methods to access the various Storage Manager functions in the <i>storeClient</i> subpackage. \n",
    "\n",
    "### Initialization\n",
    "This is the setup that is required to use the Storage Manager. The first thing to do is import the relevant Python modules and also retrieve our Data Lab security token.\n",
    "***\n",
    "\n",
    "### Standard Notebook Setup"
   ]
  },
  {
   "cell_type": "code",
   "execution_count": null,
   "metadata": {},
   "outputs": [],
   "source": [
    "# Standard notebook imports\n",
    "from __future__ import print_function   # Py2/Py3 compatability\n",
    "import getpass                          # for Data Lab login\n",
    "from dl import authClient               # for Data Lab login\n",
    "from dl import storeClient              # Storage Manager client interface"
   ]
  },
  {
   "cell_type": "markdown",
   "metadata": {},
   "source": [
    "#### Data Lab Login\n",
    "\n",
    "Logging into the Data Lab is only required when a user identity is required, i.e. when you wish to access protected resources such as virtual storage or MyDB.  If no token is provided, the _anonymous_ user is assumed.  Once you login, the token is saved and will automatically be passed to interface methods that require it;  If you wish to supply a different token, each interface method accepts a _token_ parameter argument.\n",
    "\n",
    "The first time this notebook is executed, login as the example _demo00_ user (passwd: _balatad_) in the cell below. Subsequent runs may skip this cell.  Note, this token will persist for other notebooks as well."
   ]
  },
  {
   "cell_type": "code",
   "execution_count": null,
   "metadata": {
    "scrolled": true
   },
   "outputs": [],
   "source": [
    "# Get the login token for the 'demo00' scratch user\n",
    "token = authClient.login ('demo00',getpass.getpass('Account password: '))\n",
    "if not authClient.isValidToken (token):\n",
    "    print ('Error: invalid user login (%s)' % token)\n",
    "else:\n",
    "    print (\"Login token:   %s\" % token)\n",
    "\n",
    "anon_tok = 'anonymous.0.0.anon_access'                            # EXAMPLES ONLY"
   ]
  },
  {
   "cell_type": "markdown",
   "metadata": {},
   "source": [
    "***\n",
    "## Client Interface Summary\n",
    "### Listing a file/directory\n",
    "\n",
    "We can see all the files that are in a specific directory or get a full listing for a specific file.  In this case, we'll list the default virtual storage directory to use as a basis for changes we'll make below.  Listing the virtual storage is done using the _**storeClient.ls()**_ method:\n",
    "\n",
    "        listing = storeClient.ls (name, token=None, format='csv', verbose=False)\n",
    "where:\n",
    "\n",
    "        name - A vos identifier of the space to be listed\n",
    "        token - Data Lab auth token to use when overriding login token\n",
    "        format - Requested listing format\n",
    "        verbose - Verbose output?\n",
    "\n",
    "Multiple _format_ options are supported:\n",
    "\n",
    "        raw - return the raw XML description of the storage nodes\n",
    "        csv - return a CSV listing of directory contents\n",
    "       list - return a single-file listing of directory contents\n",
    "      short - return a multi-column short listing of contents (similar to 'ls')\n",
    "       long - return a verbose long listing of contents (similar to 'ls -l')\n",
    "  \n",
    "Note that some formats are suitable only for displaying the listing."
   ]
  },
  {
   "cell_type": "code",
   "execution_count": null,
   "metadata": {},
   "outputs": [],
   "source": [
    "listing = storeClient.ls ('vos://public', format='short', verbose=True)\n",
    "print (listing)"
   ]
  },
  {
   "cell_type": "markdown",
   "metadata": {},
   "source": [
    "The _**storeClient.ls()**_ method (along with others in this interfaceO can be called with a variable number of arguments, i.e. in previous versions of the interface the 'token' was required to always be the first argument, however this is now optional.  Examples below show the use of hidden and explicit token arguments, pattern matching and the optional prefix usage.  Uncomment as desired to see each example."
   ]
  },
  {
   "cell_type": "code",
   "execution_count": null,
   "metadata": {},
   "outputs": [],
   "source": [
    "#listing = storeClient.ls ()                         # default CSV listing of root directory\n",
    "listing = storeClient.ls (format='short')        # single-column listing of root directory, no prefix\n",
    "#listing = storeClient.ls ('', format='list')        # single-column listing of root directory, no prefix\n",
    "#listing = storeClient.ls ('', format='short')        # single-column listing of root directory, no prefix\n",
    "#listing = storeClient.ls ('/', format='long')       # long listing of root directory, no prefix\n",
    "#listing = storeClient.ls ('/public', format='long') # long listing of sub-directory, no prefix\n",
    "#listing = storeClient.ls ('vos://t*')               # default CSV output with pattern matching\n",
    "#listing = storeClient.ls (token, '')                # default CSV output w/ supplied token arg (deprecated)\n",
    "#token = 'baweaver.1159.1159.$1$.IEbGBIK$PgJvZOt0M6AVrxP5pCmoc.'\n",
    "#listing = storeClient.ls ('vos://', token=token)    # default CSV output using hidden 'token' param\n",
    "print (listing)"
   ]
  },
  {
   "cell_type": "markdown",
   "metadata": {},
   "source": [
    "#### File Existence and Info\n",
    "\n",
    "Aside from simply listing files, it's possible to test whether a named file already exists or to determine more information about it. Existence testing is done using the _**storeClient.access()**_ method, a _**storeClient.stat()**_ method will get more information:\n",
    "\n",
    "         bool_val = storeClient.access (path [,mode=None,token=None])\n",
    "        stat_dict = storeClient.stat (path)"
   ]
  },
  {
   "cell_type": "code",
   "execution_count": null,
   "metadata": {},
   "outputs": [],
   "source": [
    "# A simple file existence test:\n",
    "#if storeClient.access ('public'):                  # simple filename check\n",
    "#if storeClient.access ('/public'):                 # leading path\n",
    "if storeClient.access ('vos://public'):             # full URI\n",
    "    print ('User \"public\" directory exists')\n",
    "if storeClient.access ('vos://public', mode='w'):   # available modes: 'r','w','rw'\n",
    "    print ('User \"public\" directory is grooup/world writable')\n",
    "else:\n",
    "    print ('User \"public\" directory is not group/world writable')\n",
    "    \n",
    "if storeClient.access ('vos://tmp'):             # full URI\n",
    "    print ('User \"tmp\" directory exists')        \n",
    "if storeClient.access ('vos://tmp', mode='w'):   # available modes: 'r','w','rw'\n",
    "    print ('User \"tmp\" directory is group/world writable')\n",
    "else:\n",
    "    print ('User \"tmp\" directory is not group/world writable')"
   ]
  },
  {
   "cell_type": "markdown",
   "metadata": {},
   "source": [
    "The _**stat()**_ methong returns a dictionary of node status values.  Returned fields include:\n",
    "\n",
    "        name            Name of node\n",
    "        groupread       List of group/owner names w/ read access\n",
    "        groupwrite      List of group/owner names w/ write access\n",
    "        publicread      Publicly readable (0=False, 1=True)\n",
    "        owner           Owner name\n",
    "        ctime           Creation time\n",
    "        perms           Formatted unix-like permission string\n",
    "        target          Node target if LinkNode\n",
    "        size            Size of file node (bytes)\n",
    "        type            Node type (container|data|link)"
   ]
  },
  {
   "cell_type": "code",
   "execution_count": null,
   "metadata": {},
   "outputs": [],
   "source": [
    "# More information about a file:  \n",
    "#stat = storeClient.stat('/doesnt_exist')\n",
    "stat = storeClient.stat('/public')\n",
    "if len(stat) == 0:\n",
    "    print ('Error: Node does not exist')\n",
    "else:\n",
    "    print ('  %s  %s   %s   %s' % (stat['perms'],stat['owner'],stat['ctime'],stat['name'])) "
   ]
  },
  {
   "cell_type": "markdown",
   "metadata": {},
   "source": [
    "##### Listing Public VOSpaces\n",
    "\n",
    "Public storage can be listed or accessed in the same way, except that the '_vos_' URI prefix is replaced with the name of the user or storage space.  For example, to list the contents of the \"/public' directory for user '_demo00_':"
   ]
  },
  {
   "cell_type": "code",
   "execution_count": null,
   "metadata": {},
   "outputs": [],
   "source": [
    "print (storeClient.ls ('demo00://public', format='long'))              # as current user\n",
    "print (storeClient.ls ('demo00://public', format='long', token=None))  # as anonymous user"
   ]
  },
  {
   "cell_type": "markdown",
   "metadata": {},
   "source": [
    "The *public* directory show here is visible to all Data Lab users and provides a means of sharing data without having to setup special access.  Conversely, the *tmp* directory is read-protected and provides a convenient temporary directory to be used in a workflow."
   ]
  },
  {
   "cell_type": "markdown",
   "metadata": {},
   "source": [
    "### Uploading and Downloading Files\n",
    "\n",
    "Now we want to upload a new data file from our local disk to the virtual storage for our account, or perhaps retrieve a file from virtual storage to our local disk or directly into the notebook.  Within the Jupyter environment the '_local disk_' refers to storage on the notebook server. Other methods are available for copying a file from your laptop/desktop computer or for saving query results to virtual storage, or for accessing remote files automatically.  \n",
    "\n",
    "Uploading/downloading files is done using the _**storeClient.put()**_ and _**storeClient.get()**_ methods respectively:\n",
    "\n",
    "        resp = storeClient.put (fr, to, token=None, verbose=True)\n",
    "        resp = storeClient.get (fr, to, token=None, verbose=True)\n",
    "where for _**put()**_:\n",
    "\n",
    "        fr - Source path to upload (e.g. './foo.fits')\n",
    "        to - Destination URI of file (e.g. 'vos://foo.fits', defaults to 'vos://' if not given)\n",
    "where for _**get()**_:\n",
    "\n",
    "        fr - URI path to download (e.g. 'vos://foo.fits')\n",
    "        to - Name of the local file to save, if not prov   \n",
    "        \n",
    "        token - Data Lab auth token to use when overriding login token\n",
    "        verbose - Verbose output?\n",
    "        \n",
    "Both method return a _[requests](http://docs.python-requests.org/en/master/)_ _Response_ object that can be used to check for status codes and error messages.\n",
    "        \n",
    "#### Uploading Files\n",
    "\n",
    "Assuming a local file called 'mags.csv' exists in the notebook directory, it can be moved to virtual storage as follows:"
   ]
  },
  {
   "cell_type": "code",
   "execution_count": null,
   "metadata": {},
   "outputs": [],
   "source": [
    "if not storeClient.access ('vos://test'):\n",
    "    resp = storeClient.mkdir ('vos://test')\n",
    "resp = storeClient.put ('./mags.csv', to='vos://mags.csv')\n",
    "print (resp)"
   ]
  },
  {
   "cell_type": "code",
   "execution_count": null,
   "metadata": {
    "scrolled": true
   },
   "outputs": [],
   "source": [
    "# List the directory before we upload\n",
    "print ('Before upload: /public\\n' + storeClient.ls ('/public',format='short'))\n",
    "\n",
    "print ('Transfering file \"mags.csv\" to public directory under same name...')\n",
    "resp = storeClient.put ('./mags.csv', to='public')\n",
    "#resp = storeClient.put ('./mags.csv', to='public/')\n",
    "#resp = storeClient.put ('./mags.csv', to='/public')\n",
    "#resp = storeClient.put ('./mags.csv', to='/public/')\n",
    "#resp = storeClient.put ('./mags.csv', to='vos://public')\n",
    "#resp = storeClient.put ('./mags.csv', to='vos://public/')\n",
    "print (resp)\n",
    "print ('Put successful' if resp == 'OK' else ('Put error: ' + resp))\n",
    "print ('After upload: /public\\n' + storeClient.ls ('/public',format='short'))\n",
    "\n",
    "print ('Transfering file \"mags.csv\" to public directory under different name...')\n",
    "resp = storeClient.put ('./mags.csv', to='public/xyzzy.csv')\n",
    "#resp = storeClient.put ('./mags.csv', to='/public/xyzzy.csv')\n",
    "#resp = storeClient.put ('./mags.csv', to='vos://public/xyzzy.csv')\n",
    "print ('Put successful' if resp == 'OK' else ('Put error: ' + resp))\n",
    "\n",
    "print ('\\nTransfering multiple files \"*.csv\"...')\n",
    "resp = storeClient.put ('./*.csv', to='vos://public')# put the file to vospace\n",
    "print ('Transfer status: ' + str(resp))\n",
    "\n",
    "# List the directory again to verify it is there\n",
    "print ('After upload: /public\\n' + storeClient.ls ('/public',format='short'))"
   ]
  },
  {
   "cell_type": "markdown",
   "metadata": {},
   "source": [
    "#### Downloading a file\n",
    "\n",
    "Let's say we want to download a file from our virtual storage space, in this case a query result that we saved to it in the \"_How to Use the Data Lab Query Manager Service_\" notebook.  When called with a single argument, the contents of the remote file are returned as the result of the _**get()**_ method call:"
   ]
  },
  {
   "cell_type": "code",
   "execution_count": null,
   "metadata": {},
   "outputs": [],
   "source": [
    "try:\n",
    "    data = storeClient.get ('public/mags.csv')                        # simple name\n",
    "    #data = storeClient.get ('/public/mags.csv')                      # path prefix\n",
    "    #data = storeClient.get ('vos://public/mags.csv')                 # full URI\n",
    "    #data = storeClient.get (token,'vos://public/mags.csv')            # explicit token\n",
    "    #data = storeClient.get (token, fr='vos://public/mags.csv',to='') # deprecated syntax\n",
    "    #data = storeClient.get ('/does_not_exist')                       # test access to non-existent file\n",
    "except Exception as e:\n",
    "    print ('Donwload error: ' + str(e))\n",
    "else:\n",
    "    print (data)"
   ]
  },
  {
   "cell_type": "markdown",
   "metadata": {},
   "source": [
    "To save the file to local disk, a second argument may be given to name the local file."
   ]
  },
  {
   "cell_type": "code",
   "execution_count": null,
   "metadata": {},
   "outputs": [],
   "source": [
    "resp = storeClient.get ('vos://public/mags.csv', './new_mymags.csv')\n",
    "#resp = storeClient.get ('mags.csv', 'new_mymags.csv')\n",
    "#resp = storeClient.get ('/mags.csv', './new_mymags.csv')\n",
    "#resp = storeClient.get (token, fr = 'vos://mags.csv', to = './new_mymags.csv') # deprecated syntax\n",
    "\n",
    "# When specifying an output name, the 'resp' is an array of \"OK\"\n",
    "# or error messages for each downloaded objects.\n",
    "print (\"Reponse: \" + repr(resp))\n",
    "\n",
    "# Use an escape to verify the local file was created then clean up\n",
    "!ls -l new_mymags.csv ; rm -f new_mymags.csv"
   ]
  },
  {
   "cell_type": "markdown",
   "metadata": {},
   "source": [
    "Multiple files may be downloaded by using a filename template:"
   ]
  },
  {
   "cell_type": "code",
   "execution_count": null,
   "metadata": {},
   "outputs": [],
   "source": [
    "!mkdir -p ./testdir                                            # create a local download directory\n",
    "try:\n",
    "    storeClient.get ('vos://public/*.csv', './testdir')       # get all public CSV files to this dir\n",
    "    #resp = storeClient.get ('vos://public/*.csv', './does_not_exist') # test download to non-existent directory\n",
    "except Exception as e:\n",
    "    print ('Download error: ' + str(e))\n",
    "!ls -l testdir ; /bin/rm -rf testdir                           # list it to verify and cleanup"
   ]
  },
  {
   "cell_type": "markdown",
   "metadata": {},
   "source": [
    "#### Saving Python Objects as Files\n",
    "\n",
    "Limited support for saving Python objects to files in virtual storage is provided by the _**storeClient.saveAs()**_ method.  This function save the _str()_ representation of the data to a named file in storage.\n",
    "\n",
    "        resp = storeClient.saveAs (data, name, token=None)\n",
    "where:\n",
    "\n",
    "        data - Data object to be saved\n",
    "        name - Path to file to create in storage (e.g. 'vos://foo.csv')\n"
   ]
  },
  {
   "cell_type": "code",
   "execution_count": null,
   "metadata": {},
   "outputs": [],
   "source": [
    "data = {'foo': 1, 'bar': 2}                     # test dictionary\n",
    "resp = storeClient.saveAs (data, \"vos://test1.dict\")\n",
    "print ('SaveAs response:  %s' % (resp))\n",
    "\n",
    "print(storeClient.ls('vos://',format='short'))  # verify it was saved\n",
    "\n",
    "str = storeClient.get('test1.dict')             # read it back\n",
    "print (\"String version: '%s'\" % str)"
   ]
  },
  {
   "cell_type": "markdown",
   "metadata": {},
   "source": [
    "#### Creating and Deleting Directories\n",
    "\n",
    "We can create a directory on the remote storage to be used for saving data, later deleting this directory will also automatically remove the contents.  Directories are created and removed using the _**storeClient.mkdir()**_ and _**storeClient.rmdir()**_ methods.\n",
    "\n",
    "        storeClient.mkdir (name, token=None)\n",
    "        storeClient.rmdir (name, token=None)\n",
    "where _name_ is the URI or pathname of the directory to create/remove."
   ]
  },
  {
   "cell_type": "code",
   "execution_count": null,
   "metadata": {},
   "outputs": [],
   "source": [
    "dirname = 'testdir'              # simple name\n",
    "#dirname = '/testdir'            # path prefix\n",
    "#dirname = 'vos://testdir'       # URI\n",
    "\n",
    "# Create a directory if it doesn't already exist\n",
    "if not storeClient.access (dirname):\n",
    "    print ('Creating test dir: ' + storeClient.mkdir (token, name=dirname))\n",
    "else:\n",
    "    print ('Error: test directory already exists')\n",
    "    \n",
    "# Now delete it\n",
    "if storeClient.access (dirname):\n",
    "    print ('Removing test dir: ' + storeClient.rmdir (token, name=dirname))\n",
    "else:\n",
    "    print ('Error: test directory does not exist')"
   ]
  },
  {
   "cell_type": "markdown",
   "metadata": {},
   "source": [
    "#### Copying a File or Directory\n",
    "\n",
    "Nodes (i.e. files or directories) in virtual storage may be copied to a new name or to other directories.\n",
    "Files and directories are copied using the _**storeClient.cp()**_ method.\n",
    "\n",
    "        resp = storeClient.cp (fr, to, token=None)\n",
    "where both the _fr_ and _to_ arguments are required and are the URI or pathname of the directory to copy."
   ]
  },
  {
   "cell_type": "code",
   "execution_count": null,
   "metadata": {},
   "outputs": [],
   "source": [
    "if storeClient.access ('/tmp/mags.csv'):\n",
    "    storeClient.rm ('/tmp/mags.csv')\n",
    "resp = storeClient.cp ('mags.csv', '/tmp')\n",
    "#resp = storeClient.cp ('*.csv', '/tmp', verbose=True)\n",
    "#resp = storeClient.cp (token, 'vos://mags.csv', 'vos://tmp/mags.csv')\n",
    "#resp = storeClient.cp (fr='vos://mags.csv', to='vos://tmp/mags.csv')\n",
    "#resp = storeClient.cp (token, fr='vos://mags.csv', to='vos://tmp/mags.csv')\n",
    "print ('Copy reponse: %s' % (resp))"
   ]
  },
  {
   "cell_type": "markdown",
   "metadata": {},
   "source": [
    "When copying multiple files to a directory, the response is an array of the individual response objects:"
   ]
  },
  {
   "cell_type": "code",
   "execution_count": null,
   "metadata": {},
   "outputs": [],
   "source": [
    "resp = storeClient.cp ('*.csv', '/tmp', verbose=True)\n",
    "print (resp)\n",
    "\n",
    "junk=storeClient.rm ('vos://tmp/mags.csv')          # clean up"
   ]
  },
  {
   "cell_type": "markdown",
   "metadata": {},
   "source": [
    "#### Linking to a file/directory\n",
    "\n",
    "Sometimes we want to create a link to a file or directory.  In this case, the link named by the *'fr'* parameter is created and points to the file/container named by the *'target'* parameter.  Links are created using the _**storeClient.ln()**_ method:\n",
    "\n",
    "        stat = storeClient.ln (fr, target, token=None, verbose=True)\n",
    "where\n",
    "\n",
    "            fr - Name/URI of the link to create\n",
    "        target - Name/URI of the link target\n",
    "        \n",
    "The _**ln()**_ method returns an \"OK\" string if the link was created, otherwise it throws an Exception to indicate the error. For example, to create a link named 'link.csv' that points to the 'mags.csv' file in our toplevel directory:"
   ]
  },
  {
   "cell_type": "code",
   "execution_count": null,
   "metadata": {},
   "outputs": [],
   "source": [
    "try:\n",
    "    if storeClient.access ('vos://link.csv'):\n",
    "        storeClient.rm ('vos://link.csv')\n",
    "    stat = storeClient.ln (token, fr = 'vos://link.csv', target = 'vos://mags.csv')\n",
    "except Exception as e:\n",
    "    print ('Link Error: ' + str(e))\n",
    "else:\n",
    "    print ('Link status = %s, info: %s' % (stat,storeClient.ls('link.csv',format='json')))\n",
    "print (\"Tmp dir after link:  \" + storeClient.ls (token, name='vos://'))"
   ]
  },
  {
   "cell_type": "markdown",
   "metadata": {},
   "source": [
    "#### Moving/Renaming a File or Directory\n",
    "\n",
    "Files and directories are moved (or renamed) using the _**storeClient.mv()**_ method.\n",
    "\n",
    "        resp = storeClient.mv (fr, to, token=None)\n",
    "where both the _fr_ and _to_ arguments are required and are the URI or pathname of the directory to move.  If the '_to_' parameter is an existing directory the '_fr_' file/directory is moved, otherwise it is renamed."
   ]
  },
  {
   "cell_type": "code",
   "execution_count": null,
   "metadata": {},
   "outputs": [],
   "source": [
    "print ('Before move: access() to /results/mags.csv = %s' % storeClient.access('/results/mags.csv'))\n",
    "\n",
    "resp = storeClient.mv(fr='mags.csv', to='/results/zz.csv')                    # simply names                  FIXME\n",
    "#resp = storeClient.mv('vos://zzz.csv', 'vos://results')         # full URI\n",
    "#resp = storeClient.mv(fr='vos://zzz.csv', to='vos://results')   # deprecated syntax\n",
    "#resp = storeClient.mv(token, 'vos://zzz.csv', 'results')  # specify token, mixed names\n",
    "#resp = storeClient.mv(token, fr='vos://zzz.csv', to='vos://results')\n",
    "print ('Move response:  %s' % (resp))\n",
    "\n",
    "print ('After move: access() to /results/zz.csv = %s' % storeClient.access('/results/zz.csv'))\n",
    "\n",
    "# FIXME -- Seems to be a bug in moving to the toplevel dir w/out filename\n",
    "#resp = storeClient.cp('vos://results/mags.csv', '/', verbose=True)  # put it back for next time\n",
    "#resp = storeClient.cp('vos://results/mags.csv', 'vos://', verbose=True)  # put it back for next time\n",
    "resp = storeClient.cp('vos://results/zz.csv', '/mags.csv', verbose=True)  # put it back for next time\n",
    "print ('Copy response:  %s' % (resp))"
   ]
  },
  {
   "cell_type": "markdown",
   "metadata": {},
   "source": [
    "Moving multiple files can be done using template strings as above:"
   ]
  },
  {
   "cell_type": "code",
   "execution_count": null,
   "metadata": {},
   "outputs": [],
   "source": [
    "print ('Root listing before move: \\n' + storeClient.ls (format='short'))\n",
    "print ('Public listing before move: \\n' + storeClient.ls ('/public',format='short'))\n",
    "\n",
    "storeClient.mv ('*.csv','/public')                     # move the file\n",
    "\n",
    "print ('Root listing after move: \\n' + storeClient.ls (format='short'))\n",
    "print ('Public listing after move: \\n' + storeClient.ls ('/public',format='short'))\n",
    "\n",
    "junk = storeClient.mv ('/public/*.csv','vos://')             # put them back for next time"
   ]
  },
  {
   "cell_type": "markdown",
   "metadata": {},
   "source": [
    "#### Deleting a File\n",
    "\n",
    "We can delete a file:\n",
    "Files deleted using the _**storeClient.rm()**_ method.\n",
    "\n",
    "        resp = storeClient.rm (name, token=None, verbose=False)\n",
    "where _name_ is required and specified as the URI or pathname of the file to remove.  Filename templates may be used to delete multiple files."
   ]
  },
  {
   "cell_type": "code",
   "execution_count": null,
   "metadata": {},
   "outputs": [],
   "source": [
    "# Upload a file to use as a test\n",
    "resp = storeClient.put ('./mags.csv', to='/rmtest.csv', verbose=False)\n",
    "print (\"Before: \" + storeClient.ls ('vos://'))\n",
    "\n",
    "# Delete the test file.  Note this returns status=204 on success\n",
    "resp = storeClient.rm ('vos://rmtest.csv')\n",
    "#resp = storeClient.rm (token, name = 'vos://mags.csv')\n",
    "print ('Remove response:  %s' % (resp))"
   ]
  },
  {
   "cell_type": "markdown",
   "metadata": {},
   "source": [
    "Now let's try deleting a non-existent file, i.e. the file we just removed:"
   ]
  },
  {
   "cell_type": "code",
   "execution_count": null,
   "metadata": {},
   "outputs": [],
   "source": [
    "if not storeClient.access ('vos://rmtest.csv'):           # verify it doesn't exist first\n",
    "    resp = storeClient.rm ('vos://rmtest.csv')\n",
    "    if resp != \"OK\":\n",
    "        print ('Remove error: %s ' % (resp))  \n",
    "    else:\n",
    "        print ('Removed non-existent file')"
   ]
  },
  {
   "cell_type": "markdown",
   "metadata": {},
   "source": [
    "Multiple files may be removed using filename templates.  Note that in this case the _rm()_ method returns an array of _Response_ objects."
   ]
  },
  {
   "cell_type": "code",
   "execution_count": null,
   "metadata": {},
   "outputs": [],
   "source": [
    "storeClient.mkdir ('rmtest')                               # create some test data\n",
    "storeClient.cp ('*.csv','rmtest',verbose=False)\n",
    "print ('Test directory: \\n' + storeClient.ls ('vos:///rmtest',format='short'))\n",
    "\n",
    "resp = storeClient.rm ('/rmtest/*.csv')\n",
    "print ('Remove status: ' + repr(resp) + '\\n----------\\n')"
   ]
  },
  {
   "cell_type": "markdown",
   "metadata": {},
   "source": [
    "Let's see what happens if we try to remove the directory:"
   ]
  },
  {
   "cell_type": "code",
   "execution_count": null,
   "metadata": {},
   "outputs": [],
   "source": [
    "print ('Root directory before removing \"rmtest\" dir: \\n' + storeClient.ls ('vos://',format='short'))\n",
    "storeClient.cp ('*.csv','rmtest',verbose=False)\n",
    "print ('rmtest directory before removing \"rmtest\" dir: \\n' + storeClient.ls ('vos:///rmtest',format='short'))\n",
    "\n",
    "resp = storeClient.rm ('/rmtest')\n",
    "print ('Remove status: ' + repr(resp))\n",
    "print ('Root directory after removing \"rmtest\" dir: \\n' + storeClient.ls ('vos://',format='short'))"
   ]
  },
  {
   "cell_type": "markdown",
   "metadata": {},
   "source": [
    "#### Deleting a directory\n",
    "\n",
    "We can also delete a directory, doing so also deletes the contents of that directory:\n",
    "Directories can be deleted using the _**storeClient.rmdir()**_ method.\n",
    "\n",
    "        resp = storeClient.rmdir (name, token=None, verbose=False)\n",
    "where _name_ is required and specified as the URI or pathname of the directory to remove.  Filename templates may be used to delete multiple directories.  Deleting a directory also deletes the contents of that directory:"
   ]
  },
  {
   "cell_type": "code",
   "execution_count": null,
   "metadata": {},
   "outputs": [],
   "source": [
    "storeClient.rmdir( token, name = 'vos://results2')"
   ]
  },
  {
   "cell_type": "markdown",
   "metadata": {},
   "source": [
    "#### Tagging a file/directory\n",
    "\n",
    "We can _tag_ any file or directory with arbitrary metadata."
   ]
  },
  {
   "cell_type": "code",
   "execution_count": null,
   "metadata": {},
   "outputs": [],
   "source": [
    "# FIXME -- This doesn't appear to work\n",
    "storeClient.tag(token, name = 'vos://results', tag = 'The results from my analysis')"
   ]
  },
  {
   "cell_type": "markdown",
   "metadata": {},
   "source": [
    "NOTE: We need a method to retrieve tags or include them in the listing."
   ]
  },
  {
   "cell_type": "markdown",
   "metadata": {},
   "source": [
    "#### Cleanup the demo directory of remaining files"
   ]
  },
  {
   "cell_type": "code",
   "execution_count": null,
   "metadata": {},
   "outputs": [],
   "source": [
    "storeClient.rm (token, name = 'vos://newmags.csv')\n",
    "storeClient.rm (token, name = 'vos://results')\n",
    "storeClient.ls (token, name = 'vos://')"
   ]
  },
  {
   "cell_type": "markdown",
   "metadata": {},
   "source": [
    "### Using the datalab command\n",
    "\n",
    "The <i>datalab</i> command provides an alternate command line way to work with the Storage Manager through the storage subcommands.\n",
    "\n",
    "#### Initialization\n",
    "We need to be logged into the Data Lab to use the Storage Manager."
   ]
  },
  {
   "cell_type": "code",
   "execution_count": null,
   "metadata": {},
   "outputs": [],
   "source": [
    "!datalab login user=demo00 password=..."
   ]
  },
  {
   "cell_type": "markdown",
   "metadata": {},
   "source": [
    "#### Downloading a file\n",
    "\n",
    "Let's say we want to download a file from our virtual storage space:"
   ]
  },
  {
   "cell_type": "code",
   "execution_count": null,
   "metadata": {},
   "outputs": [],
   "source": [
    "!datalab get fr=\"vos://mags.csv\" to=\"./mags.csv\""
   ]
  },
  {
   "cell_type": "markdown",
   "metadata": {},
   "source": [
    "#### Uploading a file\n",
    "\n",
    "Now we want to upload a new data file from our local disk:"
   ]
  },
  {
   "cell_type": "code",
   "execution_count": null,
   "metadata": {},
   "outputs": [],
   "source": [
    "!datalab put fr=\"./newmags.csv\" to=\"vos://newmags.csv\""
   ]
  },
  {
   "cell_type": "markdown",
   "metadata": {},
   "source": [
    "#### Copying a file/directory\n",
    "\n",
    "We want to put a copy of the file in a remote work directory:"
   ]
  },
  {
   "cell_type": "code",
   "execution_count": null,
   "metadata": {},
   "outputs": [],
   "source": [
    "!datalab cp fr=\"vos://newmags.csv\" to=\"vos://tmp/newmags.csv\""
   ]
  },
  {
   "cell_type": "markdown",
   "metadata": {},
   "source": [
    "#### Linking to a file/directory\n",
    "\n",
    "Sometimes we want to create a link to a file or directory:"
   ]
  },
  {
   "cell_type": "code",
   "execution_count": null,
   "metadata": {},
   "outputs": [],
   "source": [
    "!datalab ln fr=\"vos://tmp/mags.csv\" to=\"vos://mags.csv\""
   ]
  },
  {
   "cell_type": "markdown",
   "metadata": {},
   "source": [
    "#### Listing a file/directory\n",
    "\n",
    "We can see all the files that are in a specific directory or get a full listing for a specific file:"
   ]
  },
  {
   "cell_type": "code",
   "execution_count": null,
   "metadata": {},
   "outputs": [],
   "source": [
    "!datalab ls name=\"vos://tmp\""
   ]
  },
  {
   "cell_type": "markdown",
   "metadata": {},
   "source": [
    "#### Creating a directory\n",
    "\n",
    "We can create a directory:"
   ]
  },
  {
   "cell_type": "code",
   "execution_count": null,
   "metadata": {},
   "outputs": [],
   "source": [
    "!datalab mkdir name=\"vos://results\""
   ]
  },
  {
   "cell_type": "markdown",
   "metadata": {},
   "source": [
    "#### Moving/renaming a file/directory\n",
    "\n",
    "We can move a file or directory:"
   ]
  },
  {
   "cell_type": "code",
   "execution_count": null,
   "metadata": {},
   "outputs": [],
   "source": [
    "!datalab mv fr=\"vos://tmp/newmags.csv\" to=\"vos://results\""
   ]
  },
  {
   "cell_type": "markdown",
   "metadata": {},
   "source": [
    "#### Deleting a file\n",
    "\n",
    "We can delete a file:"
   ]
  },
  {
   "cell_type": "code",
   "execution_count": null,
   "metadata": {},
   "outputs": [],
   "source": [
    "!datalab rm name=\"vos://tmp/mags.csv\""
   ]
  },
  {
   "cell_type": "markdown",
   "metadata": {},
   "source": [
    "#### Deleting a directory\n",
    "\n",
    "We can also delete a directory:"
   ]
  },
  {
   "cell_type": "code",
   "execution_count": null,
   "metadata": {},
   "outputs": [],
   "source": [
    "!datalab rmdir name=\"vos://tmp\""
   ]
  },
  {
   "cell_type": "markdown",
   "metadata": {},
   "source": [
    "#### Tagging a file/directory\n",
    "\n",
    "We can tag any file or directory with arbitrary metadata:"
   ]
  },
  {
   "cell_type": "code",
   "execution_count": null,
   "metadata": {},
   "outputs": [],
   "source": [
    "!datalab tag name=\"vos://results\" tag=\"The results from my analysis\""
   ]
  }
 ],
 "metadata": {
  "anaconda-cloud": {},
  "kernelspec": {
   "display_name": "Python 3",
   "language": "python",
   "name": "python3"
  },
  "language_info": {
   "codemirror_mode": {
    "name": "ipython",
    "version": 3
   },
   "file_extension": ".py",
   "mimetype": "text/x-python",
   "name": "python",
   "nbconvert_exporter": "python",
   "pygments_lexer": "ipython3",
   "version": "3.6.2"
  }
 },
 "nbformat": 4,
 "nbformat_minor": 1
}
