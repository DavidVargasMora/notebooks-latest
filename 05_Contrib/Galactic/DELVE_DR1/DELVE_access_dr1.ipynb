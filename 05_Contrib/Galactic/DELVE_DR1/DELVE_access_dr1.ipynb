{
 "cells": [
  {
   "cell_type": "code",
   "execution_count": null,
   "metadata": {},
   "outputs": [],
   "source": [
    "__author__ = 'Knut Olsen <knut.olsen@noirlab.edu' # single string; emails in <>\n",
    "__version__ = '20210107' # yyyymmdd; version datestamp of this notebook\n",
    "__datasets__ = ['delve']  # datasets used in this notebook; for available datasets, see cell \"Available datasets in Data Lab\" further below\n",
    "__keywords__ = [''], # keywords relevant to this notebook, e.g. ['science case','dwarf galaxies'] Use only keywords from the master list: https://github.com/noaodatalab/notebooks-latest/blob/master/internal/keywords.txt"
   ]
  },
  {
   "cell_type": "markdown",
   "metadata": {},
   "source": [
    "# Accessing the DELVE DR1 catalog\n",
    "*Knut Olsen* and the DELVE Team"
   ]
  },
  {
   "cell_type": "markdown",
   "metadata": {},
   "source": [
    "### Table of contents\n",
    "* [Summary](#summary)\n",
    "* [Disclaimer & Attribution](#attribution)\n",
    "* [Imports & setup](#import)\n",
    "* [Accessing the database](#database)\n",
    "* [Resources and references](#resources)"
   ]
  },
  {
   "cell_type": "markdown",
   "metadata": {},
   "source": [
    "<a class=\"anchor\" id=\"summary\"></a>\n",
    "\n",
    "# Summary\n",
    "This is a brief intro to using the DELVE DR1 catalog through Data Lab."
   ]
  },
  {
   "cell_type": "markdown",
   "metadata": {},
   "source": [
    "<a class=\"anchor\" id=\"attribution\"></a>\n",
    "# Disclaimer & attribution\n",
    "If you use this notebook for your published science, please acknowledge the following:\n",
    "\n",
    "* Data Lab concept paper: Fitzpatrick et al., \"The NOAO Data Laboratory: a conceptual overview\", SPIE, 9149, 2014, http://dx.doi.org/10.1117/12.2057445\n",
    "\n",
    "* Data Lab disclaimer: http://datalab.noao.edu/disclaimers.php"
   ]
  },
  {
   "cell_type": "markdown",
   "metadata": {},
   "source": [
    "<a class=\"anchor\" id=\"import\"></a>\n",
    "# Imports and setup"
   ]
  },
  {
   "cell_type": "code",
   "execution_count": null,
   "metadata": {},
   "outputs": [],
   "source": [
    "# std lib\n",
    "from getpass import getpass\n",
    "import os\n",
    "import time\n",
    "\n",
    "# 3rd party # remove imports that are not needed\n",
    "import numpy as np\n",
    "import pylab as plt\n",
    "import matplotlib\n",
    "import healpy as hp\n",
    "%matplotlib inline\n",
    "\n",
    "# Data Lab\n",
    "from dl import authClient as ac, queryClient as qc, storeClient as sc\n",
    "from dl.helpers.utils import convert"
   ]
  },
  {
   "cell_type": "markdown",
   "metadata": {},
   "source": [
    "<a class=\"anchor\" id=\"database\"></a>\n",
    "# Accessing the database"
   ]
  },
  {
   "cell_type": "markdown",
   "metadata": {},
   "source": [
    "First check that you're logged in.  If not, use the commented code to log in to the server.  Your token is stored on the server, so you will remain logged in unless you explicitly log out."
   ]
  },
  {
   "cell_type": "code",
   "execution_count": null,
   "metadata": {},
   "outputs": [],
   "source": [
    "ac.whoAmI()\n",
    "# token = ac.login(input(\"Enter user name: (+ENTER) \"),getpass(\"Enter password: (+ENTER) \"))"
   ]
  },
  {
   "cell_type": "markdown",
   "metadata": {},
   "source": [
    "### List the columns\n",
    "You can use the queryClient.schema() method to list the column names of the DELVE object table.  The column descriptions are empty for now."
   ]
  },
  {
   "cell_type": "code",
   "execution_count": null,
   "metadata": {},
   "outputs": [],
   "source": [
    "# schema and table names\n",
    "wide_schema = 'delve_dr1'\n",
    "wide_object = 'objects'"
   ]
  },
  {
   "cell_type": "code",
   "execution_count": null,
   "metadata": {},
   "outputs": [],
   "source": [
    "print(qc.schema(wide_schema))"
   ]
  },
  {
   "cell_type": "markdown",
   "metadata": {},
   "source": [
    "### A basic query\n",
    "We'll make a basic query, and return the output as a Pandas dataframe.  You can write your query as SQL (Postgres)."
   ]
  },
  {
   "cell_type": "code",
   "execution_count": null,
   "metadata": {},
   "outputs": [],
   "source": [
    "sql = '''SELECT * FROM {} LIMIT 10'''.format(wide_schema+'.'+wide_object)\n",
    "\n",
    "print(sql)\n",
    "df = qc.query(sql=sql,fmt='pandas')"
   ]
  },
  {
   "cell_type": "code",
   "execution_count": null,
   "metadata": {},
   "outputs": [],
   "source": [
    "df"
   ]
  },
  {
   "cell_type": "markdown",
   "metadata": {},
   "source": [
    "If your query will take longer than the max timeout of 600 seconds, you can run it asynchronously as an ADQL query.  The function below will issue the query and poll for the job to be completed.  If you don't want to wait, you could set the query running and come back later to check its status."
   ]
  },
  {
   "cell_type": "code",
   "execution_count": null,
   "metadata": {},
   "outputs": [],
   "source": [
    "def longquery(query,fmt='pandas'):\n",
    "    jobId = qc.query(adql=query, async_=True)\n",
    "    print(jobId)\n",
    "    status='RUNNING'\n",
    "    while status != 'COMPLETED' and status != 'ERROR':\n",
    "        status = qc.status(jobId=jobId)\n",
    "        print(\"status: %s\" % status)\n",
    "        time.sleep(5)\n",
    "    if status == 'ERROR':\n",
    "        print(\"ERROR results....\")\n",
    "        response = qc.error(jobId=jobId)\n",
    "    else:\n",
    "        response = convert(qc.results(jobId=jobId), outfmt=fmt)\n",
    "        \n",
    "    return response"
   ]
  },
  {
   "cell_type": "code",
   "execution_count": null,
   "metadata": {},
   "outputs": [],
   "source": [
    "adql = '''SELECT TOP 1000 * FROM {}'''.format(wide_schema+'.'+wide_object)"
   ]
  },
  {
   "cell_type": "code",
   "execution_count": null,
   "metadata": {},
   "outputs": [],
   "source": [
    "dfa = longquery(adql,fmt='pandas')"
   ]
  },
  {
   "cell_type": "markdown",
   "metadata": {},
   "source": [
    "### Another basic query\n",
    "Here we'll look for objects associated with a specific exposure number."
   ]
  },
  {
   "cell_type": "code",
   "execution_count": null,
   "metadata": {},
   "outputs": [],
   "source": [
    "%%time\n",
    "sql = '''SELECT * FROM {} WHERE expnum_g=605691'''.format(wide_schema+'.'+wide_object)\n",
    "df1 = qc.query(sql=sql,fmt='pandas')"
   ]
  },
  {
   "cell_type": "markdown",
   "metadata": {},
   "source": [
    "### A cone search\n",
    "Data Lab uses Q3C indices to speed up cone search queries.  Here's an example:"
   ]
  },
  {
   "cell_type": "code",
   "execution_count": null,
   "metadata": {},
   "outputs": [],
   "source": [
    "ra,dec = df1['ra'][0],df1['dec'][0]"
   ]
  },
  {
   "cell_type": "code",
   "execution_count": null,
   "metadata": {},
   "outputs": [],
   "source": [
    "sql = '''SELECT ra,dec,mag_auto_g,mag_auto_i FROM {2} where Q3C_RADIAL_QUERY(ra,dec,{0},{1},1.2)'''.format(ra,dec,wide_schema+'.'+wide_object)\n",
    "print(sql)"
   ]
  },
  {
   "cell_type": "code",
   "execution_count": null,
   "metadata": {},
   "outputs": [],
   "source": [
    "%%time\n",
    "dfr = qc.query(sql=sql,fmt='pandas')"
   ]
  },
  {
   "cell_type": "code",
   "execution_count": null,
   "metadata": {},
   "outputs": [],
   "source": [
    "print(len(dfr))"
   ]
  },
  {
   "cell_type": "code",
   "execution_count": null,
   "metadata": {},
   "outputs": [],
   "source": [
    "plt.figure(figsize=(8,8))\n",
    "plt.hexbin(dfr['ra'],dfr['dec'])\n",
    "plt.xlabel('RA')\n",
    "plt.ylabel('Dec')"
   ]
  },
  {
   "cell_type": "code",
   "execution_count": null,
   "metadata": {},
   "outputs": [],
   "source": [
    "plt.figure(figsize=(8,8))\n",
    "plt.hexbin(dfr['mag_auto_g']-dfr['mag_auto_i'],dfr['mag_auto_g'],extent=(-1,4,14,24))\n",
    "plt.xlim(-1,4)\n",
    "plt.ylim(24,14)\n",
    "plt.xlabel('g-i')\n",
    "plt.ylabel('g')"
   ]
  },
  {
   "cell_type": "markdown",
   "metadata": {},
   "source": [
    "### Make a density map\n",
    "Here we'll issue a query that aggregates objects by their Healpix ID on an NSIDE=256 RING scheme, and display the object density map."
   ]
  },
  {
   "cell_type": "code",
   "execution_count": null,
   "metadata": {},
   "outputs": [],
   "source": [
    "%%time\n",
    "sql = '''SELECT AVG(ra) AS ra0,AVG(dec) AS dec0,COUNT(ra) as nb,ring256 FROM {} GROUP BY ring256'''.format(wide_schema+'.'+wide_object)\n",
    "df2 = qc.query(sql=sql,fmt='pandas')"
   ]
  },
  {
   "cell_type": "code",
   "execution_count": null,
   "metadata": {},
   "outputs": [],
   "source": [
    "map = np.zeros(hp.nside2npix(256))\n",
    "map[df2['ring256']] = df2['nb']"
   ]
  },
  {
   "cell_type": "code",
   "execution_count": null,
   "metadata": {},
   "outputs": [],
   "source": [
    "lon=np.arange(3600)/10\n",
    "lat=np.zeros(3600)\n",
    "plt.figure(figsize=(8,8))\n",
    "hp.orthview(map,rot=(180,-30),min=0,max=10000,half_sky=True,fig=1,coord='C',notext=True)\n",
    "hp.graticule(c='w')\n",
    "foo=hp.projplot(lon,lat,'ro',coord='G',lonlat=True,markersize=1)"
   ]
  },
  {
   "cell_type": "markdown",
   "metadata": {},
   "source": [
    "### Star/galaxy separation in DELVE-WIDE\n",
    "The delve_dr1.objects catalog has several columns, named extended_class[g,r,i,z], that contain a morphological class based on the spread_model parameter.  Objects with extended_class = 0 are likely point sources."
   ]
  },
  {
   "cell_type": "code",
   "execution_count": null,
   "metadata": {},
   "outputs": [],
   "source": [
    "# select point sources with g-r<0.75, 19.5<g<22, and gerr<0.2\n",
    "delvequery = \"\"\"SELECT avg(ra) as ra0,avg(dec) as dec0,hpx2048,count(hpx2048) as nb\n",
    "           FROM {}\n",
    "           WHERE \n",
    "           AND (mag_auto_g-mag_auto_r)<0.75 AND mag_auto_g>19.5 AND magerr_auto_g<0.2\n",
    "           AND extended_class_g = 0 AND extended_class_r = 0\n",
    "           GROUP BY hpx2048\n",
    "        \"\"\".format(wide_schema+'.'+wide_object)\n",
    "print(delvequery)"
   ]
  },
  {
   "cell_type": "code",
   "execution_count": null,
   "metadata": {},
   "outputs": [],
   "source": [
    "%%time\n",
    "df_ps = qc.query(sql = delvequery, fmt='pandas', timeout=600)"
   ]
  },
  {
   "cell_type": "code",
   "execution_count": null,
   "metadata": {},
   "outputs": [],
   "source": [
    "map_ps = np.zeros(hp.nside2npix(2048))\n",
    "map_ps[df_ps['hpx2048']] = df_ps['nb'] # NB: hpx2048 is on the NESTed scheme"
   ]
  },
  {
   "cell_type": "code",
   "execution_count": null,
   "metadata": {},
   "outputs": [],
   "source": [
    "plt.figure(figsize=(10,10))\n",
    "hp.orthview(map_ps,rot=(180,-30),min=0,max=10,half_sky=True,fig=1,coord='C',notext=True,nest=True)\n",
    "hp.graticule(c='w')\n",
    "foo=hp.projplot(lon,lat,'ro',coord='G',lonlat=True,markersize=1)"
   ]
  },
  {
   "cell_type": "markdown",
   "metadata": {},
   "source": [
    "The map might look smoother if we downgrade the resolution a bit."
   ]
  },
  {
   "cell_type": "code",
   "execution_count": null,
   "metadata": {},
   "outputs": [],
   "source": [
    "map_ps256 = hp.ud_grade(map_ps,256,order_in='NESTED',order_out='NESTED')"
   ]
  },
  {
   "cell_type": "code",
   "execution_count": null,
   "metadata": {},
   "outputs": [],
   "source": [
    "plt.figure(figsize=(10,10))\n",
    "hp.orthview(map_ps256,rot=(180,-30),min=0,max=10,half_sky=True,fig=1,coord='C',notext=True,nest=True)\n",
    "hp.graticule(c='w')\n",
    "foo=hp.projplot(lon,lat,'ro',coord='G',lonlat=True,markersize=1)"
   ]
  },
  {
   "cell_type": "markdown",
   "metadata": {},
   "source": [
    "### More info\n",
    "Have a look at the HowTos and Science Examples folders in the notebooks directory for other things you might want to learn how to do."
   ]
  },
  {
   "cell_type": "markdown",
   "metadata": {},
   "source": [
    "<a class=\"anchor\" id=\"resources\"></a>\n",
    "# Resources and references\n"
   ]
  },
  {
   "cell_type": "code",
   "execution_count": null,
   "metadata": {},
   "outputs": [],
   "source": []
  }
 ],
 "metadata": {
  "kernelspec": {
   "display_name": "Python 3",
   "language": "python",
   "name": "python3"
  },
  "language_info": {
   "codemirror_mode": {
    "name": "ipython",
    "version": 3
   },
   "file_extension": ".py",
   "mimetype": "text/x-python",
   "name": "python",
   "nbconvert_exporter": "python",
   "pygments_lexer": "ipython3",
   "version": "3.7.6"
  }
 },
 "nbformat": 4,
 "nbformat_minor": 4
}
