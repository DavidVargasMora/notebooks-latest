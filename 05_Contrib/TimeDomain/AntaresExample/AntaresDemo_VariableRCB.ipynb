{
 "cells": [
  {
   "cell_type": "code",
   "execution_count": 46,
   "metadata": {},
   "outputs": [],
   "source": [
    "__author__ = 'Chien-Hsiu Lee <lee@noao.edu>, Thomas Matheson <matheson@noao.edu>'\n",
    "__version__ = '20200114' # yyyymmdd\n",
    "__datasets__ = ['']\n",
    "__keywords__ = ['ANTARES', 'variable']"
   ]
  },
  {
   "cell_type": "markdown",
   "metadata": {},
   "source": [
    "# Exploring Elastic Search Database to Find R Corona Borealis Stars\n",
    "\n",
    "*Chien-Hsiu Lee, Thomas Matheson & ANTARES Team*"
   ]
  },
  {
   "cell_type": "markdown",
   "metadata": {},
   "source": [
    "### Table of contents\n",
    "* [Goals & notebook summary](#goals)\n",
    "* [Disclaimer & Attribution](#attribution)\n",
    "* [Imports & setup](#import)\n",
    "* [Authentication](#auth)\n",
    "* [First chapter](#chapter1)\n",
    "* [Resources and references](#resources)"
   ]
  },
  {
   "cell_type": "markdown",
   "metadata": {},
   "source": [
    "<a class=\"anchor\" id=\"goals\"></a>\n",
    "# Goals\n",
    "This notebook is an example of how to explore the ANTARES alert database for variable stars. Here we use the infrared color selection of candidate R Coronae Borealise stars, and search the ZTF time-series photometry to see if there are unknown R CrBs revealing themselves by a significant, irregular dimming (up to 8 mag)."
   ]
  },
  {
   "cell_type": "markdown",
   "metadata": {},
   "source": [
    "# Summary\n",
    "We first obtain the candidate R CrBs from WISE color, selected by Tisserand et al. (2012). We then use the ANTARES search API to find time-series photometry of each candidate, and looked for R CrBs candidates that show more than 2 magnitude variability in either g- or r-band. In the end, we use ZTF18abhjrcf as a showcase."
   ]
  },
  {
   "cell_type": "markdown",
   "metadata": {},
   "source": [
    "# Disclaimer & attribution\n",
    "If you use this notebook for your published science, please acknowledge the following:\n",
    "\n",
    "* Data Lab concept paper: Fitzpatrick et al., \"The NOAO Data Laboratory: a conceptual overview\", SPIE, 9149, 2014, http://dx.doi.org/10.1117/12.2057445\n",
    "\n",
    "* Data Lab disclaimer: http://datalab.noao.edu/disclaimers.php"
   ]
  },
  {
   "cell_type": "markdown",
   "metadata": {},
   "source": [
    "<a class=\"anchor\" id=\"import\"></a>\n",
    "# Imports and setup"
   ]
  },
  {
   "cell_type": "code",
   "execution_count": 41,
   "metadata": {},
   "outputs": [],
   "source": [
    "#we first call ANTARES libraries\n",
    "from antares import dev_kit as dk\n",
    "# Configure connections to the test database.\n",
    "engine.init()\n",
    "#Other package to import\n",
    "from astropy.io import ascii\n",
    "#import numpy as np\n",
    "import matplotlib.pyplot as plt\n"
   ]
  },
  {
   "cell_type": "markdown",
   "metadata": {},
   "source": [
    "<a class=\"anchor\" id=\"import\"></a>\n",
    "# Reading in relevant table(s)"
   ]
  },
  {
   "cell_type": "code",
   "execution_count": 42,
   "metadata": {},
   "outputs": [],
   "source": [
    "#We use the candidate list from Tisserand (2012), dropping candidates below Dec<-30 (in the ZTF field).\n",
    "#Here we read in the list of candidate, specifically their ra and dec.\n",
    "tab=ascii.read('WISE_RCrB.dat')\n",
    "ra, dec = tab['col1'], tab['col2']\n"
   ]
  },
  {
   "cell_type": "markdown",
   "metadata": {},
   "source": [
    "<a class=\"anchor\" id=\"import\"></a>\n",
    "# Querying ANTARES alert database with search API, and search for variabilities larger than 2 mag in either g or r-band."
   ]
  },
  {
   "cell_type": "code",
   "execution_count": 43,
   "metadata": {},
   "outputs": [
    {
     "name": "stdout",
     "output_type": "stream",
     "text": [
      "Iteration:  228\n",
      "Iteration:  229\n",
      "Got a hit on locus_id:  231020\n",
      "Iteration:  230\n",
      "Got a hit on locus_id:  425493\n"
     ]
    }
   ],
   "source": [
    "#This cell shows how to call elastic search. It can be ZTF object id, RA, Dec, or other properties.\n",
    "from antares_client.search import search\n",
    "#for i in range(len(ra)): #this line will search for the full candidate list for variability\n",
    "for i in [228, 229, 230]: #for illustration purpose, we only search variability in three of the candidate \n",
    "    print(\"Iteration: \",i)\n",
    "    query = {\n",
    "        \"query\": {\n",
    "            \"bool\": {\n",
    "                \"must\": [\n",
    "                    {\n",
    "                        \"range\": {\n",
    "                            \"ra\": {\n",
    "                                \"gte\": ra[i]-1./3600.,\n",
    "                                \"lte\": ra[i]+1./3600.,\n",
    "                            }\n",
    "                        }\n",
    "                    },\n",
    "                    {\n",
    "                        \"range\": {\n",
    "                            \"dec\": {\n",
    "                                \"gte\": dec[i]-1./3600.,\n",
    "                                \"lte\": dec[i]+1./3600.\n",
    "                            }\n",
    "                        }\n",
    "                    }\n",
    "                 ]\n",
    "            }\n",
    "        }\n",
    "    }\n",
    "    result_set = search(query)\n",
    "    rdate=[]\n",
    "    rmag=[]\n",
    "    rerr=[]\n",
    "    gdate=[]\n",
    "    gmag=[]\n",
    "    gerr=[]\n",
    "    \n",
    "    for i in range(len(result_set)):\n",
    "        if result_set[i][\"survey\"] == 1 and len(result_set[i][\"properties\"])>0 and result_set[i][\"properties\"][\"ztf_fid\"] == '1' :\n",
    "            gdate.append(float(result_set[i][\"properties\"][\"ztf_jd\"]))\n",
    "            gmag.append(float(result_set[i][\"properties\"][\"ztf_magpsf\"]))\n",
    "            gerr.append(float(result_set[i][\"properties\"][\"ztf_sigmapsf\"]))\n",
    "        if result_set[i][\"survey\"] == 1 and len(result_set[i][\"properties\"]) > 0 and result_set[i][\"properties\"][\"ztf_fid\"] == '2' :\n",
    "            rdate.append(float(result_set[i][\"properties\"][\"ztf_jd\"]))\n",
    "            rmag.append(float(result_set[i][\"properties\"][\"ztf_magpsf\"]))\n",
    "            rerr.append(float(result_set[i][\"properties\"][\"ztf_sigmapsf\"]))\n",
    "    if len(gmag)>0 and max(gmag)-min(gmag) > 2.: \n",
    "        print(\"Got a hit on locus_id: \",result_set[i][\"locus_id\"])\n",
    "    if len(rmag)>0 and max(rmag)-min(rmag) > 2.:\n",
    "        print(\"Got a hit on locus_id: \",result_set[i][\"locus_id\"])\n",
    "\n",
    "\n"
   ]
  },
  {
   "cell_type": "markdown",
   "metadata": {},
   "source": [
    "<a class=\"anchor\" id=\"import\"></a>\n",
    "# Looks like we got a hit. Let's have a look at the last one (locus_id 425493). We first extract relevant properties (MJD, Mag, Mag_err) from the locus."
   ]
  },
  {
   "cell_type": "code",
   "execution_count": 44,
   "metadata": {},
   "outputs": [],
   "source": [
    "#extracting light curve related properties\n",
    "rdate=[]\n",
    "rmag=[]\n",
    "rerr=[]\n",
    "gdate=[]\n",
    "gmag=[]\n",
    "gerr=[]\n",
    "\n",
    "for i in range(len(result_set)):\n",
    "    if result_set[i][\"survey\"] == 1 and result_set[i][\"properties\"][\"ztf_fid\"] == '1' :\n",
    "        gdate.append(float(result_set[i][\"properties\"][\"ztf_jd\"]))\n",
    "        gmag.append(float(result_set[i][\"properties\"][\"ztf_magpsf\"]))\n",
    "        gerr.append(float(result_set[i][\"properties\"][\"ztf_sigmapsf\"]))\n",
    "    if result_set[i][\"survey\"] == 1 and result_set[i][\"properties\"][\"ztf_fid\"] == '2' :\n",
    "        rdate.append(float(result_set[i][\"properties\"][\"ztf_jd\"]))\n",
    "        rmag.append(float(result_set[i][\"properties\"][\"ztf_magpsf\"]))\n",
    "        rerr.append(float(result_set[i][\"properties\"][\"ztf_sigmapsf\"]))\n"
   ]
  },
  {
   "cell_type": "markdown",
   "metadata": {},
   "source": [
    "<a class=\"anchor\" id=\"import\"></a>\n",
    "# Having the time-series photometry in hand, we can plot the light curve. Voila, here is a new R CrB star!"
   ]
  },
  {
   "cell_type": "code",
   "execution_count": 45,
   "metadata": {},
   "outputs": [
    {
     "data": {
      "text/plain": [
       "<function matplotlib.pyplot.show(*args, **kw)>"
      ]
     },
     "execution_count": 45,
     "metadata": {},
     "output_type": "execute_result"
    },
    {
     "data": {
      "image/png": "[encoded data removed]",
      "text/plain": [
       "<Figure size 432x288 with 1 Axes>"
      ]
     },
     "metadata": {
      "needs_background": "light"
     },
     "output_type": "display_data"
    }
   ],
   "source": [
    "#plot light curve\n",
    "plt.ylim(max(gmag)+0.1*(max(gmag)-min(gmag)),min(rmag)-0.1*(max(rmag)-min(rmag)))\n",
    "plt.scatter(rdate, rmag, c='red', alpha=0.5)\n",
    "plt.scatter(gdate, gmag, c='green', alpha=0.5)\n",
    "plt.show"
   ]
  },
  {
   "cell_type": "markdown",
   "metadata": {},
   "source": [
    "# Resources and references\n",
    "Further reading:\n",
    "\n",
    "Tisserand (2012) \"Tracking down R Coronae Borealis stars from their mid-infrared WISE colours\". A&A, 539, 51: https://ui.adsabs.harvard.edu/abs/2012A&A...539A..51T\n",
    "\n",
    "Tisserand et al. (2013) \"The ongoing pursuit of R Coronae Borealis stars: the ASAS-3 survey strikes again\". A&A, 551, 22: https://ui.adsabs.harvard.edu/abs/2013A&A...551A..77T"
   ]
  }
 ],
 "metadata": {
  "kernelspec": {
   "display_name": "Python 3 (ANTARES)",
   "language": "python",
   "name": "antares_py3.7"
  },
  "language_info": {
   "codemirror_mode": {
    "name": "ipython",
    "version": 3
   },
   "file_extension": ".py",
   "mimetype": "text/x-python",
   "name": "python",
   "nbconvert_exporter": "python",
   "pygments_lexer": "ipython3",
   "version": "3.7.3"
  }
 },
 "nbformat": 4,
 "nbformat_minor": 2
}
