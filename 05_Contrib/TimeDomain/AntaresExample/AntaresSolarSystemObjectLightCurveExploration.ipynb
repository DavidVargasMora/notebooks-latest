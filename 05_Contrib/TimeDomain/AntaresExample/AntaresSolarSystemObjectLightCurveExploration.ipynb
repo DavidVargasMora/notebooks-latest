{
 "cells": [
  {
   "cell_type": "code",
   "execution_count": 1,
   "metadata": {},
   "outputs": [],
   "source": [
    "__author__ = 'Chien-Hsiu Lee <lee@noao.edu> and Thomas Matheson <matheson@noao.edu>'\n",
    "__version__ = '20200806' # yyyymmdd\n",
    "__datasets__ = ['']\n",
    "__keywords__ = ['ANTARES', 'movingobject']"
   ]
  },
  {
   "cell_type": "markdown",
   "metadata": {},
   "source": [
    "# Exploring Elastic Search Database to Investigate Moving Object Lightcurves\n",
    "\n",
    "*Chien-Hsiu Lee, Thomas Matheson & ANTARES Team*"
   ]
  },
  {
   "cell_type": "markdown",
   "metadata": {},
   "source": [
    "### Table of contents\n",
    "* [Goals & notebook summary](#goals)\n",
    "* [Disclaimer & Attribution](#attribution)\n",
    "* [Imports & setup](#import)\n",
    "* [Authentication](#auth)\n",
    "* [First chapter](#chapter1)\n",
    "* [Resources and references](#resources)"
   ]
  },
  {
   "cell_type": "markdown",
   "metadata": {},
   "source": [
    "<a class=\"anchor\" id=\"goals\"></a>\n",
    "# Goals\n",
    "This notebook is an example of how to explore the ANTARES alert database for moving objects. ZTF searches moving object database (JPL/HORIZON) and associates alerts to known moving objects. This piece of information is stored in the ANTARES alert database, so we can conveniently use the moving object information in the alerts to extract light curves."
   ]
  },
  {
   "cell_type": "markdown",
   "metadata": {},
   "source": [
    "# Summary\n",
    "\n",
    "Moving objects may undergo abrupt brightnes change due to outgassing activities or disintegration, which can be identified in their light curves. There is also a group of binary asteroids that manifest periodic brightness change.\n",
    "\n",
    "As a showcase, we obtain the light curve of 809 Lundia, a known binary asteroids with prominent eclipses. We then remove the long-term trend in the light curve and fold with its period to reveal the binary eclipses."
   ]
  },
  {
   "cell_type": "markdown",
   "metadata": {},
   "source": [
    "# Disclaimer & attribution\n",
    "If you use this notebook for your published science, please acknowledge the following:\n",
    "\n",
    "* Data Lab concept paper: Fitzpatrick et al., \"The NOAO Data Laboratory: a conceptual overview\", SPIE, 9149, 2014, http://dx.doi.org/10.1117/12.2057445\n",
    "\n",
    "* Data Lab disclaimer: http://datalab.noao.edu/disclaimers.php"
   ]
  },
  {
   "cell_type": "markdown",
   "metadata": {},
   "source": [
    "<a class=\"anchor\" id=\"import\"></a>\n",
    "# Imports and setup"
   ]
  },
  {
   "cell_type": "code",
   "execution_count": 2,
   "metadata": {},
   "outputs": [],
   "source": [
    "from antares_client.search import search\n",
    "import matplotlib.pyplot as plt\n",
    "import pandas as pd"
   ]
  },
  {
   "cell_type": "markdown",
   "metadata": {},
   "source": [
    "<a class=\"anchor\" id=\"import\"></a>\n",
    "# Querying ANTARES alert database \n",
    "\n",
    "This cell shows how to call elastic search with ANTARES API. It can search on ZTF object id, RA, Dec, or other properties. For our purpose, we search for ZTF alerts associated with 809 Lundia using the keyword ztf_ssnamenr. "
   ]
  },
  {
   "cell_type": "code",
   "execution_count": 3,
   "metadata": {},
   "outputs": [],
   "source": [
    "query = {\n",
    "        \"query\": {\n",
    "            \"bool\": {\n",
    "                \"must\": [\n",
    "                    {\n",
    "                        \"match\": {\n",
    "                            \"properties.ztf_ssnamenr\": 809\n",
    "                        }\n",
    "                    },\n",
    "                    \n",
    "                 ]\n",
    "            }\n",
    "        }\n",
    "    }\n",
    "result_set = search(query)\n",
    "\n"
   ]
  },
  {
   "cell_type": "markdown",
   "metadata": {},
   "source": [
    "<a class=\"anchor\" id=\"import\"></a>\n",
    "# Extracting light curve related properties\n",
    "\n",
    "Now the query is finished, let's extract relevant properties (MJD, Mag, Mag_err) for this moving object."
   ]
  },
  {
   "cell_type": "code",
   "execution_count": 4,
   "metadata": {},
   "outputs": [],
   "source": [
    "gmjd = []\n",
    "gmag = []\n",
    "gerr = []\n",
    "rmjd = []\n",
    "rmag = []\n",
    "rerr = []\n",
    "for locus in search(query):\n",
    "    for alert in locus.alerts:\n",
    "        if 'ztf_ssnamenr' in alert.properties:\n",
    "            if alert.properties['ant_passband'] == 'R':                \n",
    "                rmjd.append(alert.properties['ztf_jd'])\n",
    "                rmag.append(alert.properties['ant_mag'])\n",
    "                rerr.append(alert.properties['ant_magerr'])\n",
    "            if alert.properties['ant_passband'] == 'g':                \n",
    "                gmjd.append(alert.properties['ztf_jd'])\n",
    "                gmag.append(alert.properties['ant_mag'])\n",
    "                gerr.append(alert.properties['ant_magerr'])\n"
   ]
  },
  {
   "cell_type": "markdown",
   "metadata": {},
   "source": [
    "Having the time-series photometry in hand, we can plot the light curve."
   ]
  },
  {
   "cell_type": "code",
   "execution_count": 5,
   "metadata": {},
   "outputs": [
    {
     "data": {
      "text/plain": [
       "<function matplotlib.pyplot.show(*args, **kw)>"
      ]
     },
     "execution_count": 5,
     "metadata": {},
     "output_type": "execute_result"
    },
    {
     "data": {
      "image/png": "[encoded data removed]",
      "text/plain": [
       "<Figure size 432x288 with 1 Axes>"
      ]
     },
     "metadata": {
      "needs_background": "light"
     },
     "output_type": "display_data"
    }
   ],
   "source": [
    "plt.scatter(rmjd, rmag, c='red', alpha=0.5)\n",
    "plt.scatter(gmjd, gmag, c='green', alpha=0.5)\n",
    "plt.title('809 Lundia light curve from ZTF')\n",
    "plt.xlabel('Time [Julian date]')\n",
    "plt.ylabel('Magnitude in g- and r-passband')\n",
    "plt.show"
   ]
  },
  {
   "cell_type": "markdown",
   "metadata": {},
   "source": [
    "Now we want to see if we can find the binary eclipses in the light curves. First we need to remove the long-term trend. This can be done by comparing with the apparent magnitude predicted by JPL/HORIZONS. It has been shown that Lundia has a period of 15.42 hours, we also fold the light curve with this period after de-trending."
   ]
  },
  {
   "cell_type": "code",
   "execution_count": 6,
   "metadata": {},
   "outputs": [],
   "source": [
    "from scipy import interpolate\n",
    "#we read in the predictions of the brightness (according to the distance to the sun) from JPL/HORIZONS\n",
    "lc = pd.read_csv('JPL809.csv')\n",
    "jpl_jd = lc['JD']\n",
    "jpl_mag = lc['Vmag']\n",
    "period=15.42/24.\n",
    "x0=[]\n",
    "y0=[]\n",
    "for i in range(len(jpl_jd)):\n",
    "    x0.append(float(jpl_jd[i]))\n",
    "    y0.append(float(jpl_mag[i]))\n",
    "\n",
    "def ref_mag(x):\n",
    "    tck0 = interpolate.splrep(x0, y0)\n",
    "    return interpolate.splev(x,tck0)\n",
    "\n",
    "mgdate=[]\n",
    "mrdate=[]\n",
    "mrmag=[]\n",
    "mgmag=[]\n",
    "\n",
    "for i in range(len(rmjd)):\n",
    "    mrdate.append((float(rmjd[i])%period)/period)\n",
    "    mrmag.append(float(rmag[i])-ref_mag(float(rmjd[i])))\n",
    "for i in range(len(gmjd)):\n",
    "    mgdate.append((float(gmjd[i])%period)/period)\n",
    "    mgmag.append(float(gmag[i])-ref_mag(float(gmjd[i])))\n"
   ]
  },
  {
   "cell_type": "markdown",
   "metadata": {},
   "source": [
    "We can now plot the de-trend and folded light curve."
   ]
  },
  {
   "cell_type": "code",
   "execution_count": 7,
   "metadata": {},
   "outputs": [
    {
     "data": {
      "text/plain": [
       "<function matplotlib.pyplot.show(*args, **kw)>"
      ]
     },
     "execution_count": 7,
     "metadata": {},
     "output_type": "execute_result"
    },
    {
     "data": {
      "image/png": "[encoded data removed]",
      "text/plain": [
       "<Figure size 432x288 with 1 Axes>"
      ]
     },
     "metadata": {
      "needs_background": "light"
     },
     "output_type": "display_data"
    }
   ],
   "source": [
    "#plot folded light curve\n",
    "plt.ylim(max(mgmag)+0.5*(max(mgmag)-min(mgmag)),min(mrmag)-0.5*(max(mrmag)-min(mrmag)))\n",
    "plt.scatter(mrdate, mrmag, c='red', alpha=0.5)\n",
    "plt.scatter(mgdate, mgmag, c='green', alpha=0.5)\n",
    "plt.title('809 Lundia phase-folded light curve from ZTF')\n",
    "plt.xlabel('Phase (Period=15.42 hr)')\n",
    "plt.ylabel('Magnitude in g- and r-passband')\n",
    "\n",
    "plt.show"
   ]
  },
  {
   "cell_type": "markdown",
   "metadata": {},
   "source": [
    "# Concluding remarks\n",
    "\n",
    "The ZTF folded light curve manifests trace of binary eclipses, consistent with previous study by Kryszcynska et al. (2009) that first revealed the binary nature of 809 Lundia. \n",
    "<img src=\"809LundiaPhasedLC.jpeg\">"
   ]
  },
  {
   "cell_type": "markdown",
   "metadata": {},
   "source": [
    "# Resources and references\n",
    "Further reading:\n",
    "\n",
    "Kryszcynska et al. (2009) \"New binary asteroid 809 Lundia. I. Photometry and modelling\". A&A, 501, 769:\n",
    "https://ui.adsabs.harvard.edu/abs/2009A%26A...501..769K/abstract\n"
   ]
  }
 ],
 "metadata": {
  "kernelspec": {
   "display_name": "Python 3 (ANTARES 0.4)",
   "language": "python",
   "name": "antares_0.4_py3.7"
  },
  "language_info": {
   "codemirror_mode": {
    "name": "ipython",
    "version": 3
   },
   "file_extension": ".py",
   "mimetype": "text/x-python",
   "name": "python",
   "nbconvert_exporter": "python",
   "pygments_lexer": "ipython3",
   "version": "3.7.3"
  }
 },
 "nbformat": 4,
 "nbformat_minor": 2
}
