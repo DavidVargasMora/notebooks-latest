{
 "cells": [
  {
   "cell_type": "code",
   "execution_count": 44,
   "metadata": {},
   "outputs": [],
   "source": [
    "__author__ = 'Chien-Hsiu Lee <lee@noao.edu>, Thomas Matheson <matheson@noao.edu>'\n",
    "__version__ = '20200114' # yyyymmdd\n",
    "__datasets__ = ['']\n",
    "__keywords__ = ['ANTARES', 'variable']"
   ]
  },
  {
   "cell_type": "markdown",
   "metadata": {},
   "source": [
    "# Exploring Elastic Search Database to Find R Corona Borealis Stars\n",
    "\n",
    "*Chien-Hsiu Lee, Thomas Matheson & ANTARES Team*"
   ]
  },
  {
   "cell_type": "markdown",
   "metadata": {},
   "source": [
    "### Table of contents\n",
    "* [Goals & notebook summary](#goals)\n",
    "* [Disclaimer & Attribution](#attribution)\n",
    "* [Imports & setup](#import)\n",
    "* [Authentication](#auth)\n",
    "* [First chapter](#chapter1)\n",
    "* [Resources and references](#resources)"
   ]
  },
  {
   "cell_type": "markdown",
   "metadata": {},
   "source": [
    "<a class=\"anchor\" id=\"goals\"></a>\n",
    "# Goals\n",
    "This notebook is an example of how to explore the ANTARES alert database for variable stars. Here we use the infrared color selection of candidate R Coronae Borealise stars, and search the ZTF time-series photometry to see if there are unknown R CrBs revealing themselves by a significant, irregular dimming (up to 8 mag)."
   ]
  },
  {
   "cell_type": "markdown",
   "metadata": {},
   "source": [
    "# Summary\n",
    "We first obtain the candidate R CrBs from WISE color, selected by Tisserand et al. (2012). We then use the ANTARES search API to find time-series photometry of each candidate, and looked for R CrBs candidates that show more than 2 magnitude variability in either g- or r-band. In the end, we use ZTF18abhjrcf as a showcase.\n",
    "\n",
    "<img src=\"RCB.jpeg\">"
   ]
  },
  {
   "cell_type": "markdown",
   "metadata": {},
   "source": [
    "# Disclaimer & attribution\n",
    "If you use this notebook for your published science, please acknowledge the following:\n",
    "\n",
    "* Data Lab concept paper: Fitzpatrick et al., \"The NOAO Data Laboratory: a conceptual overview\", SPIE, 9149, 2014, http://dx.doi.org/10.1117/12.2057445\n",
    "\n",
    "* Data Lab disclaimer: http://datalab.noao.edu/disclaimers.php"
   ]
  },
  {
   "cell_type": "markdown",
   "metadata": {},
   "source": [
    "<a class=\"anchor\" id=\"import\"></a>\n",
    "# Imports and setup"
   ]
  },
  {
   "cell_type": "code",
   "execution_count": 45,
   "metadata": {},
   "outputs": [],
   "source": [
    "from antares import dev_kit as dk\n",
    "import matplotlib.pyplot as plt\n",
    "import pandas as pd"
   ]
  },
  {
   "cell_type": "markdown",
   "metadata": {},
   "source": [
    "<a class=\"anchor\" id=\"import\"></a>\n",
    "# Read in relevant tables"
   ]
  },
  {
   "cell_type": "markdown",
   "metadata": {},
   "source": [
    "We use the candidate list from Tisserand (2012), dropping candidates below Dec<-30 (in the ZTF field). Here we read in the list of candidate, specifically their ra and dec."
   ]
  },
  {
   "cell_type": "code",
   "execution_count": 46,
   "metadata": {},
   "outputs": [],
   "source": [
    "catalog=pd.read_csv('WISE_RCrB.dat')\n",
    "ra=catalog['ra']\n",
    "dec=catalog['dec']"
   ]
  },
  {
   "cell_type": "markdown",
   "metadata": {},
   "source": [
    "<a class=\"anchor\" id=\"import\"></a>\n",
    "# Querying ANTARES alert database "
   ]
  },
  {
   "cell_type": "markdown",
   "metadata": {},
   "source": [
    "This cell shows how to call elastic search with ANTARES API. It can search on ZTF object id, RA, Dec, or other properties. For our purpose, we search for variabilities larger than 2 mag in either g- or r-band. For illustration purpose, we only search variability in three of the candidate (id = 228-230)"
   ]
  },
  {
   "cell_type": "code",
   "execution_count": 47,
   "metadata": {},
   "outputs": [
    {
     "name": "stdout",
     "output_type": "stream",
     "text": [
      "Iteration:  228 ra 275.832794 dec -14.109205\n",
      "Iteration:  229 ra 283.318207 dec -27.231319\n",
      "Got a hit on locus_id:  231020  in r-band\n",
      "Iteration:  230 ra 280.69277900000003 dec -12.904075\n",
      "Got a hit on locus_id:  425493  in g-band\n"
     ]
    }
   ],
   "source": [
    "from antares_client.search import search\n",
    "#for i in range(len(ra)): #this line will search for the full candidate list for variability\n",
    "for i in [228, 229, 230]:  \n",
    "    print(\"Iteration: \",i, \"ra\",ra[i],\"dec\",dec[i])\n",
    "    query = {\n",
    "        \"query\": {\n",
    "            \"bool\": {\n",
    "                \"must\": [\n",
    "                    {\n",
    "                        \"range\": {\n",
    "                            \"ra\": {\n",
    "                                \"gte\": ra[i]-1./3600.,\n",
    "                                \"lte\": ra[i]+1./3600.,\n",
    "                            }\n",
    "                        }\n",
    "                    },\n",
    "                    {\n",
    "                        \"range\": {\n",
    "                            \"dec\": {\n",
    "                                \"gte\": dec[i]-1./3600.,\n",
    "                                \"lte\": dec[i]+1./3600.\n",
    "                            }\n",
    "                        }\n",
    "                    }\n",
    "                 ]\n",
    "            }\n",
    "        }\n",
    "    }\n",
    "    result_set = search(query)    \n",
    "    galerts = [\n",
    "        alert\n",
    "        for alert in result_set\n",
    "        if (\n",
    "            alert[\"survey\"] == 1\n",
    "            and len(alert[\"properties\"])\n",
    "            and alert[\"properties\"][\"ztf_fid\"] == \"1\"\n",
    "            )\n",
    "    ]\n",
    "    gmag = [float(alert[\"properties\"][\"ztf_magpsf\"]) for alert in galerts]\n",
    "    ralerts = [\n",
    "        alert\n",
    "        for alert in result_set\n",
    "        if (\n",
    "            alert[\"survey\"] == 1\n",
    "            and len(alert[\"properties\"])\n",
    "            and alert[\"properties\"][\"ztf_fid\"] == \"2\"\n",
    "            )\n",
    "    ]\n",
    "    rmag = [float(alert[\"properties\"][\"ztf_magpsf\"]) for alert in ralerts]       \n",
    "    if len(gmag)>1 and max(gmag)-min(gmag) > 2.: \n",
    "        print(\"Got a hit on locus_id: \",result_set[0][\"locus_id\"],\" in g-band\")\n",
    "    if len(rmag)>1 and max(rmag)-min(rmag) > 2.:\n",
    "        print(\"Got a hit on locus_id: \",result_set[0][\"locus_id\"],\" in r-band\")\n",
    "        \n",
    "        "
   ]
  },
  {
   "cell_type": "markdown",
   "metadata": {},
   "source": [
    "<a class=\"anchor\" id=\"import\"></a>\n",
    "# Extracting light curve related properties\n",
    "\n"
   ]
  },
  {
   "cell_type": "markdown",
   "metadata": {},
   "source": [
    "Looks like we got a hit. Let's have a look at the last one (locus_id 425493). We first extract relevant properties (MJD, Mag, Mag_err) from this locus."
   ]
  },
  {
   "cell_type": "code",
   "execution_count": 48,
   "metadata": {},
   "outputs": [],
   "source": [
    "galerts = [\n",
    "    alert\n",
    "    for alert in result_set\n",
    "    if (\n",
    "        alert[\"survey\"] == 1\n",
    "        and len(alert[\"properties\"])\n",
    "        and alert[\"properties\"][\"ztf_fid\"] == \"1\"\n",
    "    )\n",
    "]\n",
    "gdate = [float(alert[\"properties\"][\"ztf_jd\"]) for alert in galerts]\n",
    "gmag = [float(alert[\"properties\"][\"ztf_magpsf\"]) for alert in galerts]\n",
    "gerr = [float(alert[\"properties\"][\"ztf_sigmapsf\"]) for alert in galerts]\n",
    "\n",
    "ralerts = [\n",
    "    alert\n",
    "    for alert in result_set\n",
    "    if (\n",
    "        alert[\"survey\"] == 1\n",
    "        and len(alert[\"properties\"])\n",
    "        and alert[\"properties\"][\"ztf_fid\"] == \"2\"\n",
    "    )\n",
    "]\n",
    "rdate = [float(alert[\"properties\"][\"ztf_jd\"]) for alert in ralerts]\n",
    "rmag = [float(alert[\"properties\"][\"ztf_magpsf\"]) for alert in ralerts]\n",
    "rerr = [float(alert[\"properties\"][\"ztf_sigmapsf\"]) for alert in ralerts]\n",
    "\n"
   ]
  },
  {
   "cell_type": "markdown",
   "metadata": {},
   "source": [
    "Having the time-series photometry in hand, we can plot the light curve."
   ]
  },
  {
   "cell_type": "code",
   "execution_count": 49,
   "metadata": {},
   "outputs": [
    {
     "data": {
      "image/png": "[encoded data removed]",
      "text/plain": [
       "<Figure size 432x288 with 1 Axes>"
      ]
     },
     "metadata": {
      "needs_background": "light"
     },
     "output_type": "display_data"
    }
   ],
   "source": [
    "plt.ylim(max(gmag)+0.1*(max(gmag)-min(gmag)),min(rmag)-0.1*(max(rmag)-min(rmag)))\n",
    "plt.scatter(rdate, rmag, c='red', alpha=0.5)\n",
    "plt.scatter(gdate, gmag, c='green', alpha=0.5)\n",
    "plt.title('Light curve of Locus_id=425493')\n",
    "plt.xlabel('Time [Julian date]')\n",
    "plt.ylabel('Magnitude in g- and r-passband')\n",
    "plt.show()"
   ]
  },
  {
   "cell_type": "markdown",
   "metadata": {},
   "source": [
    "# Concluding remarks\n",
    "\n",
    "Locus_id 425493 (=ZTF18abhjrcf) shows a rapid dropping of more than 2 magnitudes in g-band, and consistent dimming in the r-band as well (thought not as much as g-band). This is similar to the sudden dimming seen in R Coronae Borealis. We subsequently obtained spectra of this source, and confirmed its RCB nature."
   ]
  },
  {
   "cell_type": "markdown",
   "metadata": {},
   "source": [
    "# Resources and references\n",
    "Further reading:\n",
    "\n",
    "AAVSO introduction on R Coronae Borealis stars: https://www.aavso.org/vsots_rcrb\n",
    "\n",
    "Tisserand (2012) \"Tracking down R Coronae Borealis stars from their mid-infrared WISE colours\". A&A, 539, 51: https://ui.adsabs.harvard.edu/abs/2012A&A...539A..51T\n",
    "\n",
    "Tisserand et al. (2013) \"The ongoing pursuit of R Coronae Borealis stars: the ASAS-3 survey strikes again\". A&A, 551, 22: https://ui.adsabs.harvard.edu/abs/2013A&A...551A..77T"
   ]
  }
 ],
 "metadata": {
  "kernelspec": {
   "display_name": "Python 3 (ANTARES)",
   "language": "python",
   "name": "antares_py3.7"
  },
  "language_info": {
   "codemirror_mode": {
    "name": "ipython",
    "version": 3
   },
   "file_extension": ".py",
   "mimetype": "text/x-python",
   "name": "python",
   "nbconvert_exporter": "python",
   "pygments_lexer": "ipython3",
   "version": "3.7.3"
  }
 },
 "nbformat": 4,
 "nbformat_minor": 2
}
