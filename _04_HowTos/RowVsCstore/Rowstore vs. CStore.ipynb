{
 "cells": [
  {
   "cell_type": "code",
   "execution_count": 1,
   "metadata": {
    "collapsed": true
   },
   "outputs": [],
   "source": [
    "__author__ = 'Adam Scott <ascott@noao.edu>' # single string; emails in <>\n",
    "__version__ = '20190103' # yyyymmdd; version datestamp of this notebook\n",
    "__datasets__ = ['ls_dr5']  # datasets used in this notebook; for available datasets, see cell \"Available datasets in Data Lab\" further below\n",
    "__keywords__ = ['tutorial','query'], # keywords relevant to this notebook, e.g. ['science case','dwarf galaxies'] Use only keywords from the master list: https://github.com/noaodatalab/notebooks_private/blob/master/internal/keywords.txt "
   ]
  },
  {
   "cell_type": "markdown",
   "metadata": {},
   "source": [
    "# CStore Performance Vs. Row Store\n",
    "*Adam Scott & NOAO Data Lab Team*"
   ]
  },
  {
   "cell_type": "markdown",
   "metadata": {},
   "source": [
    "### Table of contents\n",
    "* [Goals & notebook summary](#goals)\n",
    "* [Disclaimer & Attribution](#attribution)\n",
    "* [Imports & setup](#import)\n",
    "* [Query against Rowstore](#rstore)\n",
    "* [Query against CStore](#cstore)\n",
    "* [Graph of results](#graph)\n",
    "* [When should I use CStore tables in Data Lab?](#when)"
   ]
  },
  {
   "cell_type": "markdown",
   "metadata": {},
   "source": [
    "<a class=\"anchor\" id=\"goals\"></a>\n",
    "# Goals\n",
    "* Learn the difference between column store (cstore) and row store database tables\n",
    "* Understand the circumstances when you might want to use cstore tables"
   ]
  },
  {
   "cell_type": "markdown",
   "metadata": {},
   "source": [
    "# Summary\n",
    "\n",
    "At Data Lab, we ran performance tests of various scenarios against many open-source DBMSs.  The cstore_fdw (for columnar store, foreign data wrapper), proved very fast for some applications.  Below we compare the run time between both storage formats.  (For more on cstore see https://github.com/citusdata/cstore_fdw)"
   ]
  },
  {
   "cell_type": "markdown",
   "metadata": {},
   "source": [
    "<a class=\"anchor\" id=\"attribution\"></a>\n",
    "# Disclaimer & attribution\n",
    "If you use this notebook for your published science, please acknowledge the following:\n",
    "\n",
    "* Data Lab concept paper: Fitzpatrick et al., \"The NOAO Data Laboratory: a conceptual overview\", SPIE, 9149, 2014, http://dx.doi.org/10.1117/12.2057445\n",
    "\n",
    "* Data Lab disclaimer: http://datalab.noao.edu/disclaimers.php"
   ]
  },
  {
   "cell_type": "markdown",
   "metadata": {},
   "source": [
    "<a class=\"anchor\" id=\"import\"></a>\n",
    "# Basic Imports"
   ]
  },
  {
   "cell_type": "code",
   "execution_count": 2,
   "metadata": {},
   "outputs": [],
   "source": [
    "# 3rd party\n",
    "import matplotlib.pyplot as plt\n",
    "%matplotlib inline\n",
    "\n",
    "# Datalab\n",
    "from dl import queryClient as qc"
   ]
  },
  {
   "cell_type": "markdown",
   "metadata": {},
   "source": [
    "<a class=\"anchor\" id=\"rstore\"></a>\n",
    "# Query against Rowstore"
   ]
  },
  {
   "cell_type": "code",
   "execution_count": null,
   "metadata": {},
   "outputs": [],
   "source": [
    "%%time\n",
    "query = \"\"\"SELECT min(flux_g), max(flux_g), avg(flux_g),\n",
    "                  min(flux_r), max(flux_r), avg(flux_r),\n",
    "                  min(flux_z), max(flux_z), avg(flux_z)\n",
    "           FROM ls_dr5.tractor\n",
    "           WHERE psfsize_r > 0.6635 and psfsize_r < 1.327\"\"\"\n",
    "\n",
    "# Send the query to the Queryclient in SQL, with a comma-separated-value (csv) output\n",
    "response = qc.query(sql=query, fmt='csv')"
   ]
  },
  {
   "cell_type": "markdown",
   "metadata": {},
   "source": [
    "In this run, it took **5min 22s** to execute the query against the normal rowstore table in Postgres.  Since `psfsize_r` is not indexed (only bold columns listed here are indexed: http://datalab.noao.edu/query.php?name=ls_dr5.tractor), the database has to read through every row in `ls_dr5.tractor` to find all rows satisfying the WHERE clause.\n",
    "\n",
    "Compare this to the next run."
   ]
  },
  {
   "cell_type": "markdown",
   "metadata": {},
   "source": [
    "<a class=\"anchor\" id=\"cstore\"></a>\n",
    "# Query Against CStore"
   ]
  },
  {
   "cell_type": "code",
   "execution_count": null,
   "metadata": {},
   "outputs": [],
   "source": [
    "%%time\n",
    "query = \"\"\"SELECT min(flux_g), max(flux_g), avg(flux_g),\n",
    "                  min(flux_r), max(flux_r), avg(flux_r),\n",
    "                  min(flux_z), max(flux_z), avg(flux_z)\n",
    "           FROM ls_dr5.tractor_cs\n",
    "           WHERE psfsize_r > 0.6635 and psfsize_r < 1.327\"\"\"\n",
    "\n",
    "# Send the query to the Queryclient in SQL, with a comma-separated-value (csv) output\n",
    "response = qc.query(sql=query, fmt='csv')"
   ]
  },
  {
   "cell_type": "markdown",
   "metadata": {},
   "source": [
    "This time, we queried against a cstore table (denoted by the `_cs` in the table name in the query above), and it took significantly less time at **3min 44s**.  Since cstore tables store the min/max values of each stripe, they have an inherent index **on every column** that requires litte extra space to store on disk."
   ]
  },
  {
   "cell_type": "markdown",
   "metadata": {},
   "source": [
    "<a class=\"anchor\" id=\"graph\"></a>\n",
    "# Graph of results"
   ]
  },
  {
   "cell_type": "code",
   "execution_count": 5,
   "metadata": {},
   "outputs": [
    {
     "data": {
      "text/plain": [
       "<matplotlib.text.Text at 0x7fc1d5888780>"
      ]
     },
     "execution_count": 5,
     "metadata": {},
     "output_type": "execute_result"
    },
    {
     "data": {
      "image/png": "[encoded data removed]",
      "text/plain": [
       "<matplotlib.figure.Figure at 0x7fc1d5b00e80>"
      ]
     },
     "metadata": {},
     "output_type": "display_data"
    }
   ],
   "source": [
    "x = [1,2]\n",
    "y = [322,224]\n",
    "ax = plt.subplot()\n",
    "pr, pc = plt.bar(x,y)\n",
    "pr.set_facecolor('b')\n",
    "pc.set_facecolor('r')\n",
    "ax.set_xticks(x)\n",
    "ax.set_xticklabels(['Rowstore','CStore'])\n",
    "ax.set_ylim([0,600])\n",
    "ax.set_ylabel('seconds to execute query')\n",
    "ax.set_title('Rowstore vs. CStore query time')"
   ]
  },
  {
   "cell_type": "markdown",
   "metadata": {},
   "source": [
    "<a class=\"anchor\" id=\"when\"></a>\n",
    "# When should I use CStore tables in Data Lab?\n",
    "We recommend running your query against a cstore table when your query's WHERE clause is against unindexed columns.\n",
    "\n",
    "~~~~\n",
    "SELECT <...>\n",
    "FROM <...>_cs\n",
    "WHERE unindexed_column <...>\n",
    "~~~~\n",
    "\n",
    "If some columns in the WHERE clause are indexed and others are not, there is not a universal recommendation.  A useful rule-of-thumb is when the number of rows to sample is > ~100,000 *after* applying the conditions of the indexed columns, you might try a cstore table to see if performance improves.\n"
   ]
  }
 ],
 "metadata": {
  "kernelspec": {
   "display_name": "Python 3",
   "language": "python",
   "name": "python3"
  },
  "language_info": {
   "codemirror_mode": {
    "name": "ipython",
    "version": 3
   },
   "file_extension": ".py",
   "mimetype": "text/x-python",
   "name": "python",
   "nbconvert_exporter": "python",
   "pygments_lexer": "ipython3",
   "version": "3.6.2"
  }
 },
 "nbformat": 4,
 "nbformat_minor": 2
}
