{
 "cells": [
  {
   "cell_type": "code",
   "execution_count": null,
   "metadata": {},
   "outputs": [],
   "source": [
    "__author__ = 'M. Fitzpatrick <fitz@noao.edu>. M. Graham <graham@noao.edu>' # single string; emails in <>\n",
    "__version__ = '20180604' # yyyymmdd; version datestamp of this notebook\n",
    "__datasets__ = ['']      # datasets used"
   ]
  },
  {
   "cell_type": "markdown",
   "metadata": {},
   "source": [
    "## How to use the Data Lab *Query Manager* Service\n",
    "\n",
    "*Revised: June 4, 2018*\n",
    "\n",
    "This notebook documents how to query the Data Lab via the Query Manager service. This can be done from a notebook, a Python script or from the command line using the <i>datalab</i> command-line tool.  The Query Manager provides a simpler interface to the data access services offered by Data Lab, although direct access to the underlying services is still available to clients.\n",
    "\n",
    "### The _Query Manager_ Web Service Interface\n",
    "\n",
    "The Query Manager service simplifies access to the Data Lab databases and other data-access services. This section describes the Query Manager service interface that allows us to write our own code when not using one the <i>datalab</i> command-line client or other third party application (e.g. _[TOPCAT](http://www.star.bris.ac.uk/~mbt/topcat/)_, _[STILTS](http://www.star.bris.ac.uk/~mbt/stilts/)_ or _[Aladin](http://aladin.u-strasbg.fr/)_).\n",
    "\n",
    "The Query Manager service accepts an HTTP GET or POST call to the requested endpoint and then interacts with the backed database or access services:\n",
    "\n",
    "| Endpoint | Description | Parameters | Client Interface |\n",
    "|----------|-------------|------------|:----------------:|\n",
    "| /query | Main catalog query interface | adql,sql,async,out,ofmt,profile | query (adql|sql) |\n",
    "| /status | Get status of async query | name | put (fr, to) |\n",
    "| /results | Get results from async query | jobid | results (jobid) |\n",
    "| /abort | Abort an async query | jobid | put (jobid) |\n",
    "| /schema | Get table schema info | value | schema (value,profile) |\n",
    "| /list | List tables in MyDB | table | list (table) |\n",
    "| /create | Create a table in MyDB | table | create (table) |\n",
    "| /delete | Delete a MyDB table | table | delete (table) |\n",
    "| /copy | Copy a MyDB table | src,target | copy (src, target) |\n",
    "| /rename | Rename a MyDB table | src,dest | rename (src, dest) |\n",
    "| /sia| Generic SIA interface | svc,pos,size | sia (svc, pos, size) |\n",
    "| /scs | Generic SCS interface | svc,pos,size | scs (svc, pos, size) |\n",
    "| | | | | |\n",
    "| /available | Service availability endpoint | N/A | N/A |\n",
    "| /profiles | List available service profiles | profile, format | res = get_profiles (profile) |\n",
    "| /debug | Toggle service debug flag | N/A | N/A |\n",
    "\n",
    "\n",
    "#### Authentication\n",
    "The Query Manager service requires a Data Lab security token when output is to be saved to either virtual storage or MyDB. This token needs to be passed as the value of the header keyword \"_X-DL-AuthToken_\" in any HTTP GET call to the service.  If no token is passed, the 'anonymous' user token is assumed.\n",
    "\n",
    "#### Profiles\n",
    "There are several different backend machines serving data, etc., and it is possible that a user might want to specify a particular set to run their query on and save results to. A <i>profile</i> defines such a set and a particular profile can be specified in a query call (see below for details on profile usage).\n",
    "\n",
    "\n",
    "## From Python code\n",
    "\n",
    "The query manager service can be called from Python code using the <i>datalab</i> module. This provides methods to access the various Query Manager functions in the <i>queryClient</i> subpackage. \n",
    "\n",
    "### Initialization\n",
    "This is the setup that is required to use the Query Manager. The first thing to do is import the relevant Python modules and also retrieve our Data Lab security token (remember that this has to be included in any call to the query manager service).\n",
    "***\n",
    "\n",
    "### Standard Notebook Setup"
   ]
  },
  {
   "cell_type": "code",
   "execution_count": null,
   "metadata": {},
   "outputs": [],
   "source": [
    "# Standard notebook imports\n",
    "from __future__ import print_function   # Py2/Py3 compatability\n",
    "import getpass                          # for Data Lab login\n",
    "from dl import authClient               # for Data Lab login\n",
    "from dl import storeClient              # Storage Manager client interface\n",
    "from dl import queryClient              # Query Manager client interface"
   ]
  },
  {
   "cell_type": "markdown",
   "metadata": {},
   "source": [
    "#### Data Lab Login\n",
    "\n",
    "Logging into the Data Lab is only required when a user identity is required, i.e. when you wish to access protected resources such as virtual storage or MyDB.  If no token is provided, the _anonymous_ user is assumed.  Once you login, the token is saved and will automatically be passed to interface methods that require it;  If you wish to supply a different token, each interface method accepts a _token_ parameter argument.\n",
    "\n",
    "The first time this notebook is executed, login as the example _demo00_ user (passwd: _balatad_) in the cell below. Subsequent runs may skip this cell.  Note, this token will persist for other notebooks as well."
   ]
  },
  {
   "cell_type": "code",
   "execution_count": null,
   "metadata": {},
   "outputs": [],
   "source": [
    "# Get the login token for the 'demo00' scratch user (password: 'balatad')\n",
    "token = authClient.login ('demo00',getpass.getpass('Account password: '))\n",
    "if not authClient.isValidToken (token):\n",
    "    print ('Error: invalid user login (%s)' % token)\n",
    "else:\n",
    "    print (\"Login token:   %s\" % token)\n",
    "\n",
    "anon_tok = 'anonymous.0.0.anon_access'                            # EXAMPLES ONLY"
   ]
  },
  {
   "cell_type": "markdown",
   "metadata": {},
   "source": [
    "#### The *queryClient* class\n",
    "\n",
    "All queries are executed through the <i>query()</i> method of the <i>queryClient</i> class. This takes as arguments:\n",
    "\n",
    "| Argument | Description | Default  value | Allowed Values |\n",
    "|----------|-------------|----------------|----------------|\n",
    "| token | The login identity token | None | any valid token |\n",
    "| adql | The query to be submitted to the TAP service | None | |\n",
    "| sql | The query to be submitted to the DB directly | None | |\n",
    "| fmt | The requested format (if any) | ascii | ascii,csv,votable,fits |\n",
    "| out | The saved location (if any) | None | local filename, *vos://filename*, *mydb://tablename* |\n",
    "| async | Indicates if the query is asynchronous | False | |\n",
    "| profile | Indicates which service profile to query | default | |\n",
    "\n",
    "All arguments are optional except that one of *adql* or *sql* must be supplied;  if neither of these is explicitly given but a query string is passed as the first argument, it will be assumed to be an _sql_ parameter.  The distinction between these two parameters is in how the *Query Manager* executes the query:  If *adql* is provided the query is sent to the TAP (Table Access Protocol) service, if *sql* is provided the query is sent directly to the database.  The choice of execution depends on whether the query string contains ADQL-specific functions, or SQL constructs or DB extensions not understood by the TAP service.  For large queries there can also be a performance difference depending on the where/how the results are saved. Note that if a *profile* is not specified then the default profile is assumed, otherwise the *profile* may be specified to use an external or development service.  External services may only be accessed using the TAP (i.e. an *adql* query) protocol.\n",
    "\n",
    "#### Saving Results\n",
    "If no save location is specified (i.e. no <i>out</i> param specified) then the results are returned directly to the caller. A save location beginning with the '_vos://_' identifier indicates a location in the user's virtual storage to save the result. Similarly, a save location beginning with the '_mydb://_' identifier indicates the results are to be saved to a named table in the user's remote database (known as _MyDB_). \n",
    "\n",
    "#### Output formats\n",
    "The results can be returned as whitespace delimited (<i>ascii</i>), CSV (<i>csv</i>, the default), or in VOTable format (<i>votable</i>) depending on the value of the _out_ parameter. Note that if the results are saved to the user's database then the output format is ignored.\n",
    "\n",
    "#### Asynchronous queries\n",
    "Long queries should be run asynchronously and the service may refuse any synchronous query attempted if the projected query time is too long. A query can be submitted asynchronously by setting the <i>async</i> parameter to <i>true</i>,  a job id will then be returned.\n",
    "\n",
    "The status of an asynchronous query can be checked by submitting an HTTP GET call to the query manager service <i>status</i> endpoint with the relevant job id as an argument: /status?jobid=<jobid>. A return value of 'COMPLETED' indicates the query has terminated. A return value of 'ERROR' indicates that there was a problem with the query.\n",
    "\n",
    "The results of an asynchronous query (assuming that they were not saved to either the user's virtual storage or remote database) can be retrieved once the query has completed with an HTTP GET call to the query manager service <i>results</i> endpoint with the relevant job id as argument: /results?jobid=<jobid>"
   ]
  },
  {
   "cell_type": "markdown",
   "metadata": {},
   "source": [
    "## Client Interface Summary"
   ]
  },
  {
   "cell_type": "markdown",
   "metadata": {},
   "source": [
    "### Discovering Datasets in Data Lab\n",
    "\n",
    "Data available from the Query Manager service can be discovered using the _**queryClient.schema()**_ method:\n",
    "\n",
    "        result = queryClient.schema ([token])\n",
    "        result = queryClient.schema (<value>)\n",
    "        result = queryClient.schema ([token], value)\n",
    "        result = queryClient.schema ([token], value=<value>)\n",
    "where:\n",
    "\n",
    "        token - Data Lab auth token to use when overriding login token\n",
    "        value - Schema value to list\n",
    "\n",
    "The schema _value_ argument has the following forms:\n",
    "\n",
    "            None or ''                      # List all available datasets\n",
    "            <schema>                        # List tables in named <schema>\n",
    "            <schema>.<table>                # List columns in table <schema>.<table>\n",
    "            <schema>.<table>.<column>       # List details of column <schema>.<table>.<column>\n",
    "\n",
    "For example:"
   ]
  },
  {
   "cell_type": "code",
   "execution_count": null,
   "metadata": {},
   "outputs": [],
   "source": [
    "try:\n",
    "    list = queryClient.schema()                    # List all available datasets\n",
    "    #list = queryClient.schema('')                  # List all available datasets\n",
    "    #list = queryClient.schema('des_dr1')           # List tables in DES DR1\n",
    "    #list = queryClient.schema('des_dr1.main')      # List columns within the 'main' table of DES DR1\n",
    "    #list = queryClient.schema('des_dr1.main.ra')   # List details of the 'ra' column in 'main'\n",
    "    #list = queryClient.schema(profile='IRSA')      # List datasets in external service (see profiles below)\n",
    "except Exception as e:\n",
    "    print (str(e))\n",
    "else:\n",
    "    print (list)"
   ]
  },
  {
   "cell_type": "markdown",
   "metadata": {},
   "source": [
    "### Using Profiles\n",
    "\n",
    "Users may sometimes wish to access different datasets (or older versions of some datasets) that may reside on alternate backend servers (e.g. they were infrequently accessed and so have been moved to offline hardware). In other cases, there will be servers that are used only by developers or those with restricted access (e.g. as we prepare a new data release or work with a science collaboration).  Lastly, we can use the Data Lab _Query Manager_ to access to an external TAP service.  The way users can access these different data-service collections is by means of _**profiles**_ within Data Lab.\n",
    "\n",
    "The first thing to do is see what profiles are available:"
   ]
  },
  {
   "cell_type": "code",
   "execution_count": null,
   "metadata": {},
   "outputs": [],
   "source": [
    "profiles = queryClient.list_profiles()\n",
    "print (profiles)"
   ]
  },
  {
   "cell_type": "markdown",
   "metadata": {},
   "source": [
    "The thing to note in the output here are names such as '*GAVO*', '*SDSS-DR9*', etc;  These profiles refer to external TAP services that can be accessed using the Query Manager interface.  Only a few are currently configured as we work on ways to automatically discover the >100 such services and provide useful listings of what they contain (we are also planning to add the ability for users to define their own set of external profiles).\n",
    "\n",
    "Let's see how we can query one of these external service and save the result to our Virtual Storage:"
   ]
  },
  {
   "cell_type": "raw",
   "metadata": {},
   "source": [
    "# The simplest method is to specify the profile to use\n",
    "# directly in the query() call. Note the use of ADQL syntax \n",
    "# since we are calling an external TAP service.\n",
    "query = 'select top 10 * from sdssdr7.sources'\n",
    "try:\n",
    "    response = queryClient.query(adql=query, profile='GAVO')\n",
    "    #response = queryClient.query(adql=query, profile='default')  # to demo error when schema not in profile\n",
    "except Exception as e:\n",
    "    print (str(e))\n",
    "else:\n",
    "    print (response)"
   ]
  },
  {
   "cell_type": "markdown",
   "metadata": {},
   "source": [
    "For large queries, external services can be queried with the results saved to virtual storage for later use in a workflow.  In this case, we explicitly set a profile to be the new default:"
   ]
  },
  {
   "cell_type": "code",
   "execution_count": null,
   "metadata": {},
   "outputs": [],
   "source": [
    "queryClient.set_profile('GAVO')\n",
    "query = 'select top 10 * from sdssdr7.sources'                  # Note the use of ADQL syntax \n",
    "fname = 'vos://gavo_test.csv'                                   # set the saved result filename\n",
    "if storeClient.access(fname): storeClient.rm(fname)             # remove existing file\n",
    "\n",
    "# Submitting the query is just as before, but we're \n",
    "# using the GAVO TAP service (and so 'adql' is required)\n",
    "response = queryClient.query(token, adql=query, fmt='csv',      # FIXME - file not created?\n",
    "                             out=fname)\n",
    "print ('Query response: ' + response)\n",
    "\n",
    "# Use the Storage Manager to verify the file was saved, then clean up\n",
    "print (storeClient.ls ())\n",
    "resp = storeClient.rm (fname)"
   ]
  },
  {
   "cell_type": "markdown",
   "metadata": {},
   "source": [
    "In this case we queried an SDSS DR7 table at the TAP service run by GAVO in Heidelberg.  The name of the currently active default profile can be checked at any time using the _**queryClient.get_profile()**_ method:"
   ]
  },
  {
   "cell_type": "code",
   "execution_count": null,
   "metadata": {},
   "outputs": [],
   "source": [
    "cur_profile = queryClient.get_profile()\n",
    "print (\"Current profile:  '%s'\" % cur_profile)"
   ]
  },
  {
   "cell_type": "markdown",
   "metadata": {},
   "source": [
    "We can get the details of a particular profile by including the name of the profile as an argument in the <i>list_profiles</i> method:"
   ]
  },
  {
   "cell_type": "code",
   "execution_count": null,
   "metadata": {},
   "outputs": [],
   "source": [
    "list = queryClient.list_profiles(\"default\")\n",
    "#list = queryClient.list_profiles(profile=\"default\")\n",
    "print (list)"
   ]
  },
  {
   "cell_type": "markdown",
   "metadata": {},
   "source": [
    "Using the _TAP_SCHEMA_ tables available in a TAP service (see the [TAP specification](http://ivoa.net/documents/tap)) we can programmatically discover datasets for each profile.  For example, even though the Data Lab profiles don't explicitly store the available _IRSA_ tables, we can extract these from the _TAP_SCHEMA_ tables.  First, let's look at what we get from the default profile so we can compare with the output of the <i><b>list_profiles()</b><i> method above:"
   ]
  },
  {
   "cell_type": "code",
   "execution_count": null,
   "metadata": {},
   "outputs": [],
   "source": [
    "query = 'select table_name, description from tap_schema.tables'\n",
    "try:\n",
    "    results = queryClient.query(adql=query, profile='default')\n",
    "except Exception as e:\n",
    "    print (str(e))\n",
    "else:\n",
    "    print (results[:512])    # print snippet of result"
   ]
  },
  {
   "cell_type": "markdown",
   "metadata": {},
   "source": [
    "And now we'll run the same query against the '*IRSA*' profile:"
   ]
  },
  {
   "cell_type": "code",
   "execution_count": null,
   "metadata": {},
   "outputs": [],
   "source": [
    "try:\n",
    "    results = queryClient.query(adql=query, profile='IRSA')\n",
    "except Exception as e:\n",
    "    print (str(e))\n",
    "else:\n",
    "    print (results[:512])    # print snippet of result"
   ]
  },
  {
   "cell_type": "markdown",
   "metadata": {},
   "source": [
    "Comparing the two outputs, we can see that there are differences in which tables are available. **NOTE:** _Queries of a TAP_SCHEMA table can sometimes fail or behave somewhat differently, use as your own risk._\n",
    "\n",
    "Lastly, reset the default profile for the remainder of this notebook."
   ]
  },
  {
   "cell_type": "code",
   "execution_count": null,
   "metadata": {},
   "outputs": [],
   "source": [
    "queryClient.set_profile('default')"
   ]
  },
  {
   "cell_type": "markdown",
   "metadata": {},
   "source": [
    "### Querying Catalogs\n",
    "\n",
    "Querying a Data Lab catalog is done using the _**queryClient.query()**_ method:\n",
    "\n",
    "        result = queryClient.query (token, query, adql=None, sql=None, fmt='csv', out=None, async=False, **kw)\n",
    "where:\n",
    "\n",
    "        query - An SQL query string\n",
    "        token - Data Lab auth token to use when overriding login token\n",
    "        adql - An ADQL query string, submitted to TAP service\n",
    "        sql - An SQL query string, submitted directly to the database\n",
    "        fmt - Desired output format (csv|pandas|array|structarray|table|ascii|fits|votable)\n",
    "        out - A pathname, 'vos://' or 'mydb://' URI to save the file.  If None results returned directly\n",
    "        async - If True, query executed asynchronously and the method result is a job-id string\n",
    "\n",
    "#### A quick query\n",
    "\n",
    "Let's say we want to return the first 10 objects in the USNO A2 catalog and get it back as a CSV file:"
   ]
  },
  {
   "cell_type": "code",
   "execution_count": null,
   "metadata": {},
   "outputs": [],
   "source": [
    "# Example 1:  SQL syntax, use default CSV return format\n",
    "query = 'select * from usno.a2 limit 10'\n",
    "\n",
    "# Note that when passing in a literal string or query variable\n",
    "# without explicitly setting the 'sql' parameter, 'sql' will be\n",
    "# assumed.\n",
    "#response = queryClient.query('select * from usno.a2 limit 10')  # pass query string directly\n",
    "response = queryClient.query(query)                             # pass variable containing query\n",
    "#response = queryClient.query(sql=query, fmt='csv')              # explicitly set 'sql' param and format\n",
    "#response = queryClient.query(query, token=anon_tok)             # override default user token\n",
    "\n",
    "print (response)"
   ]
  },
  {
   "cell_type": "code",
   "execution_count": null,
   "metadata": {},
   "outputs": [],
   "source": [
    "# Example 2:  Same query but request a Pandas Data Frame as the return\n",
    "query = 'select * from usno.a2 limit 10'\n",
    "df = queryClient.query(sql=query, fmt='pandas')\n",
    "df.head()"
   ]
  },
  {
   "cell_type": "code",
   "execution_count": null,
   "metadata": {},
   "outputs": [],
   "source": [
    "# Example 3:  ADQL syntax, explicitly set 'adql' param and format\n",
    "query = 'select top 10 * from usno.a2'\n",
    "\n",
    "response = queryClient.query(adql=query, fmt='votable')\n",
    "print (response[:1024])"
   ]
  },
  {
   "cell_type": "markdown",
   "metadata": {},
   "source": [
    "#### Saving results to virtual storage\n",
    "\n",
    "Now we want to save the results from the same query to our virtual storage space instead.  By putting the query in a try-block we are able to trap errors when executing the query.  Note that running this cell multiple times will trigger an error and we use the Storage Manager client to remove the file once we are done."
   ]
  },
  {
   "cell_type": "code",
   "execution_count": null,
   "metadata": {},
   "outputs": [],
   "source": [
    "try:\n",
    "    query = 'select top 10 * from usno.a2'\n",
    "    response = queryClient.query (adql=query, fmt='csv', \n",
    "                                  out='vos://zzmags.csv')\n",
    "except Exception as e:\n",
    "    # Handle any errors in the query.  By running this cell multiple times with the same\n",
    "    # output file, or by using a bogus SQL statement, you can view various error messages.\n",
    "    print (str(e))\n",
    "else:\n",
    "    if response is not None: \n",
    "        print (\"query() response: '%s'\\n\" % response)  # print the response\n",
    "    else:\n",
    "        print (\"OK\")\n",
    "\n",
    "# Remove the file we just created, but list it first to show it exists\n",
    "print (storeClient.ls ('vos://',format='short'))\n",
    "resp = storeClient.rm ('vos://zzmags*')"
   ]
  },
  {
   "cell_type": "markdown",
   "metadata": {},
   "source": [
    "#### Saving Results to MyDB\n",
    "\n",
    "Alternatively we may want to store the results in a table called <i>mags</i> in our remote database."
   ]
  },
  {
   "cell_type": "code",
   "execution_count": null,
   "metadata": {},
   "outputs": [],
   "source": [
    "try:\n",
    "    query = \"select * from usno.a2 limit 1000\"\n",
    "    response = queryClient.query (token, sql=query, fmt='csv', \n",
    "                                  out='mydb://zzmags')\n",
    "except Exception as e:\n",
    "    # Handle any errors in the query.  By running this cell multiple times with the same\n",
    "    # output file, or by using a bogus SQL statement, you can view various error messages.\n",
    "    print (str(e))\n",
    "else:\n",
    "    if response is not None: \n",
    "        print (\"query() response: '%s'\\n\" % response)           # print the response\n",
    "    else:\n",
    "        print (\"OK\")"
   ]
  },
  {
   "cell_type": "markdown",
   "metadata": {},
   "source": [
    "#### Listing Available MyDB Tables\n",
    "\n",
    "To list what tables are available in your MyDB storage, you can use the _**queryClient.list()**_ method:\n",
    "\n",
    "        result = queryClient.list ()                     # Lists names of all MyDB tables\n",
    "        result = queryClient.list (token)                #   \"     \"    \"  \"   \"     \"\n",
    "        result = queryClient.list (table)                # List columns of a specific table\n",
    "        result = queryClient.list (token, <table>)       #   \"    \"      \" \"    \"       \"\n",
    "        result = queryClient.list (token, table=<table>) #   \"    \"      \" \"    \"       \"\n",
    "\n",
    "where:\n",
    "\n",
    "        table - Name of a specific MyDB table -- lists column descriptions\n",
    "        token - Data Lab auth token to use when overriding login token"
   ]
  },
  {
   "cell_type": "code",
   "execution_count": null,
   "metadata": {},
   "outputs": [],
   "source": [
    "# List all available tables, or example table created above\n",
    "#result = queryClient.list ()\n",
    "#result = queryClient.list (token)\n",
    "#result = queryClient.list ('zzmags')\n",
    "#result = queryClient.list (token, 'zzmags')\n",
    "result = queryClient.list (token, table='zzmags')\n",
    "\n",
    "print (result)"
   ]
  },
  {
   "cell_type": "markdown",
   "metadata": {},
   "source": [
    "#### Dropping MyDB Tables\n",
    "\n",
    "Removing tables from MyDB is done using the _**queryClient.drop()**_ method:\n",
    "\n",
    "        result = queryClient.drop (<table>)                       # Drop the named table\n",
    "        result = queryClient.drop (table=<table>)                 #   \"   \"    \"     \"\n",
    "        result = queryClient.drop (token, table=<table>)          #   \"   \"    \"     \"\n",
    "        result = queryClient.drop (token=<token>, table=<table>)  #   \"   \"    \"     \"\n",
    "where:\n",
    "\n",
    "        table - Name of a specific MyDB table -- lists column descriptions\n",
    "        token - Data Lab auth token to use when overriding login token\n",
    "        \n",
    "The _drop()_ method returns \"OK\" on success or an error message."
   ]
  },
  {
   "cell_type": "code",
   "execution_count": null,
   "metadata": {},
   "outputs": [],
   "source": [
    "# Drop the example table created above\n",
    "print ('MyDB tables before drop():\\n' + queryClient.list ())\n",
    "       \n",
    "result = queryClient.drop ('zzmags')\n",
    "#result = queryClient.drop (token, 'zzmags')\n",
    "#result = queryClient.drop (token, table='zzmags')\n",
    "       \n",
    "print ('MyDB tables after drop():\\n' + queryClient.list ())\n",
    "print (result[:256])"
   ]
  },
  {
   "cell_type": "markdown",
   "metadata": {},
   "source": [
    "#### Submitting an Asynchronous Query\n",
    "\n",
    "We now want to run a longer query, say, a count of objects in USNO-A2 (typically ~1 min to execute), and need to do it asynchronously. The first thing we do is submit the query as normal but with the <i>async</i> argument set to _True_ - this will return the id of the asynchronous job. All the previous arguments can also be used to specify where and in what format we want the query results."
   ]
  },
  {
   "cell_type": "code",
   "execution_count": null,
   "metadata": {},
   "outputs": [],
   "source": [
    "# A simple long-running query\n",
    "jobId = queryClient.query(adql='SELECT COUNT(*) FROM usno.a2', async=True)\n",
    "#jobId = queryClient.query(adql='SELECT foo,bar FROM usno.a2', async=True)   # to generate error\n",
    "print ('Job ID: ' + jobId)"
   ]
  },
  {
   "cell_type": "markdown",
   "metadata": {},
   "source": [
    "####  Checking Asynchronous Job Status\n",
    "\n",
    "We can check on the status of an asynchronous job at any time using the _**queryClient.status()**_ method:\n",
    "\n",
    "        status = queryClient.status (<jobID>)\n",
    "        status = queryClient.status (token, <jobID>)\n",
    "        status = queryClient.status (token, jobId=<jobID>)\n",
    "where:\n",
    "\n",
    "        jobID - The job ID string returned by query() in async mode\n",
    "        token - Data Lab auth token to use when overriding login token\n",
    "        \n",
    "The _status()_ method will return one of 'QUEUED', 'EXECUTING', 'COMPLETED', 'ABORTED' or 'ERROR' depending on the phase of the job identified by the _<jobID>_ string.  Typically this would be done with a loop containing a pause to wait until the query is completed."
   ]
  },
  {
   "cell_type": "code",
   "execution_count": null,
   "metadata": {},
   "outputs": [],
   "source": [
    "import time     # for the sleep() method\n",
    "status = ''\n",
    "while (status not in ['COMPLETED','ERROR']):\n",
    "    status = queryClient.status(jobId)\n",
    "    print (status)\n",
    "    time.sleep(5)"
   ]
  },
  {
   "cell_type": "markdown",
   "metadata": {},
   "source": [
    "Note that within the loop we use the _**queryClient.error()**_ method to retrieve an error message on a failed job.\n",
    "\n",
    "If the status value is \"_QUEUED_\" then the job is waiting to be executed. If\n",
    "it is \"_ERROR_\" then there was a problem with the execution. When the status value is \"_COMPLETED_\", we can get our results (assuming we did not save them to our virtual storage or remote database).\n",
    "\n",
    "#### Retrieving Asynchronous Query Results\n",
    "\n",
    "We can retrieve the results of an asynchronous job once completed using the _**queryClient.results()**_ method:\n",
    "\n",
    "        results = queryClient.results (<jobID>, delete=True)\n",
    "        results = queryClient.results (token, <jobID>, delete=True)\n",
    "        results = queryClient.results (token, jobId=<jobID>, delete=True)\n",
    "where:, \n",
    "\n",
    "        jobID - The job ID string returned by query() in async mode\n",
    "        token - Data Lab auth token to use when overriding login token\n",
    "        \n",
    "By default results of an asynchronous query can only be retrieved *once* as they are removed from the server following a successful retrieval.  However, results will typically be available for up to 7 days once a query is complete."
   ]
  },
  {
   "cell_type": "code",
   "execution_count": null,
   "metadata": {},
   "outputs": [],
   "source": [
    "results = queryClient.results(jobId)\n",
    "print (results)"
   ]
  },
  {
   "cell_type": "markdown",
   "metadata": {},
   "source": [
    "The _delete_ option can be disabled when results may need to be retrieved more than once in a workflow.  For example:"
   ]
  },
  {
   "cell_type": "code",
   "execution_count": null,
   "metadata": {},
   "outputs": [],
   "source": [
    "for i in range(3):\n",
    "    print (queryClient.results(jobId, delete=False))\n",
    "junk = queryClient.results(jobId, delete=True)                # delete the results from the server"
   ]
  },
  {
   "cell_type": "markdown",
   "metadata": {},
   "source": [
    "#### Retrieving Error Messages from Asynchronous Queries\n",
    "\n",
    "If an asynchronous query exits with an 'ERROR' status, the _**queryClient.error()**_ may be used.\n",
    "\n",
    "        errmsg = queryClient.error (<jobID>)\n",
    "        errmsg = queryClient.error (token, <jobID>)\n",
    "        errmsg = queryClient.error (token, jobId=<jobID>)\n",
    "where: \n",
    "\n",
    "        jobID - The job ID string returned by query() in async mode\n",
    "        token - Data Lab auth token to use when overriding login token\n",
    "        \n",
    "For example:"
   ]
  },
  {
   "cell_type": "code",
   "execution_count": null,
   "metadata": {},
   "outputs": [],
   "source": [
    "# Submit a bogus ADQL query\n",
    "jobId = queryClient.query(adql='SELECT foo,bar FROM usno.a2', async=True)   # to generate error\n",
    "print ('Job ID: ' + jobId)\n",
    "\n",
    "status = ''\n",
    "while (status not in ['COMPLETED','ERROR']):\n",
    "    status = queryClient.status(jobId)\n",
    "    print ((status if status != 'ERROR' else ('Error: %s' % (queryClient.error(jobId)))))\n",
    "    time.sleep(1)"
   ]
  },
  {
   "cell_type": "markdown",
   "metadata": {},
   "source": [
    "#### Aborting an Asynchronous Query\n",
    "\n",
    "An asynchronous query may be aborted using the _**queryClient.abort()**_ method.\n",
    "\n",
    "        msg = queryClient.abort (<jobID>)\n",
    "        msg = queryClient.abort (token, <jobID>)\n",
    "        msg = queryClient.abort (token, jobId=<jobID>)\n",
    "where: \n",
    "\n",
    "        jobID - The job ID string returned by query() in async mode\n",
    "        token - Data Lab auth token to use when overriding login token\n",
    "        \n",
    "For example:"
   ]
  },
  {
   "cell_type": "code",
   "execution_count": null,
   "metadata": {},
   "outputs": [],
   "source": [
    "# Submit a async ADQL query\n",
    "jobId = queryClient.query(adql='SELECT count(*) FROM usno.a2', async=True)   # to generate error\n",
    "print ('Job ID: ' + jobId)\n",
    "\n",
    "time.sleep(10)                    # let it run for a little bit ....\n",
    "msg = queryClient.abort (jobId)   # kill the job"
   ]
  },
  {
   "cell_type": "code",
   "execution_count": null,
   "metadata": {},
   "outputs": [],
   "source": [
    "# Wait for job to be killed on the server and then get status\n",
    "time.sleep(5)\n",
    "msg = queryClient.abort (jobId)\n",
    "status = queryClient.status(jobId)\n",
    "print (jobId)\n",
    "print ('Status:  %s   Message:  %s' % (status,msg))     # FIXME - final status should be 'ABORTED'"
   ]
  },
  {
   "cell_type": "markdown",
   "metadata": {},
   "source": [
    "### Using Multiple Clients\n",
    "\n",
    "Because methods like _set_profile()_ change the default services available, applications that query a mix of Data Lab and external services may find it convenient to instantiate multiple Query Manager clients by name.  This can be done using the _**queryClient.getClient()**_ method:\n",
    "\n",
    "        client = queryClient.getClient (profile=<profile_name>, svc_url=<service_url>)   \n",
    "where\n",
    "\n",
    "        profile - The name of a valid Query Manager profile\n",
    "        svc_url - The service URL of the Query Manager instance to use\n",
    "        \n",
    "For example:"
   ]
  },
  {
   "cell_type": "code",
   "execution_count": null,
   "metadata": {},
   "outputs": [],
   "source": [
    "qc = queryClient.getClient()                   # get a default client\n",
    "gavo = queryClient.getClient (profile='GAVO')  # get a client for the GAVO profile\n",
    "\n",
    "print ('Default schema:\\n' + qc.schema(''))\n",
    "print ('GAVO schema:\\n' + gavo.schema(''))"
   ]
  },
  {
   "cell_type": "markdown",
   "metadata": {},
   "source": [
    "***\n",
    "\n",
    "## Using the *datalab* command\n",
    "\n",
    "The <i>datalab</i> command provides an alternate command line way to work with the Query Manager through the <i>query</i> subcommand.  Similarly, other commands exist to view or access virtual storage or manage the user's login.  For a summary of available commands, type:"
   ]
  },
  {
   "cell_type": "code",
   "execution_count": null,
   "metadata": {},
   "outputs": [],
   "source": [
    "!datalab help"
   ]
  },
  {
   "cell_type": "markdown",
   "metadata": {},
   "source": [
    "#### Logging into the Data Lab\n",
    "\n",
    "We need to be logged into the Data Lab to use the Query Manager if we also plan to use the Virtual Storage resources of our user account.  If you simply wish to access the data and return it for local use, you can skip this step and query for data anonymously.  Here. we'll login using a demo account name, user's may login using several identities (e.g. a shared collaboration account as well as a personal account) where only one identity is active at a time (the '*whoami*' command will print what that is)."
   ]
  },
  {
   "cell_type": "code",
   "execution_count": null,
   "metadata": {},
   "outputs": [],
   "source": [
    "!datalab login user=demo00 password=balatad\n",
    "!datalab whoami"
   ]
  },
  {
   "cell_type": "markdown",
   "metadata": {},
   "source": [
    "Similarly, the '*logout*' command can be used to log out of the Data Lab."
   ]
  },
  {
   "cell_type": "code",
   "execution_count": null,
   "metadata": {},
   "outputs": [],
   "source": [
    "!datalab logout\n",
    "!datalab whoami"
   ]
  },
  {
   "cell_type": "markdown",
   "metadata": {},
   "source": [
    "#### A quick data query\n",
    "\n",
    "Again we will return the magnitudes of the top 10 objects in the SMASH DR1 object table and get it back as a CSV string (this is the default, so specification of the '*fmt*' parameter is optional)"
   ]
  },
  {
   "cell_type": "code",
   "execution_count": null,
   "metadata": {},
   "outputs": [],
   "source": [
    "!datalab query fmt='csv' \\\n",
    "    adql='select top 10 id,gmag,rmag,imag from smash_dr1.object'"
   ]
  },
  {
   "cell_type": "markdown",
   "metadata": {},
   "source": [
    "#### Saving results to virtual storage\n",
    "\n",
    "Now we'll save the results to our virtual storage space as a file.  Note that the initial login above has saved our identity token which will be passed automatically with the query.  Afterward, we'll list the virtual storage space to confrm the file was saved.  Notice that in this query, we use the '*sql*' parameter to submit the query directly to the database since we are using the SQL 'limit 10000' syntax instead of the ADQL \"top 10000' syntax."
   ]
  },
  {
   "cell_type": "code",
   "execution_count": null,
   "metadata": {},
   "outputs": [],
   "source": [
    "# Login again to access Virtual Storage\n",
    "!datalab login user=demo00 password=balatad\n",
    "\n",
    "!datalab query out='vos://smash_mags.csv'  \\\n",
    "    sql='select id,gmag,rmag,imag from smash_dr1.object limit 10000'\n",
    "!datalab ls name=vos://"
   ]
  },
  {
   "cell_type": "markdown",
   "metadata": {},
   "source": [
    "#### Saving results to remote database\n",
    "\n",
    "And we can also save data to our remote database.  Here we also use the '*listdb*' command to show the list of tables in our MyDB, by specifying the table name we get a more descriptive listing of the table structure. "
   ]
  },
  {
   "cell_type": "code",
   "execution_count": null,
   "metadata": {},
   "outputs": [],
   "source": [
    "!datalab query out='mydb://smash_mags34' \\\n",
    "    adql='select top 1000 id,gmag,rmag,imag from smash_dr1.object' \n",
    "!datalab listdb\n",
    "!datalab listdb table=smash_mags"
   ]
  },
  {
   "cell_type": "markdown",
   "metadata": {},
   "source": [
    "#### An asynchronous query\n",
    "\n",
    "Alternatively, we can run a longer asynchronous query:"
   ]
  },
  {
   "cell_type": "code",
   "execution_count": null,
   "metadata": {},
   "outputs": [],
   "source": [
    "%%script bash\n",
    "export jobId=`datalab query adql='select count(*) from des_sva1.gold_catalog' async=True`\n",
    "echo \"Job ID = \"$jobId\n",
    "\n",
    "status=`datalab qstatus jobId=$jobId`\n",
    "echo \"Init status:  \"$status\n",
    "while [ \"$status\" != \"COMPLETED\" ]\n",
    "do\n",
    "    echo `date`\"  \"$status\n",
    "    sleep 1\n",
    "    status=`datalab qstatus jobId=$jobId`\n",
    "done\n",
    "\n",
    "echo \"Query complete, result is:\"\n",
    "datalab qresults jobId=$jobId"
   ]
  },
  {
   "cell_type": "markdown",
   "metadata": {},
   "source": []
  }
 ],
 "metadata": {
  "anaconda-cloud": {},
  "kernelspec": {
   "display_name": "Python 3",
   "language": "python",
   "name": "python3"
  },
  "language_info": {
   "codemirror_mode": {
    "name": "ipython",
    "version": 3
   },
   "file_extension": ".py",
   "mimetype": "text/x-python",
   "name": "python",
   "nbconvert_exporter": "python",
   "pygments_lexer": "ipython3",
   "version": "3.6.2"
  }
 },
 "nbformat": 4,
 "nbformat_minor": 1
}
