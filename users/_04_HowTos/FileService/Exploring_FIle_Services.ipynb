{
 "cells": [
  {
   "cell_type": "code",
   "execution_count": 1,
   "metadata": {
    "collapsed": true
   },
   "outputs": [],
   "source": [
    "__author__ = 'Mike Fitzpatrick <fitz@noao.edu>, Glenn Eychaner <geychaner@noao.edu>'\n",
    "__version__ = '20190103'\n",
    "__datasets__ = ['sdss_dr14']"
   ]
  },
  {
   "cell_type": "markdown",
   "metadata": {},
   "source": [
    "### Exploring Public File Services\n",
    "\n",
    "_Mike Fitzpatrick and Glenn Eychaner_\n",
    "\n",
    "*Revised:  Jan 03, 2019*\n",
    "\n",
    "Files in the virtual storage are usually identified via the prefix \"_vos://_\". This shorthand identifier is resolved to a user's home directory of the storage space in the service.  \n",
    "\n",
    "If the \"_vos://_\" prefix is instead the name of another user (e.g. \"_geychaner://_\", and the remainder of the path grants public or group read/write access, then the other user's spaces will be accessed. Most user spaces have a \"_/public_\" directory to facilitate file sharing (e.g. '_geychaner://public/foo.fits_' will access the '_foo.fits_' file from user '_geychaner_'). Users can make any file (or directory) public by moving it to (or creating a link in) their \"/public\" directory.\n",
    "\n",
    "_Public file services_ are specially created areas where all files are world-readable, and are used for serving files from Data Lab datasets."
   ]
  },
  {
   "cell_type": "markdown",
   "metadata": {},
   "source": [
    "We will begin with the **SDSS DR14** public file service as an example."
   ]
  },
  {
   "cell_type": "code",
   "execution_count": 1,
   "metadata": {
    "collapsed": true
   },
   "outputs": [],
   "source": [
    "# Standard DL imports, note we only need storeClient\n",
    "from dl import storeClient as sc\n",
    "\n",
    "# 3rd Party Imports\n",
    "import numpy as np\n",
    "from matplotlib import pyplot as p\n",
    "from astropy.io import fits"
   ]
  },
  {
   "cell_type": "markdown",
   "metadata": {},
   "source": [
    "### Set base directory"
   ]
  },
  {
   "cell_type": "code",
   "execution_count": null,
   "metadata": {
    "collapsed": true
   },
   "outputs": [],
   "source": [
    "base = 'sdss_dr14://eboss/spectro/redux/v5_10_0/'"
   ]
  },
  {
   "cell_type": "markdown",
   "metadata": {},
   "source": [
    "### List all available plate/mjd/fiber combinations in the base directory"
   ]
  },
  {
   "cell_type": "code",
   "execution_count": null,
   "metadata": {
    "collapsed": true
   },
   "outputs": [],
   "source": [
    "print(storeClient.ls (base, format='short'))"
   ]
  },
  {
   "cell_type": "markdown",
   "metadata": {},
   "source": [
    "### Pick a plate/mjd/fiber"
   ]
  },
  {
   "cell_type": "code",
   "execution_count": 2,
   "metadata": {},
   "outputs": [
    {
     "name": "stdout",
     "output_type": "stream",
     "text": [
      "File: sdss_dr14://eboss/spectro/redux/v5_10_0/3615/spPlate-3615-56544.fits\n"
     ]
    }
   ],
   "source": [
    "base = 'sdss_dr14://eboss/spectro/redux/v5_10_0/'\n",
    "plate = '3615'\n",
    "mjd = '56544'\n",
    "fiber = 39\n",
    "\n",
    "# Construct the vospace path to the plate file and verify\n",
    "spfile = base + plate + '/spPlate-' + plate + '-' + mjd + '.fits'\n",
    "print ('File: ' + spfile)"
   ]
  },
  {
   "cell_type": "markdown",
   "metadata": {},
   "source": [
    "### Now read the spectrum from the file and construct the wavelength array"
   ]
  },
  {
   "cell_type": "code",
   "execution_count": 4,
   "metadata": {
    "collapsed": true
   },
   "outputs": [],
   "source": [
    "try:\n",
    "    with fits.open(sc.get(spfile, mode='fileobj')) as hdulist:\n",
    "        hdr = hdulist[0].header\n",
    "        flux = hdulist[0].data[fiber-1, :]\n",
    "        ivar = hdulist[1].data[fiber-1, :]\n",
    "        sky = hdulist[6].data[fiber-1, :]\n",
    "except Exception as e:\n",
    "    raise ValueError(\"Could not find spPlate file for plate={0:s}, mjd={1:s}!\".format(plate, mjd))\n",
    "\n",
    "loglam = hdr['COEFF0'] + hdr['COEFF1']*np.arange(hdr['NAXIS1'], dtype=flux.dtype)\n",
    "wavelength = 10.0**loglam"
   ]
  },
  {
   "cell_type": "markdown",
   "metadata": {},
   "source": [
    "### Make a toy plot of the spectrum"
   ]
  },
  {
   "cell_type": "code",
   "execution_count": 5,
   "metadata": {
    "scrolled": true
   },
   "outputs": [
    {
     "data": {
      "text/plain": [
       "Text(0,0.5,'Flux')"
      ]
     },
     "execution_count": 5,
     "metadata": {},
     "output_type": "execute_result"
    },
    {
     "data": {
      "image/png": "[encoded data removed]",
      "text/plain": [
       "<Figure size 432x288 with 1 Axes>"
      ]
     },
     "metadata": {},
     "output_type": "display_data"
    }
   ],
   "source": [
    "p.plot(wavelength, flux * (ivar > 0), 'k')\n",
    "p.xlabel('Angstroms')\n",
    "p.ylabel('Flux')"
   ]
  },
  {
   "cell_type": "markdown",
   "metadata": {},
   "source": [
    "### List all available public file spaces"
   ]
  },
  {
   "cell_type": "code",
   "execution_count": null,
   "metadata": {
    "collapsed": true
   },
   "outputs": [],
   "source": [
    "sc.services()"
   ]
  },
  {
   "cell_type": "code",
   "execution_count": null,
   "metadata": {
    "collapsed": true
   },
   "outputs": [],
   "source": []
  }
 ],
 "metadata": {
  "kernelspec": {
   "display_name": "Python 3",
   "language": "python",
   "name": "python3"
  },
  "language_info": {
   "codemirror_mode": {
    "name": "ipython",
    "version": 3
   },
   "file_extension": ".py",
   "mimetype": "text/x-python",
   "name": "python",
   "nbconvert_exporter": "python",
   "pygments_lexer": "ipython3",
   "version": "3.6.2"
  }
 },
 "nbformat": 4,
 "nbformat_minor": 2
}
