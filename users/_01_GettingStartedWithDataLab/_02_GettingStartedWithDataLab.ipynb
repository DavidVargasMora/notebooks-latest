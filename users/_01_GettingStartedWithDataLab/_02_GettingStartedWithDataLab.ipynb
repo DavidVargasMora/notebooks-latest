{
 "cells": [
  {
   "cell_type": "code",
   "execution_count": null,
   "metadata": {
    "collapsed": true
   },
   "outputs": [],
   "source": [
    "__author__ = 'Knut Olsen <kolsen@noao.edu>' # single string; emails in <>\n",
    "__version__ = '20180104' # yyyymmdd; version datestamp of this notebook\n",
    "__datasets__ = ['']  # enter used datasets by hand\n",
    "__keywords__ = ['tutorial','query','image cutout']"
   ]
  },
  {
   "cell_type": "markdown",
   "metadata": {},
   "source": [
    "# Welcome to the NOAO Data Lab\n",
    "*Knut Olsen, NOAO Data Lab Team*"
   ]
  },
  {
   "cell_type": "markdown",
   "metadata": {},
   "source": [
    "## Table of contents\n",
    "* [Goals](#goals)\n",
    "* [Summary](#summary)\n",
    "* [Disclaimer & attribution](#attribution)\n",
    "* [Imports & setup](#import)\n",
    "* [Authentication](#auth)\n",
    "* [Basic info about database tables](#basic)\n",
    "* [A simple database query](#query)\n",
    "* [An image cutout](#image)\n",
    "* [Resources and references](#resources)"
   ]
  },
  {
   "cell_type": "markdown",
   "metadata": {},
   "source": [
    "<a class=\"anchor\" id=\"goals\"></a>\n",
    "# Goals\n",
    "Learn how to:\n",
    "* Import standard Data Lab modules\n",
    "* Set up the Simple Image Access (SIA) Service to let you create image cutouts\n",
    "* Discover the datasets available in the database\n",
    "* Issue a simple query to the database\n",
    "* Retrieve image cutouts\n",
    "* Create a color image\n"
   ]
  },
  {
   "cell_type": "markdown",
   "metadata": {},
   "source": [
    "<a class=\"anchor\" id=\"summary\"></a>\n",
    "# Summary\n",
    "\n",
    "If you've gotten this far, you're planning to use the Data Lab Jupyter notebook environment to access, explore, and analyze datasets available in the Data Lab.  This notebook aims to provide you with a very quick overview of how to use some common Data Lab services.  For more detailed explanations of data access, the full range of services, or for complete science examples, check out the other notebooks in this directory tree."
   ]
  },
  {
   "cell_type": "markdown",
   "metadata": {},
   "source": [
    "<a class=\"anchor\" id=\"attribution\"></a>\n",
    "# Disclaimer & attribution\n",
    "If you use this notebook for your published science, please acknowledge the following:\n",
    "\n",
    "* Data Lab concept paper: Fitzpatrick et al., \"The NOAO Data Laboratory: a conceptual overview\", SPIE, 9149, 2014, http://dx.doi.org/10.1117/12.2057445\n",
    "\n",
    "* Data Lab disclaimer: http://datalab.noao.edu/disclaimers.php\n"
   ]
  },
  {
   "cell_type": "markdown",
   "metadata": {},
   "source": [
    "<a class=\"anchor\" id=\"import\"></a>\n",
    "# Imports and setup\n",
    "To use the Data Lab, you'll generally want to import common packages such as NumPy and matplotlib.  From the datalab package, you'll at minimum need the authClient module to get an authorization token (even if using Data Lab anonymously) and the queryClient module to issue a query against the catalog database.\n",
    "\n",
    "For storing results in virtual storage and myDB, you'll need the storeClient module *and* log in as an authenticated user.  \n",
    "\n",
    "The helpers module has many convience functions.  See the <a href=\"http://datalab.noao.edu/docs/manual/UsingTheNOAODataLab/ClientInterfaces/Helpers/Helpers.html\">online documentation</a> for a summary.\n",
    "\n",
    "Use of the image cutout service (SIA) requires the external PyVO package, and the URL of the SIA service that you will use.  Data Lab has a general SIA service containing all available images from NOAO Science Archive, as well as a number of survey-specific services.  See the SIA service HowTo for examples."
   ]
  },
  {
   "cell_type": "code",
   "execution_count": null,
   "metadata": {
    "collapsed": true
   },
   "outputs": [],
   "source": [
    "import numpy as np\n",
    "import pylab as plt\n",
    "import matplotlib\n",
    "from astropy import utils, io\n",
    "from getpass import getpass\n",
    "from astropy.visualization import make_lupton_rgb\n",
    "\n",
    "%matplotlib inline\n",
    "\n",
    "# Datalab and related imports\n",
    "# You'll need at least these for authenticating and for issuing database queries\n",
    "from dl import authClient as ac, queryClient as qc\n",
    "# You'll want storeClient if you plan to use virtual storage or myDB\n",
    "#from dl import storeClient as sc\n",
    "# Get helpers for various convenience function\n",
    "from dl.helpers.utils import convert\n",
    "\n",
    "# To get image cutouts, you'll need the VO-based SIA package, and define which SIA service\n",
    "# to use\n",
    "from pyvo.dal import sia\n",
    "DEF_ACCESS_URL = \"http://datalab.noao.edu/sia/des_dr1\" # DES SIA service URL\n",
    "svc = sia.SIAService(DEF_ACCESS_URL)\n"
   ]
  },
  {
   "cell_type": "markdown",
   "metadata": {},
   "source": [
    "<a class=\"anchor\" id=\"auth\"></a>\n",
    "# Authentication\n",
    "For the purposes of this notebook, there is no need to log in with your username and password inside the notebook. As an anonymous user, you can issue queries to the database or retrieve image cutouts, but not store your results in virtual storage or myDB.  If you need these things, you would use the *authClient* module to log in.  You only need to do this once (unless you log out through authClient), as the authentication token is stored on the server and automatically detected. "
   ]
  },
  {
   "cell_type": "code",
   "execution_count": null,
   "metadata": {},
   "outputs": [],
   "source": [
    "# As an anonymous user, you can issue queries to the database or retrieve image cutouts, but\n",
    "# not store your results in virtual storage or myDB\n",
    "\n",
    "# Get token for an authenticated user if you wish to use virtual storage or myDB\n",
    "#token = ac.login(input(\"Enter user name: \"),getpass(\"Enter password: \"))\n",
    "ac.whoAmI()"
   ]
  },
  {
   "cell_type": "markdown",
   "metadata": {},
   "source": [
    "<a class=\"anchor\" id=\"basic\"></a>\n",
    "# Basic info about database tables\n",
    "\n",
    "### What datasets are available?\n",
    "The queryClient has a <tt>schema</tt> method to give you information about available databases, tables, and columns.  If we call <tt>qc.schema()</tt> with an empty first argument, we'll get information on the available datasets and a one-line description for most of them."
   ]
  },
  {
   "cell_type": "code",
   "execution_count": null,
   "metadata": {},
   "outputs": [],
   "source": [
    "print(qc.schema())"
   ]
  },
  {
   "cell_type": "markdown",
   "metadata": {},
   "source": [
    "### Get list of tables\n",
    "If we call qc.schema() with a specific dataset name, we'll see what tables are available for that dataset.  Here's what's available for SMASH DR1:"
   ]
  },
  {
   "cell_type": "code",
   "execution_count": null,
   "metadata": {},
   "outputs": [],
   "source": [
    "print(qc.schema('smash_dr1'))"
   ]
  },
  {
   "cell_type": "markdown",
   "metadata": {},
   "source": [
    "### Get list of columns\n",
    "We can also use qc.schema() to get column names and descriptions for a specific table.  Here's what's available for the SMASH DR1 object table.  (Note that not all datasets have column descriptions for every column)."
   ]
  },
  {
   "cell_type": "code",
   "execution_count": null,
   "metadata": {},
   "outputs": [],
   "source": [
    "print(qc.schema('smash_dr1.object'))"
   ]
  },
  {
   "cell_type": "markdown",
   "metadata": {},
   "source": [
    "### Getting statistics for tables\n",
    "You'll often want to get some basic information about a given table, e.g. the number of rows.  You might be tempted to use COUNT(\\*) in a query for this--DON'T DO THIS.  You'll be scanning the entire table, which for some tables will mean scanning billions of rows.  Instead, the special database <tt>tbl_stat</tt> contains this information for each dataset.  Query this table instead:"
   ]
  },
  {
   "cell_type": "code",
   "execution_count": null,
   "metadata": {
    "collapsed": true
   },
   "outputs": [],
   "source": [
    "#query=\"SELECT COUNT(ra) FROM phat_v2.phot_mod\" # SLOW\n",
    "query=\"SELECT * FROM tbl_stat WHERE schema='smash_dr1' and tbl_name='object'\" # Retrieve useful stats, quickly"
   ]
  },
  {
   "cell_type": "code",
   "execution_count": null,
   "metadata": {},
   "outputs": [],
   "source": [
    "%%time\n",
    "info = qc.query(sql=query) # by default the result is a CSV formatted string"
   ]
  },
  {
   "cell_type": "code",
   "execution_count": null,
   "metadata": {},
   "outputs": [],
   "source": [
    "print(info)"
   ]
  },
  {
   "cell_type": "markdown",
   "metadata": {},
   "source": [
    "<a class=\"anchor\" id=\"query\"></a>\n",
    "# A simple query\n",
    "In the above section you already saw a basic query of the <tt>tbl_stats</tt> database.  Here we will retrieve the first 10 rows from the <tt>smash_dr1.object</tt> table:"
   ]
  },
  {
   "cell_type": "code",
   "execution_count": null,
   "metadata": {},
   "outputs": [],
   "source": [
    "%%time\n",
    "query=\"SELECT * FROM smash_dr1.object LIMIT 10\"\n",
    "result = qc.query(sql=query) # by default the result is a CSV formatted string"
   ]
  },
  {
   "cell_type": "markdown",
   "metadata": {},
   "source": [
    "You'll notice that the result is returned as a long string:"
   ]
  },
  {
   "cell_type": "code",
   "execution_count": null,
   "metadata": {},
   "outputs": [],
   "source": [
    "print(type(result))\n",
    "print(result[0:99])"
   ]
  },
  {
   "cell_type": "markdown",
   "metadata": {},
   "source": [
    "You'll generally want to convert this string into a table or an array.  The <tt>helpers</tt> module makes it easy.  Here we convert the string result into a Pandas dataframe:"
   ]
  },
  {
   "cell_type": "code",
   "execution_count": null,
   "metadata": {},
   "outputs": [],
   "source": [
    "df = convert(result,'pandas')\n",
    "df.head()"
   ]
  },
  {
   "cell_type": "markdown",
   "metadata": {},
   "source": [
    "You could store these results to VOSpace or to mydb if you logged in as an authenticated user.  See the HowTo notebooks for examples of this."
   ]
  },
  {
   "cell_type": "markdown",
   "metadata": {},
   "source": [
    "<a class=\"anchor\" id=\"image\"></a>\n",
    "# An image cutout\n",
    "Using the image cutout service is a two-step process.  First, you need to specify a position and the size of the image that you want to retrieve, and then call the SIA service for all of the images that overlap that point on the sky:"
   ]
  },
  {
   "cell_type": "code",
   "execution_count": null,
   "metadata": {
    "collapsed": true
   },
   "outputs": [],
   "source": [
    "ra = 35.\n",
    "dec = -52.\n",
    "fov = 1./60\n",
    "imgTable = svc.search((ra,dec), (fov/np.cos(dec*np.pi/180), fov), verbosity=2).votable.to_table()"
   ]
  },
  {
   "cell_type": "markdown",
   "metadata": {},
   "source": [
    "The result is a VOTable that we convert to an astropy Table on the fly.  The table contains many columns of data describing the parameters of each image, including a URL for the cutout itself.  Note, however, that data quality images such as masks or weight maps can also appear in the list:"
   ]
  },
  {
   "cell_type": "code",
   "execution_count": null,
   "metadata": {},
   "outputs": [],
   "source": [
    "print(type(imgTable))\n",
    "imgTable"
   ]
  },
  {
   "cell_type": "markdown",
   "metadata": {},
   "source": [
    "The next step is to identify the image that you want from the list of available images.  Here we will limit the list to g-band image Stacks, and select the <tt>image</tt> product type (rather than weights or masks)."
   ]
  },
  {
   "cell_type": "code",
   "execution_count": null,
   "metadata": {},
   "outputs": [],
   "source": [
    "sel0 = imgTable['obs_bandpass'].astype(str)=='g'\n",
    "sel = sel0 & ((imgTable['proctype'].astype(str)=='Stack') & (imgTable['prodtype'].astype(str)=='image')) # basic selection\n",
    "Table = imgTable[sel] # select\n",
    "Table"
   ]
  },
  {
   "cell_type": "markdown",
   "metadata": {},
   "source": [
    "The final step is to extract the URL and download the image:"
   ]
  },
  {
   "cell_type": "code",
   "execution_count": null,
   "metadata": {},
   "outputs": [],
   "source": [
    "row = Table[0]\n",
    "url = row['access_url'].decode() # get the download URL\n",
    "print(url)\n"
   ]
  },
  {
   "cell_type": "code",
   "execution_count": null,
   "metadata": {
    "collapsed": true
   },
   "outputs": [],
   "source": [
    "gimage = io.fits.getdata(utils.data.download_file(url,cache=True,show_progress=False,timeout=120))\n"
   ]
  },
  {
   "cell_type": "markdown",
   "metadata": {},
   "source": [
    "We'll do a quick display here:"
   ]
  },
  {
   "cell_type": "code",
   "execution_count": null,
   "metadata": {},
   "outputs": [],
   "source": [
    "plt.imshow(gimage,cmap=matplotlib.cm.gray_r)"
   ]
  },
  {
   "cell_type": "markdown",
   "metadata": {},
   "source": [
    "### Want to make a color image?\n",
    "Let's write a quick function to do the SIA query and download, download two more bands, and combine them with the g image."
   ]
  },
  {
   "cell_type": "code",
   "execution_count": null,
   "metadata": {
    "collapsed": true
   },
   "outputs": [],
   "source": [
    "# a little function to download the deepest stacked images\n",
    "# adapted from R. Nikutta\n",
    "def download_deep_stack(ra,dec,fov=0.1,band='g'):\n",
    "    imgTable = svc.search((ra,dec), (fov/np.cos(dec*np.pi/180), fov), verbosity=2).votable.to_table()\n",
    "    print(\"The full image list contains\", len(imgTable), \"entries\")\n",
    "    \n",
    "    sel0 = imgTable['obs_bandpass'].astype(str)==band\n",
    "    sel = sel0 & ((imgTable['proctype'].astype(str)=='Stack') & (imgTable['prodtype'].astype(str)=='image')) # basic selection\n",
    "    Table = imgTable[sel] # select\n",
    "    if (len(Table)>0):\n",
    "        row = Table[np.argmax(Table['exptime'].data.data.astype('float'))] # pick image with longest exposure time\n",
    "        url = row['access_url'].decode() # get the download URL\n",
    "        print ('downloading deepest stacked image...')\n",
    "        image = io.fits.getdata(utils.data.download_file(url,cache=True,show_progress=False,timeout=120))\n",
    "        print(url)\n",
    "        \n",
    "    else:\n",
    "        print ('No image available.')\n",
    "        image=None\n",
    "        \n",
    "    return image"
   ]
  },
  {
   "cell_type": "code",
   "execution_count": null,
   "metadata": {},
   "outputs": [],
   "source": [
    "rimage=download_deep_stack(ra,dec,fov,band='r')\n",
    "iimage=download_deep_stack(ra,dec,fov,band='i')\n"
   ]
  },
  {
   "cell_type": "code",
   "execution_count": null,
   "metadata": {},
   "outputs": [],
   "source": [
    "color_image = make_lupton_rgb(iimage, rimage, gimage, stretch=30)\n",
    "plt.imshow(color_image)"
   ]
  }
 ],
 "metadata": {
  "kernelspec": {
   "display_name": "Python 3",
   "language": "python",
   "name": "python3"
  },
  "language_info": {
   "codemirror_mode": {
    "name": "ipython",
    "version": 3
   },
   "file_extension": ".py",
   "mimetype": "text/x-python",
   "name": "python",
   "nbconvert_exporter": "python",
   "pygments_lexer": "ipython3",
   "version": "3.6.2"
  }
 },
 "nbformat": 4,
 "nbformat_minor": 2
}
