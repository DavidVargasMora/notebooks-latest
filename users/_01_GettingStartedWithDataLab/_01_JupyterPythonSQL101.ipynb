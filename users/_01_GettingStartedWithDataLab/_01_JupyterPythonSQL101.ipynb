{
 "cells": [
  {
   "cell_type": "code",
   "execution_count": 1,
   "metadata": {
    "collapsed": true
   },
   "outputs": [],
   "source": [
    "__author__ = 'Robert Nikutta <nikutta@noao.edu, Data Lab Team <datalab@noao.edu'\n",
    "__version__ = '20180529' # yyyymmdd\n",
    "__datasets__ = ''\n",
    "__keywords__ = ['Jupyter','Python','Tutorial']"
   ]
  },
  {
   "cell_type": "markdown",
   "metadata": {},
   "source": [
    "# Goals\n",
    "Learn or review the basics of:\n",
    "- \n",
    "\n",
    "# Table of contents\n",
    "\n",
    "## Links you need\n",
    "\n",
    "| What | Where |\n",
    "|------|-------|\n",
    "|Get your Data Lab account now!| http://datalab.noao.edu/ |\n",
    "|To the Data Lab notebook server!| https://datalab.noao.edu/devbooks |\n",
    "|Always look to the Data Lab user manual (and use search function)| http://datalab.noao.edu/docs/manual/ |\n",
    "|Ask questions on our help desk| http://datalab.noao.edu/help/ |\n",
    "\n",
    "\n",
    "## Jupyter 101\n",
    "* [Get by with just a few shortcuts](#shortcuts)\n",
    "* [Create a new notebook](#newnotebook)\n",
    "* [Save a notebook](#savenotebook)\n",
    "* [Start an existing notebook](#startexisting)\n",
    "* [The kernel: change, stop, restart, swear, repeat](#kernel)\n",
    "\n",
    "## Python 101 - 201\n",
    "* [Hello world](#hello) _print()_\n",
    "* [Hello you](#helloyou) _functions_\n",
    "* [2 + 2](#calc) _math_\n",
    "* [If it quacks like a duck...](#duck) _types_\n",
    "* [Extra power through modules](#modules) _packages_\n",
    "* [Everything is an object](#object) _attributes & methods_\n",
    "* [Example: Plot a 1-d function](#plot1d) _plotting_\n",
    "* [Example: Plot a 2d Gaussian](#gauss2d) _array calcs_\n",
    "* [Example: Make a scatter plot](#scatter) _export data to file_\n",
    "\n",
    "## Data Lab 101\n",
    "* [Import Data Lab packages](#dlimport)\n",
    "* [Login](#login)\n",
    "\n",
    "## SQL 101\n",
    "* [Structure of a simple query](#querystructure)\n",
    "* [Our first Data Lab query](#firstquery)\n",
    "* [LIMIT yourself](#limit)\n",
    "* [What's there anyway?](#whatsthere)\n",
    "* [Async queries](#async)"
   ]
  },
  {
   "cell_type": "markdown",
   "metadata": {},
   "source": [
    "# Jupyter notebook\n",
    "<a class=\"anchor\" id=\"shortcuts\"></a>\n",
    "\n",
    "## Get by with just a few shortcuts\n",
    "\n",
    "Everything is entered into _cells_. A cell can hold text, or code, or an image, etc.\n",
    "\n",
    "A _code_ cell can be executed (i.e. the Python code can be _run_), just select the cell (move arrows up/down), then press `SHIFT + ENTER`\n",
    "\n",
    "`ESC + m` change cell type to mardown (for writing text)\n",
    "\n",
    "`ESC + y` change cell type to code (for entering Python code)\n",
    "\n",
    "`ESC + a` add a new cell above the current one\n",
    "\n",
    "`ESC + b` add a new cell below the current one\n",
    "\n",
    "`ESC + x` cut/delete a cell\n",
    "\n",
    "`ESC + v` paste a cell\n",
    "\n",
    "`ESC + h` pop up a help window (more shortcuts)"
   ]
  },
  {
   "cell_type": "markdown",
   "metadata": {},
   "source": [
    "<a class=\"anchor\" id=\"newnotebook\"></a>\n",
    "## Create a new notebook\n",
    "\n",
    "<a class=\"anchor\" id=\"savenotebook\"></a>\n",
    "## Save a notebook\n",
    "\n",
    "<a class=\"anchor\" id=\"startnotebook\"></a>\n",
    "## Start an existing notebook\n",
    "\n",
    "<a class=\"anchor\" id=\"kernel\"></a>\n",
    "## The kernel: change, stop, restart, swear, repeat"
   ]
  },
  {
   "cell_type": "markdown",
   "metadata": {},
   "source": [
    "# Python 101 - 201\n",
    "<a class=\"anchor\" id=\"hello\"></a>\n",
    "## Hello World!\n",
    "Python is an interpreted programming language\n",
    "You write a line of Python code, or many lines, and run them. No compilation step."
   ]
  },
  {
   "cell_type": "code",
   "execution_count": 2,
   "metadata": {},
   "outputs": [
    {
     "name": "stdout",
     "output_type": "stream",
     "text": [
      "Hello World!\n"
     ]
    }
   ],
   "source": [
    "print(\"Hello World!\")"
   ]
  },
  {
   "cell_type": "markdown",
   "metadata": {},
   "source": [
    "Note that strings are within single or double quotes."
   ]
  },
  {
   "cell_type": "markdown",
   "metadata": {},
   "source": [
    "<a class=\"anchor\" id=\"helloyou\"></a>\n",
    "## Hello you!\n",
    "Let's write our first function. The template for functions is always the same:\n",
    "\n",
    "```\n",
    "def function_name(arguments):\n",
    "    do something\n",
    "    [return something] # optional\n",
    "```"
   ]
  },
  {
   "cell_type": "code",
   "execution_count": 3,
   "metadata": {
    "collapsed": true
   },
   "outputs": [],
   "source": [
    "def helloyou(name):\n",
    "    # will print your name\n",
    "    print(\"Hello\",name,'!')"
   ]
  },
  {
   "cell_type": "markdown",
   "metadata": {},
   "source": [
    "Separate all arguments to the print function by commas. They will all be printed in order.\n",
    "\n",
    "Comment lines in Python begin with `#`"
   ]
  },
  {
   "cell_type": "code",
   "execution_count": 4,
   "metadata": {},
   "outputs": [
    {
     "name": "stdout",
     "output_type": "stream",
     "text": [
      "Hello Kitty !\n"
     ]
    }
   ],
   "source": [
    "helloyou('Kitty')"
   ]
  },
  {
   "cell_type": "markdown",
   "metadata": {},
   "source": [
    "<a class=\"anchor\" id=\"calc\"></a>\n",
    "## 2 + 2\n",
    "Use Python as a powerful calculator"
   ]
  },
  {
   "cell_type": "code",
   "execution_count": 5,
   "metadata": {},
   "outputs": [
    {
     "data": {
      "text/plain": [
       "4"
      ]
     },
     "execution_count": 5,
     "metadata": {},
     "output_type": "execute_result"
    }
   ],
   "source": [
    "2+2"
   ]
  },
  {
   "cell_type": "code",
   "execution_count": 6,
   "metadata": {},
   "outputs": [
    {
     "data": {
      "text/plain": [
       "3.881558974007327"
      ]
     },
     "execution_count": 6,
     "metadata": {},
     "output_type": "execute_result"
    }
   ],
   "source": [
    "3**1.2345"
   ]
  },
  {
   "cell_type": "markdown",
   "metadata": {},
   "source": [
    "<a class=\"anchor\" id=\"duck\"></a>\n",
    "## Python has _duck typing_ 🦆\n",
    "If it walks like a duck and quacks like a duck, it must be a duck!"
   ]
  },
  {
   "cell_type": "code",
   "execution_count": 7,
   "metadata": {},
   "outputs": [
    {
     "data": {
      "text/plain": [
       "int"
      ]
     },
     "execution_count": 7,
     "metadata": {},
     "output_type": "execute_result"
    }
   ],
   "source": [
    "type(2)"
   ]
  },
  {
   "cell_type": "code",
   "execution_count": 8,
   "metadata": {},
   "outputs": [
    {
     "data": {
      "text/plain": [
       "float"
      ]
     },
     "execution_count": 8,
     "metadata": {},
     "output_type": "execute_result"
    }
   ],
   "source": [
    "type(3.1415)"
   ]
  },
  {
   "cell_type": "code",
   "execution_count": 9,
   "metadata": {},
   "outputs": [
    {
     "data": {
      "text/plain": [
       "str"
      ]
     },
     "execution_count": 9,
     "metadata": {},
     "output_type": "execute_result"
    }
   ],
   "source": [
    "type('word')"
   ]
  },
  {
   "cell_type": "code",
   "execution_count": 10,
   "metadata": {},
   "outputs": [
    {
     "data": {
      "text/plain": [
       "function"
      ]
     },
     "execution_count": 10,
     "metadata": {},
     "output_type": "execute_result"
    }
   ],
   "source": [
    "type(helloyou)"
   ]
  },
  {
   "cell_type": "code",
   "execution_count": 11,
   "metadata": {},
   "outputs": [
    {
     "data": {
      "text/plain": [
       "float"
      ]
     },
     "execution_count": 11,
     "metadata": {},
     "output_type": "execute_result"
    }
   ],
   "source": [
    "a = 2\n",
    "b = 3.1415\n",
    "c = a*b\n",
    "type(c)"
   ]
  },
  {
   "cell_type": "code",
   "execution_count": 12,
   "metadata": {},
   "outputs": [
    {
     "data": {
      "text/plain": [
       "'yoyo'"
      ]
     },
     "execution_count": 12,
     "metadata": {},
     "output_type": "execute_result"
    }
   ],
   "source": [
    "2*\"yo\""
   ]
  },
  {
   "cell_type": "code",
   "execution_count": 13,
   "metadata": {},
   "outputs": [
    {
     "ename": "TypeError",
     "evalue": "unsupported operand type(s) for /: 'str' and 'int'",
     "output_type": "error",
     "traceback": [
      "\u001b[0;31m---------------------------------------------------------------------------\u001b[0m",
      "\u001b[0;31mTypeError\u001b[0m                                 Traceback (most recent call last)",
      "\u001b[0;32m<ipython-input-13-a3a98c8b5e27>\u001b[0m in \u001b[0;36m<module>\u001b[0;34m()\u001b[0m\n\u001b[0;32m----> 1\u001b[0;31m \u001b[0;34m\"hundred\"\u001b[0m\u001b[0;34m/\u001b[0m\u001b[0;36m2\u001b[0m\u001b[0;34m\u001b[0m\u001b[0m\n\u001b[0m",
      "\u001b[0;31mTypeError\u001b[0m: unsupported operand type(s) for /: 'str' and 'int'"
     ]
    }
   ],
   "source": [
    "\"hundred\"/2"
   ]
  },
  {
   "cell_type": "markdown",
   "metadata": {},
   "source": [
    "<a class=\"anchor\" id=\"modules\"></a>\n",
    "## Extra power with modules/packages\n",
    "Python has a lot of functionality built-in in its standard library.\n",
    "But much more functionality can be added by importing specific packages."
   ]
  },
  {
   "cell_type": "code",
   "execution_count": 14,
   "metadata": {
    "collapsed": true
   },
   "outputs": [],
   "source": [
    "import numpy  # \"numeric python\" - math and array operations"
   ]
  },
  {
   "cell_type": "markdown",
   "metadata": {},
   "source": [
    "Or import under a different (often shorter) name:"
   ]
  },
  {
   "cell_type": "code",
   "execution_count": 15,
   "metadata": {
    "collapsed": true
   },
   "outputs": [],
   "source": [
    "import numpy as np"
   ]
  },
  {
   "cell_type": "code",
   "execution_count": 16,
   "metadata": {},
   "outputs": [
    {
     "data": {
      "text/plain": [
       "4.1231056256176606"
      ]
     },
     "execution_count": 16,
     "metadata": {},
     "output_type": "execute_result"
    }
   ],
   "source": [
    "np.sqrt(17)"
   ]
  },
  {
   "cell_type": "code",
   "execution_count": 17,
   "metadata": {},
   "outputs": [
    {
     "data": {
      "text/plain": [
       "360.0"
      ]
     },
     "execution_count": 17,
     "metadata": {},
     "output_type": "execute_result"
    }
   ],
   "source": [
    "np.rad2deg(2*np.pi) # convert radians to degrees"
   ]
  },
  {
   "cell_type": "code",
   "execution_count": 18,
   "metadata": {},
   "outputs": [
    {
     "data": {
      "text/plain": [
       "57.295779513082323"
      ]
     },
     "execution_count": 18,
     "metadata": {},
     "output_type": "execute_result"
    }
   ],
   "source": [
    "np.rad2deg(1)"
   ]
  },
  {
   "cell_type": "code",
   "execution_count": 19,
   "metadata": {},
   "outputs": [
    {
     "name": "stdout",
     "output_type": "stream",
     "text": [
      "Vector                 a = [1 2 3]\n",
      "Vector                 b = [3 2 1]\n",
      "\n",
      "Sum                  a+b = [4 4 4]\n",
      "Element-wise product a*b = [3 4 3]\n",
      "Dot product          a.b = 10\n"
     ]
    }
   ],
   "source": [
    "a = np.array((1,2,3))\n",
    "b = np.array((3,2,1))\n",
    "print(\"Vector                 a =\", a)\n",
    "print(\"Vector                 b =\", b)\n",
    "print()\n",
    "print(\"Sum                  a+b =\", a+b)\n",
    "print(\"Element-wise product a*b =\", a*b)\n",
    "print(\"Dot product          a.b =\", np.dot(a,b))"
   ]
  },
  {
   "cell_type": "code",
   "execution_count": 20,
   "metadata": {},
   "outputs": [
    {
     "data": {
      "text/plain": [
       "array([4, 4, 4])"
      ]
     },
     "execution_count": 20,
     "metadata": {},
     "output_type": "execute_result"
    }
   ],
   "source": [
    "a+b"
   ]
  },
  {
   "cell_type": "code",
   "execution_count": 21,
   "metadata": {},
   "outputs": [
    {
     "data": {
      "text/plain": [
       "array([3, 4, 3])"
      ]
     },
     "execution_count": 21,
     "metadata": {},
     "output_type": "execute_result"
    }
   ],
   "source": [
    "a*b"
   ]
  },
  {
   "cell_type": "code",
   "execution_count": 22,
   "metadata": {},
   "outputs": [
    {
     "data": {
      "text/plain": [
       "10"
      ]
     },
     "execution_count": 22,
     "metadata": {},
     "output_type": "execute_result"
    }
   ],
   "source": [
    "np.dot(a,b)"
   ]
  },
  {
   "cell_type": "markdown",
   "metadata": {},
   "source": [
    "<a class=\"anchor\" id=\"object\"></a>\n",
    "## Everything in Python is an object...\n",
    "... and object have things ..."
   ]
  },
  {
   "cell_type": "code",
   "execution_count": 23,
   "metadata": {},
   "outputs": [
    {
     "data": {
      "text/plain": [
       "array([[ 1.,  0.,  0.],\n",
       "       [ 0.,  1.,  0.],\n",
       "       [ 0.,  0.,  1.]])"
      ]
     },
     "execution_count": 23,
     "metadata": {},
     "output_type": "execute_result"
    }
   ],
   "source": [
    "A = np.eye(3) # rank-3 identity matrix (just a 2-d Numpy array)\n",
    "A"
   ]
  },
  {
   "cell_type": "code",
   "execution_count": 24,
   "metadata": {},
   "outputs": [
    {
     "data": {
      "text/plain": [
       "(3, 3)"
      ]
     },
     "execution_count": 24,
     "metadata": {},
     "output_type": "execute_result"
    }
   ],
   "source": [
    "A.shape # shape of the array"
   ]
  },
  {
   "cell_type": "code",
   "execution_count": 25,
   "metadata": {},
   "outputs": [
    {
     "data": {
      "text/plain": [
       "9"
      ]
     },
     "execution_count": 25,
     "metadata": {},
     "output_type": "execute_result"
    }
   ],
   "source": [
    "A.size  # how many elements in A"
   ]
  },
  {
   "cell_type": "markdown",
   "metadata": {},
   "source": [
    "## ... and objects can do things"
   ]
  },
  {
   "cell_type": "code",
   "execution_count": 26,
   "metadata": {},
   "outputs": [
    {
     "data": {
      "text/plain": [
       "array([ 1.,  1.,  1.])"
      ]
     },
     "execution_count": 26,
     "metadata": {},
     "output_type": "execute_result"
    }
   ],
   "source": [
    "A.diagonal()"
   ]
  },
  {
   "cell_type": "code",
   "execution_count": 27,
   "metadata": {},
   "outputs": [
    {
     "data": {
      "text/plain": [
       "0.33333333333333331"
      ]
     },
     "execution_count": 27,
     "metadata": {},
     "output_type": "execute_result"
    }
   ],
   "source": [
    "A.mean()"
   ]
  },
  {
   "cell_type": "markdown",
   "metadata": {},
   "source": [
    "<a class=\"anchor\" id=\"plot1d\"></a>\n",
    "# Example: Plot a 1-d function"
   ]
  },
  {
   "cell_type": "markdown",
   "metadata": {},
   "source": [
    "All we need to start plotting... is a plotting module!"
   ]
  },
  {
   "cell_type": "code",
   "execution_count": 28,
   "metadata": {
    "collapsed": true
   },
   "outputs": [],
   "source": [
    "import pylab as plt\n",
    "%matplotlib inline\n",
    "plt.rcParams['figure.figsize'] = (5,5)"
   ]
  },
  {
   "cell_type": "code",
   "execution_count": 29,
   "metadata": {},
   "outputs": [
    {
     "name": "stdout",
     "output_type": "stream",
     "text": [
      "[ 0.          0.06346652  0.12693304  0.19039955  0.25386607  0.31733259\n",
      "  0.38079911  0.44426563  0.50773215  0.57119866  0.63466518  0.6981317\n",
      "  0.76159822  0.82506474  0.88853126  0.95199777  1.01546429  1.07893081\n",
      "  1.14239733  1.20586385  1.26933037  1.33279688  1.3962634   1.45972992\n",
      "  1.52319644  1.58666296  1.65012947  1.71359599  1.77706251  1.84052903\n",
      "  1.90399555  1.96746207  2.03092858  2.0943951   2.15786162  2.22132814\n",
      "  2.28479466  2.34826118  2.41172769  2.47519421  2.53866073  2.60212725\n",
      "  2.66559377  2.72906028  2.7925268   2.85599332  2.91945984  2.98292636\n",
      "  3.04639288  3.10985939  3.17332591  3.23679243  3.30025895  3.36372547\n",
      "  3.42719199  3.4906585   3.55412502  3.61759154  3.68105806  3.74452458\n",
      "  3.8079911   3.87145761  3.93492413  3.99839065  4.06185717  4.12532369\n",
      "  4.1887902   4.25225672  4.31572324  4.37918976  4.44265628  4.5061228\n",
      "  4.56958931  4.63305583  4.69652235  4.75998887  4.82345539  4.88692191\n",
      "  4.95038842  5.01385494  5.07732146  5.14078798  5.2042545   5.26772102\n",
      "  5.33118753  5.39465405  5.45812057  5.52158709  5.58505361  5.64852012\n",
      "  5.71198664  5.77545316  5.83891968  5.9023862   5.96585272  6.02931923\n",
      "  6.09278575  6.15625227  6.21971879  6.28318531]\n"
     ]
    }
   ],
   "source": [
    "x = np.linspace(0,2*np.pi,100) # min,max,nsteps\n",
    "print(x)"
   ]
  },
  {
   "cell_type": "code",
   "execution_count": 30,
   "metadata": {
    "collapsed": true
   },
   "outputs": [],
   "source": [
    "y = np.sin(x)"
   ]
  },
  {
   "cell_type": "code",
   "execution_count": 31,
   "metadata": {},
   "outputs": [
    {
     "data": {
      "text/plain": [
       "[<matplotlib.lines.Line2D at 0x7fb2f5836780>]"
      ]
     },
     "execution_count": 31,
     "metadata": {},
     "output_type": "execute_result"
    },
    {
     "data": {
      "image/png": "[encoded data removed]",
      "text/plain": [
       "<matplotlib.figure.Figure at 0x7fb30c343208>"
      ]
     },
     "metadata": {},
     "output_type": "display_data"
    }
   ],
   "source": [
    "plt.plot(x,y,'b-')"
   ]
  },
  {
   "cell_type": "markdown",
   "metadata": {},
   "source": [
    "<a class=\"anchor\" id=\"gauss2d\"></a>\n",
    "# Example: Plot a 2-d Gaussian"
   ]
  },
  {
   "cell_type": "code",
   "execution_count": 32,
   "metadata": {
    "collapsed": true
   },
   "outputs": [],
   "source": [
    "from astropy.modeling.models import Gaussian2D"
   ]
  },
  {
   "cell_type": "code",
   "execution_count": 33,
   "metadata": {
    "collapsed": true
   },
   "outputs": [],
   "source": [
    "g = Gaussian2D(x_mean=0,y_mean=0,x_stddev=5,y_stddev=10)"
   ]
  },
  {
   "cell_type": "code",
   "execution_count": 34,
   "metadata": {
    "collapsed": true
   },
   "outputs": [],
   "source": [
    "nx = 100\n",
    "half = nx//2\n",
    "x = np.linspace(-half,half,nx)\n",
    "X,Y = np.meshgrid(x,x) # using x for both x and y axes, since we want a square array anyway"
   ]
  },
  {
   "cell_type": "code",
   "execution_count": 35,
   "metadata": {},
   "outputs": [
    {
     "data": {
      "text/plain": [
       "<matplotlib.image.AxesImage at 0x7fb2eb242278>"
      ]
     },
     "execution_count": 35,
     "metadata": {},
     "output_type": "execute_result"
    },
    {
     "data": {
      "image/png": "[encoded data removed]",
      "text/plain": [
       "<matplotlib.figure.Figure at 0x7fb2eb27be80>"
      ]
     },
     "metadata": {},
     "output_type": "display_data"
    }
   ],
   "source": [
    "plt.imshow(g(X,Y))"
   ]
  },
  {
   "cell_type": "markdown",
   "metadata": {},
   "source": [
    "<a class=\"anchor\" id=\"scatter\"></a>\n",
    "# Example: Make a scatter plot"
   ]
  },
  {
   "cell_type": "code",
   "execution_count": 36,
   "metadata": {
    "collapsed": true
   },
   "outputs": [],
   "source": [
    "x = np.random.normal(size=1000)\n",
    "y = np.random.normal(size=1000)"
   ]
  },
  {
   "cell_type": "code",
   "execution_count": 37,
   "metadata": {},
   "outputs": [
    {
     "data": {
      "text/plain": [
       "<matplotlib.collections.PathCollection at 0x7fb2eb19fa20>"
      ]
     },
     "execution_count": 37,
     "metadata": {},
     "output_type": "execute_result"
    },
    {
     "data": {
      "image/png": "[encoded data removed]",
      "text/plain": [
       "<matplotlib.figure.Figure at 0x7fb30c3433c8>"
      ]
     },
     "metadata": {},
     "output_type": "display_data"
    }
   ],
   "source": [
    "plt.scatter(x,y,s=5)"
   ]
  },
  {
   "cell_type": "markdown",
   "metadata": {},
   "source": [
    "# Data Lab 101\n",
    "Full introduction to Data Lab in the tutorial session.\n",
    "\n",
    "For now just the bare minimum to get us started."
   ]
  },
  {
   "cell_type": "markdown",
   "metadata": {},
   "source": [
    "<a class=\"anchor\" id=\"dlimport\"></a>\n",
    "## Import Data Lab packages (almost always this way)"
   ]
  },
  {
   "cell_type": "code",
   "execution_count": 38,
   "metadata": {
    "collapsed": true
   },
   "outputs": [],
   "source": [
    "from dl import authClient as ac, queryClient as qc\n",
    "from dl.helpers.utils import convert\n",
    "from getpass import getpass"
   ]
  },
  {
   "cell_type": "markdown",
   "metadata": {},
   "source": [
    "<a class=\"anchor\" id=\"login\"></a>\n",
    "## Log in\n",
    "For now, we log in as anonymous user. Later today we'll log in as ourselves."
   ]
  },
  {
   "cell_type": "code",
   "execution_count": 39,
   "metadata": {},
   "outputs": [
    {
     "name": "stdout",
     "output_type": "stream",
     "text": [
      "Enter password (+ENTER): ········\n"
     ]
    }
   ],
   "source": [
    "token = ac.login('username',getpass(\"Enter password (+ENTER): \")) # replace 'username' with your actual user name"
   ]
  },
  {
   "cell_type": "markdown",
   "metadata": {},
   "source": [
    "# SQL - Structured Query Language\n",
    "\n",
    "<a class=\"anchor\" id=\"sqldescribe\"></a>\n",
    "## SQL is a way to describe to a database what you want from it\n",
    "General template for a simple query written in SQL\n",
    "```\n",
    "SELECT something\n",
    "FROM database.table\n",
    "WHERE constraints\n",
    "```\n",
    "\n",
    "The `something` is usually a list of column names, e.g. `SELECT ra,dec`\n",
    "\n",
    "A `database` has a name, and usually holds several `table`s.\n",
    "\n",
    "E.g. to access columns in the `gaia_dr2` database, `gaia_source` table, one could ask for\n",
    "`gaia_dr2.gaia_source`\n",
    "\n",
    "The `constaints` are filters, or qualifiers, on the query, e.g.:\n",
    "\n",
    "`WHERE ra>90`\n",
    "\n",
    "Or combine several constaints:\n",
    "\n",
    "```\n",
    "WHERE ra>90 AND ra<100\n",
    "AND dec>40 AND dec<42\n",
    "```"
   ]
  },
  {
   "cell_type": "markdown",
   "metadata": {},
   "source": [
    "<a class=\"anchor\" id=\"limit\"></a>\n",
    "## LIMIT yourself\n",
    "If you append a `LIMIT 100` (or any small number) to your query, the database will return only the first 100 result rows. This is usually fast and you can tweak your query many times this way until you get it right.\n",
    "\n",
    "**Excellent advice while testing queries: LIMIT yourself.**\n",
    "\n",
    "The template becomes:\n",
    "```\n",
    "SELECT something\n",
    "FROM database.table\n",
    "WHERE constraints\n",
    "LIMIT 100\n",
    "```"
   ]
  },
  {
   "cell_type": "markdown",
   "metadata": {},
   "source": [
    "<a class=\"anchor\" id=\"firstquery\"></a>\n",
    "## Our first Data Lab query\n",
    "Let's ask for the radial velocities of all stars in Gaia DR2 around the position of the LMC\""
   ]
  },
  {
   "cell_type": "code",
   "execution_count": 40,
   "metadata": {},
   "outputs": [
    {
     "name": "stdout",
     "output_type": "stream",
     "text": [
      "\n",
      "SELECT radial_velocity\n",
      "FROM gaia_dr2.gaia_source\n",
      "WHERE ra>78 and ra<84\n",
      "  AND dec>-73 and dec<-67\n",
      "  AND radial_velocity != 'nan'\n",
      "  AND abs(radial_velocity)>0.\n",
      "\n"
     ]
    }
   ],
   "source": [
    "# coordinates of the LMC\n",
    "#ra = 81.\n",
    "#dec = -69.8\n",
    "\n",
    "query = \"\"\"\n",
    "SELECT radial_velocity\n",
    "FROM gaia_dr2.gaia_source\n",
    "WHERE ra>78 and ra<84\n",
    "  AND dec>-73 and dec<-67\n",
    "  AND radial_velocity != 'nan'\n",
    "  AND abs(radial_velocity)>0.\n",
    "\"\"\"\n",
    "\n",
    "print(query)"
   ]
  },
  {
   "cell_type": "markdown",
   "metadata": {},
   "source": [
    "Now let's submit the query to the Data Lab database"
   ]
  },
  {
   "cell_type": "code",
   "execution_count": 41,
   "metadata": {},
   "outputs": [
    {
     "name": "stdout",
     "output_type": "stream",
     "text": [
      "CPU times: user 25 ms, sys: 0 ns, total: 25 ms\n",
      "Wall time: 12.4 s\n"
     ]
    }
   ],
   "source": [
    "%%time\n",
    "result = qc.query(token,query)"
   ]
  },
  {
   "cell_type": "markdown",
   "metadata": {},
   "source": [
    "It took some time (under a minute I hope), and the returned result is in the variable called `result`.\n",
    "\n",
    "What type is `result`?"
   ]
  },
  {
   "cell_type": "code",
   "execution_count": 42,
   "metadata": {},
   "outputs": [
    {
     "data": {
      "text/plain": [
       "str"
      ]
     },
     "execution_count": 42,
     "metadata": {},
     "output_type": "execute_result"
    }
   ],
   "source": [
    "type(result)"
   ]
  },
  {
   "cell_type": "markdown",
   "metadata": {},
   "source": [
    "The type is 'str' or string.\n",
    "\n",
    "How long is this 'str' object? (in characters)"
   ]
  },
  {
   "cell_type": "code",
   "execution_count": 43,
   "metadata": {},
   "outputs": [
    {
     "data": {
      "text/plain": [
       "28892"
      ]
     },
     "execution_count": 43,
     "metadata": {},
     "output_type": "execute_result"
    }
   ],
   "source": [
    "len(result)"
   ]
  },
  {
   "cell_type": "markdown",
   "metadata": {},
   "source": [
    "That's many characters! Let's print the first 200 or so:"
   ]
  },
  {
   "cell_type": "code",
   "execution_count": 44,
   "metadata": {},
   "outputs": [
    {
     "data": {
      "text/plain": [
       "'radial_velocity\\n207.727833166464\\n23.2009589660335\\n31.4744016821897\\n67.1842681401041\\n64.6912770877775\\n5.7175772412558\\n34.5608096828583\\n24.1407840749465\\n-17.8925929452325\\n-6.61811738815661\\n13.3448445607'"
      ]
     },
     "execution_count": 44,
     "metadata": {},
     "output_type": "execute_result"
    }
   ],
   "source": [
    "result[:200]"
   ]
  },
  {
   "cell_type": "markdown",
   "metadata": {},
   "source": [
    "It's like a long string. The `\\n` are line breaks. The first line is the header (here just `radial_velocity`).\n",
    "\n",
    "It's hard to plot a long text object. We convert to a more \"numerical\" data format:"
   ]
  },
  {
   "cell_type": "code",
   "execution_count": 45,
   "metadata": {
    "collapsed": true
   },
   "outputs": [],
   "source": [
    "df = convert(result,'pandas') # df mean data frame"
   ]
  },
  {
   "cell_type": "markdown",
   "metadata": {},
   "source": [
    "What does the converted table look like?"
   ]
  },
  {
   "cell_type": "code",
   "execution_count": 46,
   "metadata": {},
   "outputs": [
    {
     "name": "stdout",
     "output_type": "stream",
     "text": [
      "(1694, 1)\n"
     ]
    },
    {
     "data": {
      "text/html": [
       "<div>\n",
       "<style scoped>\n",
       "    .dataframe tbody tr th:only-of-type {\n",
       "        vertical-align: middle;\n",
       "    }\n",
       "\n",
       "    .dataframe tbody tr th {\n",
       "        vertical-align: top;\n",
       "    }\n",
       "\n",
       "    .dataframe thead th {\n",
       "        text-align: right;\n",
       "    }\n",
       "</style>\n",
       "<table border=\"1\" class=\"dataframe\">\n",
       "  <thead>\n",
       "    <tr style=\"text-align: right;\">\n",
       "      <th></th>\n",
       "      <th>radial_velocity</th>\n",
       "    </tr>\n",
       "  </thead>\n",
       "  <tbody>\n",
       "    <tr>\n",
       "      <th>0</th>\n",
       "      <td>207.727833</td>\n",
       "    </tr>\n",
       "    <tr>\n",
       "      <th>1</th>\n",
       "      <td>23.200959</td>\n",
       "    </tr>\n",
       "    <tr>\n",
       "      <th>2</th>\n",
       "      <td>31.474402</td>\n",
       "    </tr>\n",
       "    <tr>\n",
       "      <th>3</th>\n",
       "      <td>67.184268</td>\n",
       "    </tr>\n",
       "    <tr>\n",
       "      <th>4</th>\n",
       "      <td>64.691277</td>\n",
       "    </tr>\n",
       "  </tbody>\n",
       "</table>\n",
       "</div>"
      ],
      "text/plain": [
       "   radial_velocity\n",
       "0       207.727833\n",
       "1        23.200959\n",
       "2        31.474402\n",
       "3        67.184268\n",
       "4        64.691277"
      ]
     },
     "execution_count": 46,
     "metadata": {},
     "output_type": "execute_result"
    }
   ],
   "source": [
    "print(df.shape)\n",
    "df.head(5)"
   ]
  },
  {
   "cell_type": "markdown",
   "metadata": {},
   "source": [
    "Ah yes, 1694 rows, and 1 column (`radial_velocity`).\n",
    "\n",
    "Let's plot a histogram of the radial velocities:"
   ]
  },
  {
   "cell_type": "code",
   "execution_count": 47,
   "metadata": {},
   "outputs": [
    {
     "data": {
      "text/plain": [
       "(-100, 500)"
      ]
     },
     "execution_count": 47,
     "metadata": {},
     "output_type": "execute_result"
    },
    {
     "data": {
      "image/png": "[encoded data removed]",
      "text/plain": [
       "<matplotlib.figure.Figure at 0x7fb2e4a2b320>"
      ]
     },
     "metadata": {},
     "output_type": "display_data"
    }
   ],
   "source": [
    "res = plt.hist(df['radial_velocity'],bins=50,histtype='step',color='b')\n",
    "plt.xlabel('radial velocity (km/s)')\n",
    "plt.xlim(-100,500)"
   ]
  },
  {
   "cell_type": "markdown",
   "metadata": {},
   "source": [
    "The radial velocity of the LMC is ~270 km/s."
   ]
  },
  {
   "cell_type": "markdown",
   "metadata": {},
   "source": [
    "<a class=\"anchor\" id=\"whatsthere\"></a>\n",
    "# What's there anyway?\n",
    "How can you find what databases and tables there are in Data Lab?"
   ]
  },
  {
   "cell_type": "markdown",
   "metadata": {},
   "source": [
    "## List all databases:"
   ]
  },
  {
   "cell_type": "code",
   "execution_count": 48,
   "metadata": {},
   "outputs": [
    {
     "name": "stdout",
     "output_type": "stream",
     "text": [
      "\n",
      "     Schema Name   Description\n",
      "     -----------   -----------\n",
      "         allwise   The AllWISE data release\n",
      "         dad_dr1   DECam Asteroid Database -- Data Release 1\n",
      "         dad_dr2   \n",
      "      decaps_dr1   DECam Plane Survey Data Release 1\n",
      "         des_dr1   Dark Energy Survey (DES) Data Release 1\n",
      "        des_sva1   DES SVA1 Data Products\n",
      "        gaia_dr1   GAIA Data Release 1\n",
      "        gaia_dr2   Gaia Data Release 2 -- April 25, 2018\n",
      "            ivoa   IVOA ObsCore tables\n",
      " ivoa_calibrated   \n",
      "      ivoa_coadd   \n",
      "    ivoa_des_dr1   \n",
      "     ivoa_ls_dr3   \n",
      "     ivoa_ls_dr4   \n",
      "     ivoa_ls_dr5   \n",
      "        ivoa_raw   \n",
      "  ivoa_smash_dr1   \n",
      "          ls_dr3   The DECam Legacy Survey Data Release 3\n",
      "          ls_dr4   The DECam Legacy Survey Data Release 4\n",
      "          ls_dr5   The DECam Legacy Survey Data Release 5\n",
      "          ls_dr6   The DECam Legacy Survey Data Release 6\n",
      "         nsc_dr1   NOAO Source Catalog Data Release 1\n",
      "         phat_v2   Panchromatic Hubble Andromeda Treasury Version 2\n",
      "       sdss_dr13   \n",
      "       sdss_dr14   Sloan Digital Sky Survey Data Release 14\n",
      "       smash_dr1   SMASH Data Release 1\n",
      "        stripe82   \n",
      "      tap_schema   TAP Service Schema Tables\n",
      "         twomass   2MASS All-Sky Catalogs (2003)\n",
      "            usno   USNO Astrometry Catalogs\n",
      "\n"
     ]
    }
   ],
   "source": [
    "print(qc.schema())"
   ]
  },
  {
   "cell_type": "markdown",
   "metadata": {},
   "source": [
    "## List all tables in a database:"
   ]
  },
  {
   "cell_type": "code",
   "execution_count": 49,
   "metadata": {},
   "outputs": [
    {
     "name": "stdout",
     "output_type": "stream",
     "text": [
      "\n",
      "Schema: gaia_dr2\n",
      "\n",
      "      Table Name   Description\n",
      "      ----------   -----------\n",
      "         allwise   Allwise AGN Gaia DR2 cross-identification\n",
      "         cepheid   Cepheid stars (Gaia collaboration)\n",
      "         des_dr1   1.5-arcsec positional crossmatch against DES DR1\n",
      "     gaia_source   Primary object table\n",
      "            iers   IERS GaiaDR2 cross-identification\n",
      "    light_curves   Light-curve data\n",
      "             lpv   Long Period Variable stars (Gaia collaboration)\n",
      "          ls_dr5   1.5-arcsec positional crossmatch against Legacy Survey DR5\n",
      "          ls_dr6   1.5-arcsec positional crossmatch against Legacy Survey DR6\n",
      "         nsc_dr1   1.5-arcsec positional crossmatch against NSC DR1\n",
      "        numtrans   Calibrated FoV transit photometry from CU5, consolidated a\n",
      "                   d provided by CU7 for variable stars in Gaia DR2 (epoch_ph\n",
      "                   otometry, part 1) ( Gaia collaboration)\n",
      "              rm   Rotation period in segment, part 1 (vari_rotation_modulati\n",
      "                   n) (Gaia collaboration)\n",
      "           rmout   Rotation period in segment, part 3 (vari_rotation_modulati\n",
      "                   n) (Gaia collaboration)\n",
      "           rmseg   Rotation period in segment, part 2 (vari_rotation_modulati\n",
      "                   n) (Gaia collaboration)\n",
      "         rrlyrae   RR Lyrae stars (vari_rrlyrae) (Gaia collaboration)\n",
      "        rvstdcat   Mean radial velocities on absolute scale (Gaia collaboration)\n",
      "        rvstdmes   Original ground-based radial velocity measurements (Gaia c\n",
      "                   llaboration)\n",
      "         shortts   Short-timescale sources (vari_short_timescale) (Gaia colla\n",
      "                   oration)\n",
      "          ssoobj   Data related to Solar System objects observed by Gaia (sso\n",
      "                   source) (Gaia collaboration)\n",
      "          ssoobs   Solar System object observations (sso_observation) (Gaia c\n",
      "                   llaboration)\n",
      "          ssoorb   Auxiliary information on asteroid orbits and basic photome\n",
      "                   ric parameters (aux_sso_orbits) (Gaia collaboration)\n",
      "          ssores   Residuals with respect to an orbital fit considering only \n",
      "                   he Gaia observations (aux_sso_orbit_residuals) (Gaia colla\n",
      "                   boration)\n",
      "         transit   Calibrated FoV transit photometry for CU5, consolidated an\n",
      "                   provided by CU7 for variable stars in Gaia DR2 (epoch_pho\n",
      "                   tometry, part 2) (Gaia collaboration)\n",
      "          tsstat   Statistical parameters of time series, using only transits\n",
      "                   not rejected (vari_time_series_statistics) (Gaia collabora\n",
      "                   tion)\n",
      "          varres   Variability classification results of all classifiers, ide\n",
      "                   tified by the classifierName column (vari_classifier_resul\n",
      "                   t) (Gaia collaboration)\n",
      "\n"
     ]
    }
   ],
   "source": [
    "print(qc.schema('gaia_dr2'))"
   ]
  },
  {
   "cell_type": "markdown",
   "metadata": {},
   "source": [
    "## List all columns in a table in a database"
   ]
  },
  {
   "cell_type": "code",
   "execution_count": 50,
   "metadata": {},
   "outputs": [
    {
     "name": "stdout",
     "output_type": "stream",
     "text": [
      "\n",
      "Schema: gaia_dr2\n",
      " Table: gaia_source\n",
      "\n",
      "     Column Name   Description\n",
      "     -----------   -----------\n",
      "     solution_id   \n",
      "       source_id   \n",
      "              ra   \n",
      "        ra_error   \n",
      "             dec   \n",
      "       dec_error   \n",
      "        parallax   \n",
      "  parallax_error   \n",
      "parallax_over_er   \n",
      "            pmra   \n",
      "      pmra_error   \n",
      "           pmdec   \n",
      "     pmdec_error   \n",
      "     ra_dec_corr   \n",
      "ra_parallax_corr   \n",
      "    ra_pmra_corr   \n",
      "   ra_pmdec_corr   \n",
      "dec_parallax_cor   \n",
      "   dec_pmra_corr   \n",
      "  dec_pmdec_corr   \n",
      "parallax_pmra_co   \n",
      "parallax_pmdec_c   \n",
      " pmra_pmdec_corr   \n",
      "      radius_val   \n",
      "radius_percentil   \n",
      "radius_percentil   \n",
      "         lum_val   \n",
      "lum_percentile_l   \n",
      "lum_percentile_u   \n",
      "astrometric_gof_   \n",
      "astrometric_chi2   \n",
      "astrometric_exce   \n",
      "astrometric_exce   \n",
      "astrometric_weig   \n",
      "astrometric_pseu   \n",
      "astrometric_pseu   \n",
      "mean_varpi_facto   \n",
      "astrometric_sigm   \n",
      "phot_g_mean_flux   \n",
      "phot_g_mean_flux   \n",
      "phot_g_mean_flux   \n",
      " phot_g_mean_mag   \n",
      "phot_bp_mean_flu   \n",
      "phot_bp_mean_flu   \n",
      "phot_bp_mean_flu   \n",
      "phot_bp_mean_mag   \n",
      "phot_rp_mean_flu   \n",
      "phot_rp_mean_flu   \n",
      "phot_rp_mean_flu   \n",
      "phot_rp_mean_mag   \n",
      "phot_bp_rp_exces   \n",
      "           bp_rp   \n",
      "            bp_g   \n",
      "            g_rp   \n",
      " radial_velocity   \n",
      "radial_velocity_   \n",
      "               l   \n",
      "               b   \n",
      "         ecl_lon   \n",
      "         ecl_lat   \n",
      "        teff_val   \n",
      "teff_percentile_   \n",
      "teff_percentile_   \n",
      "       ref_epoch   \n",
      "rv_template_teff   \n",
      "rv_template_logg   \n",
      "rv_template_fe_h   \n",
      "         a_g_val   \n",
      "a_g_percentile_l   \n",
      "a_g_percentile_u   \n",
      " e_bp_min_rp_val   \n",
      "e_bp_min_rp_perc   \n",
      "e_bp_min_rp_perc   \n",
      "       random_id   \n",
      "    random_index   \n",
      "     priam_flags   \n",
      "     flame_flags   \n",
      "            htm9   \n",
      "         ring256   \n",
      "        nest4096   \n",
      "astrometric_n_ob   \n",
      "astrometric_n_ob   \n",
      "astrometric_n_go   \n",
      "astrometric_n_ba   \n",
      "astrometric_para   \n",
      "astrometric_prim   \n",
      "astrometric_matc   \n",
      "visibility_perio   \n",
      "frame_rotator_ob   \n",
      "matched_observat   \n",
      "duplicated_sourc   \n",
      "    phot_g_n_obs   \n",
      "   phot_bp_n_obs   \n",
      "   phot_rp_n_obs   \n",
      "  phot_proc_mode   \n",
      "  rv_nb_transits   \n",
      "phot_variable_fl   \n",
      "     designation   \n",
      "\n"
     ]
    }
   ],
   "source": [
    "print(qc.schema('gaia_dr2.gaia_source'))"
   ]
  },
  {
   "cell_type": "markdown",
   "metadata": {},
   "source": [
    "<a class=\"anchor\" id=\"aync\"></a>\n",
    "# If you're too cool to be sitting around: async queries\n",
    "A query that could run potentially longer than your attention span... In that case just submit it in async mode, and retrieve the results later when the query is done (and when you've had your well-deserved coffee):"
   ]
  },
  {
   "cell_type": "code",
   "execution_count": 51,
   "metadata": {
    "collapsed": true
   },
   "outputs": [],
   "source": [
    "query = \"\"\"\n",
    "SELECT ra,dec\n",
    "  FROM smash_dr1.object\n",
    " WHERE fieldid = 169 AND\n",
    "       depthflag > 1 AND\n",
    "       ndetr > 3 AND ndetg > 3 AND\n",
    "       abs(sharp) < 0.5 AND\n",
    "       gmag BETWEEN 9 AND 25 AND\n",
    "       (gmag-rmag) BETWEEN -0.4 AND 0.4\"\"\""
   ]
  },
  {
   "cell_type": "markdown",
   "metadata": {},
   "source": [
    "Asynchronous queries get a jobid upon submission:"
   ]
  },
  {
   "cell_type": "code",
   "execution_count": 52,
   "metadata": {
    "collapsed": true
   },
   "outputs": [],
   "source": [
    "jobid = qc.query(token,query,async=True)"
   ]
  },
  {
   "cell_type": "code",
   "execution_count": 53,
   "metadata": {},
   "outputs": [
    {
     "name": "stdout",
     "output_type": "stream",
     "text": [
      "w3udufmafk8ukgxp\n"
     ]
    }
   ],
   "source": [
    "print(jobid)"
   ]
  },
  {
   "cell_type": "markdown",
   "metadata": {},
   "source": [
    "Use the jobid to check on the query progress:"
   ]
  },
  {
   "cell_type": "code",
   "execution_count": 54,
   "metadata": {},
   "outputs": [
    {
     "data": {
      "text/plain": [
       "b'COMPLETED'"
      ]
     },
     "execution_count": 54,
     "metadata": {},
     "output_type": "execute_result"
    }
   ],
   "source": [
    "qc.status(token,jobid) # The .decode() turns bytes to a string"
   ]
  },
  {
   "cell_type": "markdown",
   "metadata": {},
   "source": [
    "When status says 'COMPLETED', use jobid to fetch the results:"
   ]
  },
  {
   "cell_type": "code",
   "execution_count": 55,
   "metadata": {
    "collapsed": true
   },
   "outputs": [],
   "source": [
    "result = qc.results(token,jobid)"
   ]
  },
  {
   "cell_type": "markdown",
   "metadata": {},
   "source": [
    "Convert to Pandas dataframe, just like before:"
   ]
  },
  {
   "cell_type": "code",
   "execution_count": 56,
   "metadata": {
    "collapsed": true
   },
   "outputs": [],
   "source": [
    "df = convert(result)"
   ]
  },
  {
   "cell_type": "markdown",
   "metadata": {},
   "source": [
    "Use the dataframe as you please, e.g. here to plot RA & Dec:"
   ]
  },
  {
   "cell_type": "code",
   "execution_count": 57,
   "metadata": {},
   "outputs": [
    {
     "data": {
      "text/plain": [
       "<matplotlib.collections.PolyCollection at 0x7fb2e4563438>"
      ]
     },
     "execution_count": 57,
     "metadata": {},
     "output_type": "execute_result"
    },
    {
     "data": {
      "image/png": "[encoded data removed]",
      "text/plain": [
       "<matplotlib.figure.Figure at 0x7fb2e49b2278>"
      ]
     },
     "metadata": {},
     "output_type": "display_data"
    }
   ],
   "source": [
    "plt.hexbin(df['ra'],df['dec'])"
   ]
  }
 ],
 "metadata": {
  "kernelspec": {
   "display_name": "Python 3",
   "language": "python",
   "name": "python3"
  },
  "language_info": {
   "codemirror_mode": {
    "name": "ipython",
    "version": 3
   },
   "file_extension": ".py",
   "mimetype": "text/x-python",
   "name": "python",
   "nbconvert_exporter": "python",
   "pygments_lexer": "ipython3",
   "version": "3.6.2"
  }
 },
 "nbformat": 4,
 "nbformat_minor": 2
}
