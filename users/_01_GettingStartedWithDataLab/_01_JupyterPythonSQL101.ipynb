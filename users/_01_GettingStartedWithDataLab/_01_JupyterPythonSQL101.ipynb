{
 "cells": [
  {
   "cell_type": "code",
   "execution_count": null,
   "metadata": {
    "collapsed": true
   },
   "outputs": [],
   "source": [
    "__author__ = 'Robert Nikutta <nikutta@noao.edu, Data Lab Team <datalab@noao.edu'\n",
    "__version__ = '20180529' # yyyymmdd\n",
    "__datasets__ = ''\n",
    "__keywords__ = ['Jupyter','Python','SQL','tutorial']"
   ]
  },
  {
   "cell_type": "markdown",
   "metadata": {},
   "source": [
    "\n",
    "<a class=\"anchor\" id=\"goals\"></a>\n",
    "# Goals\n",
    "Learn or review the basics of:\n",
    "- How to use a Jupyter notebook\n",
    "- Simple Python operations, package imports, and simple plots\n",
    "- Importing Data Lab packages\n",
    "- Logging in to Data Lab\n",
    "- Query the Data Lab database through SQL\n",
    "\n",
    "<a class=\"anchor\" id=\"summary\"></a>\n",
    "# Summary\n",
    "In this notebook, we provide a review of simple Jupyter notebook operations, basic Python, and show how to access catalog data through the Data Lab.  We construct a basic Structured Query Language (SQL) query, and issue it through the Data Lab both in while-you-wait (synchronous) and batch (asynchronous) mode.\n",
    "\n",
    "# Table of contents\n",
    "\n",
    "\n",
    "## Jupyter 101\n",
    "* [Get by with just a few shortcuts](#shortcuts)\n",
    "* [Create a new notebook](#newnotebook)\n",
    "* [Save a notebook](#savenotebook)\n",
    "* [Start an existing notebook](#startexisting)\n",
    "* [The kernel: change, stop, restart, swear, repeat](#kernel)\n",
    "\n",
    "## Python 101 - 201\n",
    "* [Hello world](#hello) _print()_\n",
    "* [Hello you](#helloyou) _functions_\n",
    "* [2 + 2](#calc) _math_\n",
    "* [If it quacks like a duck...](#duck) _types_\n",
    "* [Extra power through modules](#modules) _packages_\n",
    "* [Everything is an object](#object) _attributes & methods_\n",
    "* [Example: Plot a 1-d function](#plot1d) _plotting_\n",
    "* [Example: Plot a 2d Gaussian](#gauss2d) _array calcs_\n",
    "* [Example: Make a scatter plot](#scatter) _export data to file_\n",
    "\n",
    "## Data Lab 101\n",
    "* [Import Data Lab packages](#dlimport)\n",
    "* [Login](#login)\n",
    "\n",
    "## SQL 101\n",
    "* [Structure of a simple query](#querystructure)\n",
    "* [Our first Data Lab query](#firstquery)\n",
    "* [LIMIT yourself](#limit)\n",
    "* [What's there anyway?](#whatsthere)\n",
    "* [Async queries](#async)\n",
    "\n",
    "## Links you need\n",
    "\n",
    "| What | Where |\n",
    "|------|-------|\n",
    "|Get your Data Lab account now!| https://datalab.noao.edu/ |\n",
    "|To the Data Lab notebook server!| https://datalab.noao.edu/devbooks |\n",
    "|Always look to the Data Lab user manual (and use search function)| https://datalab.noao.edu/docs/manual/ |\n",
    "|Ask questions on our help desk| https://datalab.noao.edu/help/ |\n",
    "\n",
    "\n",
    "\n"
   ]
  },
  {
   "cell_type": "markdown",
   "metadata": {},
   "source": [
    "# Jupyter notebook\n",
    "<a class=\"anchor\" id=\"shortcuts\"></a>\n",
    "\n",
    "## Get by with just a few shortcuts\n",
    "\n",
    "Everything is entered into _cells_. A cell can hold text, or code, or an image, etc.\n",
    "\n",
    "A _code_ cell can be executed (i.e. the Python code can be _run_), just select the cell (move arrows up/down), then press `SHIFT + ENTER`\n",
    "\n",
    "`ESC + m` change cell type to mardown (for writing text)\n",
    "\n",
    "`ESC + y` change cell type to code (for entering Python code)\n",
    "\n",
    "`ESC + a` add a new cell above the current one\n",
    "\n",
    "`ESC + b` add a new cell below the current one\n",
    "\n",
    "`ESC + x` cut/delete a cell\n",
    "\n",
    "`ESC + v` paste a cell\n",
    "\n",
    "`ESC + h` pop up a help window (more shortcuts)"
   ]
  },
  {
   "cell_type": "markdown",
   "metadata": {},
   "source": [
    "<a class=\"anchor\" id=\"newnotebook\"></a>\n",
    "## Create a new notebook\n",
    "\n",
    "<a class=\"anchor\" id=\"savenotebook\"></a>\n",
    "## Save a notebook\n",
    "\n",
    "<a class=\"anchor\" id=\"startnotebook\"></a>\n",
    "## Start an existing notebook\n",
    "\n",
    "<a class=\"anchor\" id=\"kernel\"></a>\n",
    "## The kernel: change, stop, restart, swear, repeat"
   ]
  },
  {
   "cell_type": "markdown",
   "metadata": {},
   "source": [
    "# Python 101 - 201\n",
    "<a class=\"anchor\" id=\"hello\"></a>\n",
    "## Hello World!\n",
    "Python is an interpreted programming language\n",
    "You write a line of Python code, or many lines, and run them. No compilation step."
   ]
  },
  {
   "cell_type": "code",
   "execution_count": null,
   "metadata": {},
   "outputs": [],
   "source": [
    "print(\"Hello World!\")"
   ]
  },
  {
   "cell_type": "markdown",
   "metadata": {},
   "source": [
    "Note that strings are within single or double quotes."
   ]
  },
  {
   "cell_type": "markdown",
   "metadata": {},
   "source": [
    "<a class=\"anchor\" id=\"helloyou\"></a>\n",
    "## Hello you!\n",
    "Let's write our first function. The template for functions is always the same:\n",
    "\n",
    "```\n",
    "def function_name(arguments):\n",
    "    do something\n",
    "    [return something] # optional\n",
    "```"
   ]
  },
  {
   "cell_type": "code",
   "execution_count": null,
   "metadata": {
    "collapsed": true
   },
   "outputs": [],
   "source": [
    "def helloyou(name):\n",
    "    # will print your name\n",
    "    print(\"Hello\",name,'!')"
   ]
  },
  {
   "cell_type": "markdown",
   "metadata": {},
   "source": [
    "Separate all arguments to the print function by commas. They will all be printed in order.\n",
    "\n",
    "Comment lines in Python begin with `#`"
   ]
  },
  {
   "cell_type": "code",
   "execution_count": null,
   "metadata": {},
   "outputs": [],
   "source": [
    "helloyou('Kitty')"
   ]
  },
  {
   "cell_type": "markdown",
   "metadata": {},
   "source": [
    "<a class=\"anchor\" id=\"calc\"></a>\n",
    "## 2 + 2\n",
    "Use Python as a powerful calculator"
   ]
  },
  {
   "cell_type": "code",
   "execution_count": null,
   "metadata": {},
   "outputs": [],
   "source": [
    "2+2"
   ]
  },
  {
   "cell_type": "code",
   "execution_count": null,
   "metadata": {},
   "outputs": [],
   "source": [
    "3**1.2345"
   ]
  },
  {
   "cell_type": "markdown",
   "metadata": {},
   "source": [
    "<a class=\"anchor\" id=\"duck\"></a>\n",
    "## Python has _duck typing_ 🦆\n",
    "If it walks like a duck and quacks like a duck, it must be a duck!"
   ]
  },
  {
   "cell_type": "code",
   "execution_count": null,
   "metadata": {},
   "outputs": [],
   "source": [
    "type(2)"
   ]
  },
  {
   "cell_type": "code",
   "execution_count": null,
   "metadata": {},
   "outputs": [],
   "source": [
    "type(3.1415)"
   ]
  },
  {
   "cell_type": "code",
   "execution_count": null,
   "metadata": {},
   "outputs": [],
   "source": [
    "type('word')"
   ]
  },
  {
   "cell_type": "code",
   "execution_count": null,
   "metadata": {},
   "outputs": [],
   "source": [
    "type(helloyou)"
   ]
  },
  {
   "cell_type": "code",
   "execution_count": null,
   "metadata": {},
   "outputs": [],
   "source": [
    "a = 2\n",
    "b = 3.1415\n",
    "c = a*b\n",
    "type(c)"
   ]
  },
  {
   "cell_type": "code",
   "execution_count": null,
   "metadata": {},
   "outputs": [],
   "source": [
    "2*\"yo\""
   ]
  },
  {
   "cell_type": "markdown",
   "metadata": {},
   "source": [
    "<a class=\"anchor\" id=\"modules\"></a>\n",
    "## Extra power with modules/packages\n",
    "Python has a lot of functionality built-in in its standard library.\n",
    "But much more functionality can be added by importing specific packages."
   ]
  },
  {
   "cell_type": "code",
   "execution_count": null,
   "metadata": {
    "collapsed": true
   },
   "outputs": [],
   "source": [
    "import numpy  # \"numeric python\" - math and array operations"
   ]
  },
  {
   "cell_type": "markdown",
   "metadata": {},
   "source": [
    "Or import under a different (often shorter) name:"
   ]
  },
  {
   "cell_type": "code",
   "execution_count": null,
   "metadata": {
    "collapsed": true
   },
   "outputs": [],
   "source": [
    "import numpy as np"
   ]
  },
  {
   "cell_type": "code",
   "execution_count": null,
   "metadata": {},
   "outputs": [],
   "source": [
    "np.sqrt(17)"
   ]
  },
  {
   "cell_type": "code",
   "execution_count": null,
   "metadata": {},
   "outputs": [],
   "source": [
    "np.rad2deg(2*np.pi) # convert radians to degrees"
   ]
  },
  {
   "cell_type": "code",
   "execution_count": null,
   "metadata": {},
   "outputs": [],
   "source": [
    "np.rad2deg(1)"
   ]
  },
  {
   "cell_type": "code",
   "execution_count": null,
   "metadata": {},
   "outputs": [],
   "source": [
    "a = np.array((1,2,3))\n",
    "b = np.array((3,2,1))\n",
    "print(\"Vector                 a =\", a)\n",
    "print(\"Vector                 b =\", b)\n",
    "print()\n",
    "print(\"Sum                  a+b =\", a+b)\n",
    "print(\"Element-wise product a*b =\", a*b)\n",
    "print(\"Dot product          a.b =\", np.dot(a,b))"
   ]
  },
  {
   "cell_type": "code",
   "execution_count": null,
   "metadata": {},
   "outputs": [],
   "source": [
    "a+b"
   ]
  },
  {
   "cell_type": "code",
   "execution_count": null,
   "metadata": {},
   "outputs": [],
   "source": [
    "a*b"
   ]
  },
  {
   "cell_type": "code",
   "execution_count": null,
   "metadata": {},
   "outputs": [],
   "source": [
    "np.dot(a,b)"
   ]
  },
  {
   "cell_type": "markdown",
   "metadata": {},
   "source": [
    "<a class=\"anchor\" id=\"object\"></a>\n",
    "## Everything in Python is an object...\n",
    "... and object have things ..."
   ]
  },
  {
   "cell_type": "code",
   "execution_count": null,
   "metadata": {},
   "outputs": [],
   "source": [
    "A = np.eye(3) # rank-3 identity matrix (just a 2-d Numpy array)\n",
    "A"
   ]
  },
  {
   "cell_type": "code",
   "execution_count": null,
   "metadata": {},
   "outputs": [],
   "source": [
    "A.shape # shape of the array"
   ]
  },
  {
   "cell_type": "code",
   "execution_count": null,
   "metadata": {},
   "outputs": [],
   "source": [
    "A.size  # how many elements in A"
   ]
  },
  {
   "cell_type": "markdown",
   "metadata": {},
   "source": [
    "## ... and objects can do things"
   ]
  },
  {
   "cell_type": "code",
   "execution_count": null,
   "metadata": {},
   "outputs": [],
   "source": [
    "A.diagonal()"
   ]
  },
  {
   "cell_type": "code",
   "execution_count": null,
   "metadata": {},
   "outputs": [],
   "source": [
    "A.mean()"
   ]
  },
  {
   "cell_type": "markdown",
   "metadata": {},
   "source": [
    "<a class=\"anchor\" id=\"plot1d\"></a>\n",
    "# Example: Plot a 1-d function"
   ]
  },
  {
   "cell_type": "markdown",
   "metadata": {},
   "source": [
    "All we need to start plotting... is a plotting module!"
   ]
  },
  {
   "cell_type": "code",
   "execution_count": null,
   "metadata": {
    "collapsed": true
   },
   "outputs": [],
   "source": [
    "import pylab as plt\n",
    "%matplotlib inline\n",
    "plt.rcParams['figure.figsize'] = (5,5)"
   ]
  },
  {
   "cell_type": "code",
   "execution_count": null,
   "metadata": {},
   "outputs": [],
   "source": [
    "x = np.linspace(0,2*np.pi,100) # min,max,nsteps\n",
    "print(x)"
   ]
  },
  {
   "cell_type": "code",
   "execution_count": null,
   "metadata": {
    "collapsed": true
   },
   "outputs": [],
   "source": [
    "y = np.sin(x)"
   ]
  },
  {
   "cell_type": "code",
   "execution_count": null,
   "metadata": {},
   "outputs": [],
   "source": [
    "plt.plot(x,y,'b-')"
   ]
  },
  {
   "cell_type": "markdown",
   "metadata": {},
   "source": [
    "<a class=\"anchor\" id=\"gauss2d\"></a>\n",
    "# Example: Plot a 2-d Gaussian"
   ]
  },
  {
   "cell_type": "code",
   "execution_count": null,
   "metadata": {
    "collapsed": true
   },
   "outputs": [],
   "source": [
    "from astropy.modeling.models import Gaussian2D"
   ]
  },
  {
   "cell_type": "code",
   "execution_count": null,
   "metadata": {
    "collapsed": true
   },
   "outputs": [],
   "source": [
    "g = Gaussian2D(x_mean=0,y_mean=0,x_stddev=5,y_stddev=10)"
   ]
  },
  {
   "cell_type": "code",
   "execution_count": null,
   "metadata": {
    "collapsed": true
   },
   "outputs": [],
   "source": [
    "nx = 100\n",
    "half = nx//2\n",
    "x = np.linspace(-half,half,nx)\n",
    "X,Y = np.meshgrid(x,x) # using x for both x and y axes, since we want a square array anyway"
   ]
  },
  {
   "cell_type": "code",
   "execution_count": null,
   "metadata": {},
   "outputs": [],
   "source": [
    "plt.imshow(g(X,Y))"
   ]
  },
  {
   "cell_type": "markdown",
   "metadata": {},
   "source": [
    "<a class=\"anchor\" id=\"scatter\"></a>\n",
    "# Example: Make a scatter plot"
   ]
  },
  {
   "cell_type": "code",
   "execution_count": null,
   "metadata": {
    "collapsed": true
   },
   "outputs": [],
   "source": [
    "x = np.random.normal(size=1000)\n",
    "y = np.random.normal(size=1000)"
   ]
  },
  {
   "cell_type": "code",
   "execution_count": null,
   "metadata": {},
   "outputs": [],
   "source": [
    "plt.scatter(x,y,s=5)"
   ]
  },
  {
   "cell_type": "markdown",
   "metadata": {},
   "source": [
    "# Data Lab 101\n",
    "Full introduction to Data Lab in the tutorial session.\n",
    "\n",
    "For now just the bare minimum to get us started."
   ]
  },
  {
   "cell_type": "markdown",
   "metadata": {},
   "source": [
    "<a class=\"anchor\" id=\"dlimport\"></a>\n",
    "## Import Data Lab packages (almost always this way)"
   ]
  },
  {
   "cell_type": "code",
   "execution_count": null,
   "metadata": {},
   "outputs": [],
   "source": [
    "from dl import authClient as ac, queryClient as qc\n",
    "from dl.helpers.utils import convert\n",
    "from getpass import getpass"
   ]
  },
  {
   "cell_type": "markdown",
   "metadata": {},
   "source": [
    "<a class=\"anchor\" id=\"login\"></a>\n",
    "## Log in\n",
    "Uncomment this line to log in as a registered user (only needs to be done once), default is to be logged in as anonymous."
   ]
  },
  {
   "cell_type": "code",
   "execution_count": null,
   "metadata": {},
   "outputs": [],
   "source": [
    "#token = ac.login('username',getpass(\"Enter password (+ENTER): \")) # replace 'username' with your actual user name"
   ]
  },
  {
   "cell_type": "code",
   "execution_count": null,
   "metadata": {},
   "outputs": [],
   "source": [
    "ac.whoAmI() # should return your username if logged in"
   ]
  },
  {
   "cell_type": "markdown",
   "metadata": {},
   "source": [
    "# SQL - Structured Query Language\n",
    "\n",
    "<a class=\"anchor\" id=\"sqldescribe\"></a>\n",
    "## SQL is a way to describe to a database what you want from it\n",
    "General template for a simple query written in SQL\n",
    "```\n",
    "SELECT something\n",
    "FROM database.table\n",
    "WHERE constraints\n",
    "```\n",
    "\n",
    "The `something` is usually a list of column names, e.g. `SELECT ra,dec`\n",
    "\n",
    "A `database` has a name, and usually holds several `table`s.\n",
    "\n",
    "E.g. to access columns in the `gaia_dr2` database, `gaia_source` table, one could ask for\n",
    "`gaia_dr2.gaia_source`\n",
    "\n",
    "The `constaints` are filters, or qualifiers, on the query, e.g.:\n",
    "\n",
    "`WHERE ra>90`\n",
    "\n",
    "Or combine several constaints:\n",
    "\n",
    "```\n",
    "WHERE ra>90 AND ra<100\n",
    "AND dec>40 AND dec<42\n",
    "```"
   ]
  },
  {
   "cell_type": "markdown",
   "metadata": {},
   "source": [
    "<a class=\"anchor\" id=\"limit\"></a>\n",
    "## LIMIT yourself\n",
    "If you append a `LIMIT 100` (or any small number) to your query, the database will return only the first 100 result rows. This is usually fast and you can tweak your query many times this way until you get it right.\n",
    "\n",
    "**Excellent advice while testing queries: LIMIT yourself.**\n",
    "\n",
    "The template becomes:\n",
    "```\n",
    "SELECT something\n",
    "FROM database.table\n",
    "WHERE constraints\n",
    "LIMIT 100\n",
    "```"
   ]
  },
  {
   "cell_type": "markdown",
   "metadata": {},
   "source": [
    "<a class=\"anchor\" id=\"firstquery\"></a>\n",
    "## Our first Data Lab query\n",
    "Let's ask for the radial velocities of all stars in Gaia DR2 around the position of the LMC\""
   ]
  },
  {
   "cell_type": "code",
   "execution_count": null,
   "metadata": {},
   "outputs": [],
   "source": [
    "# coordinates of the LMC\n",
    "#ra = 81.\n",
    "#dec = -69.8\n",
    "\n",
    "query = \"\"\"\n",
    "SELECT radial_velocity\n",
    "FROM gaia_dr2.gaia_source\n",
    "WHERE ra>78 and ra<84\n",
    "  AND dec>-73 and dec<-67\n",
    "  AND radial_velocity != 'nan'\n",
    "  AND abs(radial_velocity)>0.\n",
    "\"\"\"\n",
    "\n",
    "print(query)"
   ]
  },
  {
   "cell_type": "markdown",
   "metadata": {},
   "source": [
    "Now let's submit the query to the Data Lab database"
   ]
  },
  {
   "cell_type": "code",
   "execution_count": null,
   "metadata": {},
   "outputs": [],
   "source": [
    "%%time\n",
    "result = qc.query(sql=query)"
   ]
  },
  {
   "cell_type": "markdown",
   "metadata": {},
   "source": [
    "It took some time (under a minute I hope), and the returned result is in the variable called `result`.\n",
    "\n",
    "What type is `result`?"
   ]
  },
  {
   "cell_type": "code",
   "execution_count": null,
   "metadata": {},
   "outputs": [],
   "source": [
    "type(result)"
   ]
  },
  {
   "cell_type": "markdown",
   "metadata": {},
   "source": [
    "The type is 'str' or string.\n",
    "\n",
    "How long is this 'str' object? (in characters)"
   ]
  },
  {
   "cell_type": "code",
   "execution_count": null,
   "metadata": {},
   "outputs": [],
   "source": [
    "len(result)"
   ]
  },
  {
   "cell_type": "markdown",
   "metadata": {},
   "source": [
    "That's many characters! Let's print the first 200 or so:"
   ]
  },
  {
   "cell_type": "code",
   "execution_count": null,
   "metadata": {},
   "outputs": [],
   "source": [
    "result[:200]"
   ]
  },
  {
   "cell_type": "markdown",
   "metadata": {},
   "source": [
    "It's like a long string. The `\\n` are line breaks. The first line is the header (here just `radial_velocity`).\n",
    "\n",
    "It's hard to plot a long text object. We convert to a more \"numerical\" data format:"
   ]
  },
  {
   "cell_type": "code",
   "execution_count": null,
   "metadata": {
    "collapsed": true
   },
   "outputs": [],
   "source": [
    "df = convert(result,'pandas') # df mean data frame"
   ]
  },
  {
   "cell_type": "markdown",
   "metadata": {},
   "source": [
    "What does the converted table look like?"
   ]
  },
  {
   "cell_type": "code",
   "execution_count": null,
   "metadata": {},
   "outputs": [],
   "source": [
    "print(df.shape)\n",
    "df.head(5)"
   ]
  },
  {
   "cell_type": "markdown",
   "metadata": {},
   "source": [
    "Ah yes, 1694 rows, and 1 column (`radial_velocity`).\n",
    "\n",
    "Let's plot a histogram of the radial velocities:"
   ]
  },
  {
   "cell_type": "code",
   "execution_count": null,
   "metadata": {},
   "outputs": [],
   "source": [
    "res = plt.hist(df['radial_velocity'],bins=50,histtype='step',color='b')\n",
    "plt.xlabel('radial velocity (km/s)')\n",
    "plt.xlim(-100,500)"
   ]
  },
  {
   "cell_type": "markdown",
   "metadata": {},
   "source": [
    "The radial velocity of the LMC is ~270 km/s."
   ]
  },
  {
   "cell_type": "markdown",
   "metadata": {},
   "source": [
    "<a class=\"anchor\" id=\"whatsthere\"></a>\n",
    "# What's there anyway?\n",
    "How can you find what databases and tables there are in Data Lab?"
   ]
  },
  {
   "cell_type": "markdown",
   "metadata": {},
   "source": [
    "## List all databases:"
   ]
  },
  {
   "cell_type": "code",
   "execution_count": null,
   "metadata": {},
   "outputs": [],
   "source": [
    "print(qc.schema())"
   ]
  },
  {
   "cell_type": "markdown",
   "metadata": {},
   "source": [
    "## List all tables in a database:"
   ]
  },
  {
   "cell_type": "code",
   "execution_count": null,
   "metadata": {},
   "outputs": [],
   "source": [
    "print(qc.schema('gaia_dr2'))"
   ]
  },
  {
   "cell_type": "markdown",
   "metadata": {},
   "source": [
    "## List all columns in a table in a database"
   ]
  },
  {
   "cell_type": "code",
   "execution_count": null,
   "metadata": {},
   "outputs": [],
   "source": [
    "print(qc.schema('gaia_dr2.gaia_source'))"
   ]
  },
  {
   "cell_type": "markdown",
   "metadata": {},
   "source": [
    "<a class=\"anchor\" id=\"aync\"></a>\n",
    "# If you're too cool to be sitting around: async queries\n",
    "A query that could run potentially longer than your attention span... In that case just submit it in async mode, and retrieve the results later when the query is done (and when you've had your well-deserved coffee):"
   ]
  },
  {
   "cell_type": "code",
   "execution_count": null,
   "metadata": {
    "collapsed": true
   },
   "outputs": [],
   "source": [
    "query = \"\"\"SELECT ra,dec FROM smash_dr1.object \n",
    "WHERE fieldid = 169 AND depthflag > 1 \n",
    "AND ndetr > 3 AND ndetg > 3 \n",
    "AND abs(sharp) < 0.5 \n",
    "AND gmag BETWEEN 9 AND 25 \n",
    "AND (gmag-rmag) BETWEEN -0.4 AND 0.4\"\"\""
   ]
  },
  {
   "cell_type": "markdown",
   "metadata": {},
   "source": [
    "Asynchronous queries get a jobid upon submission:"
   ]
  },
  {
   "cell_type": "code",
   "execution_count": null,
   "metadata": {
    "collapsed": true
   },
   "outputs": [],
   "source": [
    "jobid = qc.query(adql=query,async=True)"
   ]
  },
  {
   "cell_type": "code",
   "execution_count": null,
   "metadata": {},
   "outputs": [],
   "source": [
    "print(jobid)"
   ]
  },
  {
   "cell_type": "markdown",
   "metadata": {},
   "source": [
    "Use the jobid to check on the query progress:"
   ]
  },
  {
   "cell_type": "code",
   "execution_count": null,
   "metadata": {},
   "outputs": [],
   "source": [
    "qc.status(jobid)"
   ]
  },
  {
   "cell_type": "markdown",
   "metadata": {},
   "source": [
    "When status says 'COMPLETED', use jobid to fetch the results:"
   ]
  },
  {
   "cell_type": "code",
   "execution_count": null,
   "metadata": {
    "collapsed": true
   },
   "outputs": [],
   "source": [
    "result = qc.results(jobid)"
   ]
  },
  {
   "cell_type": "markdown",
   "metadata": {},
   "source": [
    "Convert to Pandas dataframe, just like before:"
   ]
  },
  {
   "cell_type": "code",
   "execution_count": null,
   "metadata": {
    "collapsed": true
   },
   "outputs": [],
   "source": [
    "df = convert(result)"
   ]
  },
  {
   "cell_type": "markdown",
   "metadata": {},
   "source": [
    "Use the dataframe as you please, e.g. here to plot RA & Dec:"
   ]
  },
  {
   "cell_type": "code",
   "execution_count": null,
   "metadata": {},
   "outputs": [],
   "source": [
    "plt.hexbin(df['ra'],df['dec'])"
   ]
  },
  {
   "cell_type": "code",
   "execution_count": null,
   "metadata": {
    "collapsed": true
   },
   "outputs": [],
   "source": []
  }
 ],
 "metadata": {
  "kernelspec": {
   "display_name": "Python 3",
   "language": "python",
   "name": "python3"
  },
  "language_info": {
   "codemirror_mode": {
    "name": "ipython",
    "version": 3
   },
   "file_extension": ".py",
   "mimetype": "text/x-python",
   "name": "python",
   "nbconvert_exporter": "python",
   "pygments_lexer": "ipython3",
   "version": "3.6.2"
  }
 },
 "nbformat": 4,
 "nbformat_minor": 2
}
