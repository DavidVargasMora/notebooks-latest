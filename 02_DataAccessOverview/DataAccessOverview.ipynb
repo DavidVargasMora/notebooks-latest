{
 "cells": [
  {
   "cell_type": "code",
   "execution_count": 1,
   "metadata": {},
   "outputs": [],
   "source": [
    "__author__ = 'Robert Nikutta <nikutta@noao.edu>, NOIRLab Astro Data Lab team <datalab@noao.edu>'\n",
    "__version__ = '20200904' # yyyymmdd\n",
    "__datasets__ = ['allwise','smash']\n",
    "__keywords__ = ['histogram','plot:cmd','RRLyrae','lightcurve','dwarf galaxies','query','tutorial']"
   ]
  },
  {
   "cell_type": "markdown",
   "metadata": {},
   "source": [
    "# Data Lab data access examples\n",
    "*Robert Nikutta and the NOIRLab Astro Data Lab Team*"
   ]
  },
  {
   "cell_type": "markdown",
   "metadata": {},
   "source": [
    "### Table of contents\n",
    "* [Goals & notebook summary](#goals)\n",
    "* [Disclaimer & Attribution](#attribution)\n",
    "* [Imports and setup](#import)\n",
    "* [Authentication](#auth)\n",
    "* [Magnitude distribution in WISE](#histogram)\n",
    "* [Color-magnitude diagram of a dwarf galaxy](#cmd)\n",
    "* [Light curve of RRLyrae star](#lightcurve)"
   ]
  },
  {
   "cell_type": "markdown",
   "metadata": {},
   "source": [
    "<a class=\"anchor\" id=\"goals\"></a>\n",
    "# Goals\n",
    "To demonstrate how to:\n",
    "* Import Data Lab (and other) packages\n",
    "* Log in to Data Lab (if required)\n",
    "* Issue simple SQL queries against database tables in Data Lab\n",
    "* Make 1d (histogram) and 2d (color-magnitude diagram) plots of the retrieved data\n",
    "* Query for the light curve of a variable star and plot it"
   ]
  },
  {
   "cell_type": "markdown",
   "metadata": {},
   "source": [
    "# Summary\n",
    "This notebook shows very short examples of how different data can be queried in Data Lab, and what you can do with them."
   ]
  },
  {
   "cell_type": "markdown",
   "metadata": {},
   "source": [
    "<a class=\"anchor\" id=\"attribution\"></a>\n",
    "# Disclaimer & attribution\n",
    "If you use parts of this or other notebooks for your published science, please acknowledge the following:\n",
    "\n",
    "* Data Lab concept paper: Fitzpatrick et al., \"The NOAO Data Laboratory: a conceptual overview\", SPIE, 9149, 2014, http://dx.doi.org/10.1117/12.2057445\n",
    "\n",
    "* Data Lab disclaimer: http://datalab.noao.edu/disclaimers.php"
   ]
  },
  {
   "cell_type": "markdown",
   "metadata": {},
   "source": [
    "<a class=\"anchor\" id=\"import\"></a>\n",
    "# Imports and setup\n",
    "Let's import a few Python packages, and the relevant Data Lab modules. "
   ]
  },
  {
   "cell_type": "code",
   "execution_count": 2,
   "metadata": {},
   "outputs": [],
   "source": [
    "# std lib\n",
    "from getpass import getpass\n",
    "\n",
    "# 3rd party\n",
    "import numpy as np\n",
    "import pylab as plt\n",
    "%matplotlib inline\n",
    "\n",
    "# Data Lab\n",
    "from dl import authClient as ac, queryClient as qc \n",
    "from dl.helpers.utils import convert"
   ]
  },
  {
   "cell_type": "markdown",
   "metadata": {},
   "source": [
    "<a class=\"anchor\" id=\"auth\"></a>\n",
    "# Authentication\n",
    "Much of the functionality of Data Lab can be accessed without explicitly logging in (the service then uses an anonymous login). But some capacities, for instance saving the results of your queries to your virtual storage space, require a login (i.e. you will need a registered user account).\n",
    "\n",
    "To log in, issue this command, and respond according to the instructions:"
   ]
  },
  {
   "cell_type": "code",
   "execution_count": 3,
   "metadata": {},
   "outputs": [
    {
     "data": {
      "text/plain": [
       "'ajacques'"
      ]
     },
     "execution_count": 3,
     "metadata": {},
     "output_type": "execute_result"
    }
   ],
   "source": [
    "#ac.login(input('Enter user name (+ENTER): '),getpass('Enter password (+ENTER): '))\n",
    "ac.whoAmI()"
   ]
  },
  {
   "cell_type": "markdown",
   "metadata": {},
   "source": [
    "<a class=\"anchor\" id=\"histogram\"></a>\n",
    "# Magnitude distribution in WISE\n",
    "In this example we query the `source` table of the AllWISE database for the measured magnitudes in 3 bands of 10k sources with high SNR."
   ]
  },
  {
   "cell_type": "code",
   "execution_count": 4,
   "metadata": {},
   "outputs": [],
   "source": [
    "query =\\\n",
    "\"\"\"\n",
    "SELECT w1mpro,w2mpro,w3mpro\n",
    "FROM allwise.source\n",
    "WHERE w1snr>30 and w2snr>30 and w3snr>30\n",
    "LIMIT 10000\n",
    "\"\"\""
   ]
  },
  {
   "cell_type": "markdown",
   "metadata": {},
   "source": [
    "Submit the query, convert the result of the query to a convenient format (here a Pandas dataframe), and display on-screen the first 5 rows:"
   ]
  },
  {
   "cell_type": "code",
   "execution_count": 5,
   "metadata": {},
   "outputs": [
    {
     "data": {
      "text/html": [
       "<div>\n",
       "<style scoped>\n",
       "    .dataframe tbody tr th:only-of-type {\n",
       "        vertical-align: middle;\n",
       "    }\n",
       "\n",
       "    .dataframe tbody tr th {\n",
       "        vertical-align: top;\n",
       "    }\n",
       "\n",
       "    .dataframe thead th {\n",
       "        text-align: right;\n",
       "    }\n",
       "</style>\n",
       "<table border=\"1\" class=\"dataframe\">\n",
       "  <thead>\n",
       "    <tr style=\"text-align: right;\">\n",
       "      <th></th>\n",
       "      <th>w1mpro</th>\n",
       "      <th>w2mpro</th>\n",
       "      <th>w3mpro</th>\n",
       "    </tr>\n",
       "  </thead>\n",
       "  <tbody>\n",
       "    <tr>\n",
       "      <td>0</td>\n",
       "      <td>9.649</td>\n",
       "      <td>9.701</td>\n",
       "      <td>9.480</td>\n",
       "    </tr>\n",
       "    <tr>\n",
       "      <td>1</td>\n",
       "      <td>8.501</td>\n",
       "      <td>8.654</td>\n",
       "      <td>8.487</td>\n",
       "    </tr>\n",
       "    <tr>\n",
       "      <td>2</td>\n",
       "      <td>8.186</td>\n",
       "      <td>8.340</td>\n",
       "      <td>8.111</td>\n",
       "    </tr>\n",
       "    <tr>\n",
       "      <td>3</td>\n",
       "      <td>8.866</td>\n",
       "      <td>8.978</td>\n",
       "      <td>8.823</td>\n",
       "    </tr>\n",
       "    <tr>\n",
       "      <td>4</td>\n",
       "      <td>9.375</td>\n",
       "      <td>9.488</td>\n",
       "      <td>9.374</td>\n",
       "    </tr>\n",
       "  </tbody>\n",
       "</table>\n",
       "</div>"
      ],
      "text/plain": [
       "   w1mpro  w2mpro  w3mpro\n",
       "0   9.649   9.701   9.480\n",
       "1   8.501   8.654   8.487\n",
       "2   8.186   8.340   8.111\n",
       "3   8.866   8.978   8.823\n",
       "4   9.375   9.488   9.374"
      ]
     },
     "execution_count": 5,
     "metadata": {},
     "output_type": "execute_result"
    }
   ],
   "source": [
    "res = qc.query(sql=query) # by default the result is a CSV formatted string\n",
    "df = convert(res)\n",
    "df.head()"
   ]
  },
  {
   "cell_type": "markdown",
   "metadata": {},
   "source": [
    "We'll plot the distributions of the WISE W1, W2, W3 magnitudes as histograms."
   ]
  },
  {
   "cell_type": "code",
   "execution_count": 6,
   "metadata": {},
   "outputs": [
    {
     "data": {
      "text/plain": [
       "<matplotlib.legend.Legend at 0x7f2461b28150>"
      ]
     },
     "execution_count": 6,
     "metadata": {},
     "output_type": "execute_result"
    },
    {
     "data": {
      "image/png": "[encoded data removed]",
      "text/plain": [
       "<Figure size 792x648 with 1 Axes>"
      ]
     },
     "metadata": {
      "needs_background": "light"
     },
     "output_type": "display_data"
    }
   ],
   "source": [
    "colors = list('rgb')\n",
    "fig, ax = plt.subplots(1,1,figsize=(11,9))\n",
    "for j in (1,2,3):\n",
    "    ax.hist(df['w{:d}mpro'.format(j)],bins=40,range=(6,10),histtype='step',\n",
    "            lw=3,color=colors[j-1],alpha=0.4,label='W{:d}'.format(j+1)) # lw=linewidth, alpha=transparency\n",
    "ax.set_xlabel('mag (Vega)',fontsize=15)\n",
    "ax.set_ylabel('histogram',fontsize=15)\n",
    "ax.legend(loc='upper left',frameon=False,fontsize=14)"
   ]
  },
  {
   "cell_type": "markdown",
   "metadata": {},
   "source": [
    "### A more complete example of photometry analysis using AllWISE can be found on our GitHub page [here](https://github.com/noaodatalab/notebooks-latest/tree/master/03_ScienceExamples/SpectralEnergyDistributions).\n"
   ]
  },
  {
   "cell_type": "markdown",
   "metadata": {},
   "source": [
    "<a class=\"anchor\" id=\"cmd\"></a>\n",
    "# Color-magnitude diagram of a dwarf galaxy\n",
    "In this example we query for the photometry of stars around the known location of the Hydra II dwarf Galaxy, and generate a color-magnitude diagram (CDM) of them.\n",
    "\n",
    "Let's define the query string. We ask for point-like objects `(abs(sharp<0.5))` in field number `169`, detected in long exposure images (`depthflag>1`), with `g` magnitudes between `9` and `25`, around a central position `ra0/dec0`, within `0.1` degrees radius. Where `ra0`,`dec0`, and `radius` are in decimal degrees."
   ]
  },
  {
   "cell_type": "code",
   "execution_count": 7,
   "metadata": {},
   "outputs": [],
   "source": [
    "field, ra0, dec0, radius = 169, 185.410559533, -31.9760034474, 0.1\n",
    "query = \"\"\"\n",
    "SELECT ra,dec,gmag,rmag,imag FROM smash_dr1.object\n",
    "  WHERE fieldid = {:d}\n",
    "    AND depthflag > 1\n",
    "    AND abs(sharp) < 0.5\n",
    "    AND gmag BETWEEN 9 AND 25\n",
    "    AND q3c_radial_query(ra,dec,{:f},{:f},{:f})\n",
    "\"\"\".format(field,ra0,dec0,radius)"
   ]
  },
  {
   "cell_type": "markdown",
   "metadata": {},
   "source": [
    "Submit the query, convert to Pandas dataframe, and display on-screen the first 5 rows:"
   ]
  },
  {
   "cell_type": "code",
   "execution_count": 8,
   "metadata": {},
   "outputs": [
    {
     "data": {
      "text/html": [
       "<div>\n",
       "<style scoped>\n",
       "    .dataframe tbody tr th:only-of-type {\n",
       "        vertical-align: middle;\n",
       "    }\n",
       "\n",
       "    .dataframe tbody tr th {\n",
       "        vertical-align: top;\n",
       "    }\n",
       "\n",
       "    .dataframe thead th {\n",
       "        text-align: right;\n",
       "    }\n",
       "</style>\n",
       "<table border=\"1\" class=\"dataframe\">\n",
       "  <thead>\n",
       "    <tr style=\"text-align: right;\">\n",
       "      <th></th>\n",
       "      <th>ra</th>\n",
       "      <th>dec</th>\n",
       "      <th>gmag</th>\n",
       "      <th>rmag</th>\n",
       "      <th>imag</th>\n",
       "    </tr>\n",
       "  </thead>\n",
       "  <tbody>\n",
       "    <tr>\n",
       "      <td>0</td>\n",
       "      <td>185.347041</td>\n",
       "      <td>-31.900792</td>\n",
       "      <td>24.7889</td>\n",
       "      <td>24.5438</td>\n",
       "      <td>24.7477</td>\n",
       "    </tr>\n",
       "    <tr>\n",
       "      <td>1</td>\n",
       "      <td>185.322179</td>\n",
       "      <td>-31.916697</td>\n",
       "      <td>24.8761</td>\n",
       "      <td>23.9029</td>\n",
       "      <td>22.6424</td>\n",
       "    </tr>\n",
       "    <tr>\n",
       "      <td>2</td>\n",
       "      <td>185.325999</td>\n",
       "      <td>-31.906499</td>\n",
       "      <td>20.2757</td>\n",
       "      <td>20.2281</td>\n",
       "      <td>20.1026</td>\n",
       "    </tr>\n",
       "    <tr>\n",
       "      <td>3</td>\n",
       "      <td>185.327437</td>\n",
       "      <td>-31.912125</td>\n",
       "      <td>24.6747</td>\n",
       "      <td>23.8602</td>\n",
       "      <td>23.5007</td>\n",
       "    </tr>\n",
       "    <tr>\n",
       "      <td>4</td>\n",
       "      <td>185.328053</td>\n",
       "      <td>-31.918882</td>\n",
       "      <td>24.8699</td>\n",
       "      <td>24.7238</td>\n",
       "      <td>24.4339</td>\n",
       "    </tr>\n",
       "  </tbody>\n",
       "</table>\n",
       "</div>"
      ],
      "text/plain": [
       "           ra        dec     gmag     rmag     imag\n",
       "0  185.347041 -31.900792  24.7889  24.5438  24.7477\n",
       "1  185.322179 -31.916697  24.8761  23.9029  22.6424\n",
       "2  185.325999 -31.906499  20.2757  20.2281  20.1026\n",
       "3  185.327437 -31.912125  24.6747  23.8602  23.5007\n",
       "4  185.328053 -31.918882  24.8699  24.7238  24.4339"
      ]
     },
     "execution_count": 8,
     "metadata": {},
     "output_type": "execute_result"
    }
   ],
   "source": [
    "response = qc.query(sql=query) # by default the result is a CSV formatted string\n",
    "df = convert(response)\n",
    "df.head()"
   ]
  },
  {
   "cell_type": "markdown",
   "metadata": {},
   "source": [
    "Compute a color column (in the same dataframe) for g-r:"
   ]
  },
  {
   "cell_type": "code",
   "execution_count": 9,
   "metadata": {},
   "outputs": [
    {
     "data": {
      "text/html": [
       "<div>\n",
       "<style scoped>\n",
       "    .dataframe tbody tr th:only-of-type {\n",
       "        vertical-align: middle;\n",
       "    }\n",
       "\n",
       "    .dataframe tbody tr th {\n",
       "        vertical-align: top;\n",
       "    }\n",
       "\n",
       "    .dataframe thead th {\n",
       "        text-align: right;\n",
       "    }\n",
       "</style>\n",
       "<table border=\"1\" class=\"dataframe\">\n",
       "  <thead>\n",
       "    <tr style=\"text-align: right;\">\n",
       "      <th></th>\n",
       "      <th>ra</th>\n",
       "      <th>dec</th>\n",
       "      <th>gmag</th>\n",
       "      <th>rmag</th>\n",
       "      <th>imag</th>\n",
       "      <th>g_r</th>\n",
       "    </tr>\n",
       "  </thead>\n",
       "  <tbody>\n",
       "    <tr>\n",
       "      <td>0</td>\n",
       "      <td>185.347041</td>\n",
       "      <td>-31.900792</td>\n",
       "      <td>24.7889</td>\n",
       "      <td>24.5438</td>\n",
       "      <td>24.7477</td>\n",
       "      <td>0.2451</td>\n",
       "    </tr>\n",
       "    <tr>\n",
       "      <td>1</td>\n",
       "      <td>185.322179</td>\n",
       "      <td>-31.916697</td>\n",
       "      <td>24.8761</td>\n",
       "      <td>23.9029</td>\n",
       "      <td>22.6424</td>\n",
       "      <td>0.9732</td>\n",
       "    </tr>\n",
       "    <tr>\n",
       "      <td>2</td>\n",
       "      <td>185.325999</td>\n",
       "      <td>-31.906499</td>\n",
       "      <td>20.2757</td>\n",
       "      <td>20.2281</td>\n",
       "      <td>20.1026</td>\n",
       "      <td>0.0476</td>\n",
       "    </tr>\n",
       "    <tr>\n",
       "      <td>3</td>\n",
       "      <td>185.327437</td>\n",
       "      <td>-31.912125</td>\n",
       "      <td>24.6747</td>\n",
       "      <td>23.8602</td>\n",
       "      <td>23.5007</td>\n",
       "      <td>0.8145</td>\n",
       "    </tr>\n",
       "    <tr>\n",
       "      <td>4</td>\n",
       "      <td>185.328053</td>\n",
       "      <td>-31.918882</td>\n",
       "      <td>24.8699</td>\n",
       "      <td>24.7238</td>\n",
       "      <td>24.4339</td>\n",
       "      <td>0.1461</td>\n",
       "    </tr>\n",
       "  </tbody>\n",
       "</table>\n",
       "</div>"
      ],
      "text/plain": [
       "           ra        dec     gmag     rmag     imag     g_r\n",
       "0  185.347041 -31.900792  24.7889  24.5438  24.7477  0.2451\n",
       "1  185.322179 -31.916697  24.8761  23.9029  22.6424  0.9732\n",
       "2  185.325999 -31.906499  20.2757  20.2281  20.1026  0.0476\n",
       "3  185.327437 -31.912125  24.6747  23.8602  23.5007  0.8145\n",
       "4  185.328053 -31.918882  24.8699  24.7238  24.4339  0.1461"
      ]
     },
     "execution_count": 9,
     "metadata": {},
     "output_type": "execute_result"
    }
   ],
   "source": [
    "df['g_r'] = df['gmag'] - df['rmag']\n",
    "df.head()"
   ]
  },
  {
   "cell_type": "markdown",
   "metadata": {},
   "source": [
    "Plot a color-magnitude diagram:"
   ]
  },
  {
   "cell_type": "code",
   "execution_count": 10,
   "metadata": {},
   "outputs": [
    {
     "data": {
      "image/png": "[encoded data removed]",
      "text/plain": [
       "<Figure size 720x720 with 1 Axes>"
      ]
     },
     "metadata": {
      "needs_background": "light"
     },
     "output_type": "display_data"
    }
   ],
   "source": [
    "fig, ax = plt.subplots(figsize=(10,10))\n",
    "x = df['g_r']\n",
    "y = df['gmag']\n",
    "ax.scatter(x,y,marker='.',s=10, alpha=0.8) # s = size, alpha = transparency of data points\n",
    "ax.set_xlabel('g-r',fontsize=15)\n",
    "ax.set_ylabel('g magnitude',fontsize=15)\n",
    "ax.set_xlim((-1,2))\n",
    "ax.set_ylim((25.2,14))\n",
    "title = ax.set_title('{:d} objects'.format(len(df)),fontsize=15)"
   ]
  },
  {
   "cell_type": "markdown",
   "metadata": {},
   "source": [
    "### A more complete example of the photometry of stars in dwarf galaxies can be found on our GitHub page [here](https://github.com/noaodatalab/notebooks-latest/tree/master/03_ScienceExamples/DwarfGalaxies)."
   ]
  },
  {
   "cell_type": "markdown",
   "metadata": {},
   "source": [
    "<a class=\"anchor\" id=\"lightcurve\"></a>\n",
    "# Light curve of RR Lyrae star\n",
    "Some catalogs have multi-epoch data, such as the SMASH survey. We will query for the magnitudes and their errors of all measurements of a RR Lyrae star in Hydra II dwarf galaxy, whose unique ID we know.\n",
    "\n",
    "We will ask the query to SELECT the following columns: RA, Dec, modified Julian date (mjd), calibrated mag (cmag), uncertainities (cerr), and filter band. Then order the returned rows by ascending mod. Julian date.\n",
    "\n",
    "Note: this database table encodes 'no measurement' values as 99.99"
   ]
  },
  {
   "cell_type": "code",
   "execution_count": 11,
   "metadata": {},
   "outputs": [],
   "source": [
    "objID = '169.429960'\n",
    "\n",
    "query = \"\"\"SELECT ra,dec,mjd,cmag,cerr,filter\n",
    "        FROM smash_dr1.source\n",
    "        WHERE id='{:s}' AND cmag<99\n",
    "        ORDER BY mjd ASC\"\"\".format(objID)"
   ]
  },
  {
   "cell_type": "markdown",
   "metadata": {},
   "source": [
    "Submit the query, convert to Pandas dataframe, and display on-screen the first 5 rows:"
   ]
  },
  {
   "cell_type": "code",
   "execution_count": 12,
   "metadata": {},
   "outputs": [
    {
     "data": {
      "text/html": [
       "<div>\n",
       "<style scoped>\n",
       "    .dataframe tbody tr th:only-of-type {\n",
       "        vertical-align: middle;\n",
       "    }\n",
       "\n",
       "    .dataframe tbody tr th {\n",
       "        vertical-align: top;\n",
       "    }\n",
       "\n",
       "    .dataframe thead th {\n",
       "        text-align: right;\n",
       "    }\n",
       "</style>\n",
       "<table border=\"1\" class=\"dataframe\">\n",
       "  <thead>\n",
       "    <tr style=\"text-align: right;\">\n",
       "      <th></th>\n",
       "      <th>ra</th>\n",
       "      <th>dec</th>\n",
       "      <th>mjd</th>\n",
       "      <th>cmag</th>\n",
       "      <th>cerr</th>\n",
       "      <th>filter</th>\n",
       "    </tr>\n",
       "  </thead>\n",
       "  <tbody>\n",
       "    <tr>\n",
       "      <td>0</td>\n",
       "      <td>185.431155</td>\n",
       "      <td>-31.995327</td>\n",
       "      <td>56371.327538</td>\n",
       "      <td>21.4331</td>\n",
       "      <td>0.020651</td>\n",
       "      <td>g</td>\n",
       "    </tr>\n",
       "    <tr>\n",
       "      <td>1</td>\n",
       "      <td>185.431146</td>\n",
       "      <td>-31.995324</td>\n",
       "      <td>56371.328563</td>\n",
       "      <td>21.2316</td>\n",
       "      <td>0.022473</td>\n",
       "      <td>r</td>\n",
       "    </tr>\n",
       "    <tr>\n",
       "      <td>2</td>\n",
       "      <td>185.431139</td>\n",
       "      <td>-31.995320</td>\n",
       "      <td>56371.329582</td>\n",
       "      <td>21.1491</td>\n",
       "      <td>0.026192</td>\n",
       "      <td>i</td>\n",
       "    </tr>\n",
       "    <tr>\n",
       "      <td>3</td>\n",
       "      <td>185.431142</td>\n",
       "      <td>-31.995334</td>\n",
       "      <td>56371.330610</td>\n",
       "      <td>21.2379</td>\n",
       "      <td>0.045429</td>\n",
       "      <td>z</td>\n",
       "    </tr>\n",
       "    <tr>\n",
       "      <td>4</td>\n",
       "      <td>185.431145</td>\n",
       "      <td>-31.995325</td>\n",
       "      <td>56371.331633</td>\n",
       "      <td>21.3467</td>\n",
       "      <td>0.015112</td>\n",
       "      <td>g</td>\n",
       "    </tr>\n",
       "  </tbody>\n",
       "</table>\n",
       "</div>"
      ],
      "text/plain": [
       "           ra        dec           mjd     cmag      cerr filter\n",
       "0  185.431155 -31.995327  56371.327538  21.4331  0.020651      g\n",
       "1  185.431146 -31.995324  56371.328563  21.2316  0.022473      r\n",
       "2  185.431139 -31.995320  56371.329582  21.1491  0.026192      i\n",
       "3  185.431142 -31.995334  56371.330610  21.2379  0.045429      z\n",
       "4  185.431145 -31.995325  56371.331633  21.3467  0.015112      g"
      ]
     },
     "execution_count": 12,
     "metadata": {},
     "output_type": "execute_result"
    }
   ],
   "source": [
    "result = qc.query(sql=query) # by default the result is a CSV formatted string\n",
    "df = convert(result)\n",
    "df.head()"
   ]
  },
  {
   "cell_type": "markdown",
   "metadata": {},
   "source": [
    "Let's plot the lightcurve as function of date with error bars:"
   ]
  },
  {
   "cell_type": "code",
   "execution_count": 13,
   "metadata": {},
   "outputs": [
    {
     "data": {
      "text/plain": [
       "Text(0, 0.5, 'g magnitude')"
      ]
     },
     "execution_count": 13,
     "metadata": {},
     "output_type": "execute_result"
    },
    {
     "data": {
      "image/png": "[encoded data removed]",
      "text/plain": [
       "<Figure size 720x576 with 1 Axes>"
      ]
     },
     "metadata": {
      "needs_background": "light"
     },
     "output_type": "display_data"
    }
   ],
   "source": [
    "fig, ax = plt.subplots(figsize=(10,8))\n",
    "co = (df['filter']=='g')\n",
    "start = 16\n",
    "jd0 = 57110\n",
    "ax.errorbar(df['mjd'][co][start:]-jd0,df['cmag'][co][start:],\n",
    "            yerr=df['cerr'][co][start:],marker='.',ms=8,ls='none',\n",
    "            color='g',lw=1,alpha=0.5,label='') # ms=marker size, ls=linestyle, lw=linewidth, alpha=transparency\n",
    "ax.set_xlabel('modified Julian date - {:d} (days)'.format(jd0),fontsize=15)\n",
    "ax.set_ylabel('g magnitude',fontsize=15)"
   ]
  },
  {
   "cell_type": "markdown",
   "metadata": {},
   "source": [
    "### A more complete example of time series analysis can be found on our GitHub page [here](https://github.com/noaodatalab/notebooks-latest/tree/master/03_ScienceExamples/TimeSeriesAnalysisRrLyraeStar). "
   ]
  }
 ],
 "metadata": {
  "kernelspec": {
   "display_name": "Python 3",
   "language": "python",
   "name": "python3"
  },
  "language_info": {
   "codemirror_mode": {
    "name": "ipython",
    "version": 3
   },
   "file_extension": ".py",
   "mimetype": "text/x-python",
   "name": "python",
   "nbconvert_exporter": "python",
   "pygments_lexer": "ipython3",
   "version": "3.7.4"
  }
 },
 "nbformat": 4,
 "nbformat_minor": 2
}
