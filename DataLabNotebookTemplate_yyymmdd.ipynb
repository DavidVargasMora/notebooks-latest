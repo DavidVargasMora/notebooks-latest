{
 "cells": [
  {
   "cell_type": "code",
   "execution_count": 1,
   "metadata": {
    "collapsed": true
   },
   "outputs": [],
   "source": [
    "__author__ = 'Jane User <jane@noao.edu>, John Doe <john.doe@noao.edu>' # single string; emails in <>\n",
    "__version__ = '20171011' # yyyymmdd; version datestamp of this notebook\n",
    "__datasets__ = ['']  # enter used datasets by hand; for a list of available datasets, see cell \"Available datasets in Data Lab\" further below"
   ]
  },
  {
   "cell_type": "markdown",
   "metadata": {},
   "source": [
    "# Short self-describing title of this notebook\n",
    "Brief description: we do X, using data Y. The technique used is Z. Also rename the notebook file to something meaningful, e.g. 'TimeSeriesAnalysisRRLyrae_20171011'.\n",
    "\n",
    "*Jane User, John Doe & NOAO Data Lab Team*"
   ]
  },
  {
   "cell_type": "markdown",
   "metadata": {},
   "source": [
    "## Table of contents\n",
    "* [Imports & setup](#import)\n",
    "* [Authentication](#auth)\n",
    "* [First chapter](#chapter1)\n",
    "* [Resources and references](#resources)"
   ]
  },
  {
   "cell_type": "markdown",
   "metadata": {},
   "source": [
    "<a class=\"anchor\" id=\"import\"></a>\n",
    "# Imports and setup"
   ]
  },
  {
   "cell_type": "code",
   "execution_count": 2,
   "metadata": {
    "collapsed": true
   },
   "outputs": [],
   "source": [
    "# Python 2/3 compatibility\n",
    "from __future__ import print_function # to use print() as a function in Python 2\n",
    "#from __future__ import division  # if you need Python 3 division behavior in Python 2\n",
    "\n",
    "try:\n",
    "    input = raw_input # use 'input' function in both Python 2 and 3\n",
    "except NameError:\n",
    "    pass\n",
    "\n",
    "# std lib\n",
    "from getpass import getpass\n",
    "\n",
    "# 3rd party\n",
    "import numpy as np\n",
    "import pylab as plt\n",
    "import matplotlib\n",
    "%matplotlib inline\n",
    "\n",
    "# Data Lab\n",
    "from dl import authClient as ac, queryClient as qc, storeClient as sc, helpers"
   ]
  },
  {
   "cell_type": "markdown",
   "metadata": {},
   "source": [
    "<a class=\"anchor\" id=\"auth\"></a>\n",
    "# Authentication"
   ]
  },
  {
   "cell_type": "code",
   "execution_count": 3,
   "metadata": {
    "collapsed": true
   },
   "outputs": [],
   "source": [
    "# Python 2/3 compatibility\n",
    "try:\n",
    "    input = raw_input\n",
    "except NameError:\n",
    "    pass\n",
    "\n",
    "# Either get token for anonymous user\n",
    "token = ac.login('anonymous')\n",
    "\n",
    "# ... or for authenticated user\n",
    "#token = ac.login(input(\"Enter user name: \"),getpass(\"Enter password: \"))"
   ]
  },
  {
   "cell_type": "markdown",
   "metadata": {},
   "source": [
    "# Available datasets in Data Lab"
   ]
  },
  {
   "cell_type": "code",
   "execution_count": 4,
   "metadata": {},
   "outputs": [
    {
     "name": "stdout",
     "output_type": "stream",
     "text": [
      "Datasets available in Data Lab (with current profile):\n",
      " ['allwise', 'des_sva1', 'gaia_dr1', 'ivoa', 'ivoa_smash', 'ls_dr3', 'ls_dr4', 'ls_dr5', 'neo_dr1', 'phat_v2', 'sdss_dr13', 'smash_dr1', 'twomass', 'usno']\n"
     ]
    }
   ],
   "source": [
    "# these schemas are not astronomical datasets\n",
    "_remove = set(['ivao','ivao_smash','tap_schema','schema'])\n",
    "\n",
    "# get all schemas from DB\n",
    "_schemas = set(qc.query(token,sql='SELECT schema FROM tbl_stat').split())\n",
    "\n",
    "# remove non-astro schemas\n",
    "_alldatasets = sorted(list(_schemas - _remove))\n",
    "print(\"Datasets available in Data Lab (with current profile):\\n\", _alldatasets)\n",
    "\n",
    "# TODO: Enter used datasets by hand in the list __datasets__ in the very first cell above"
   ]
  },
  {
   "cell_type": "markdown",
   "metadata": {},
   "source": [
    "<a class=\"anchor\" id=\"chapter1\"></a>\n",
    "# Chapter 1 -- your content below..."
   ]
  },
  {
   "cell_type": "code",
   "execution_count": 5,
   "metadata": {},
   "outputs": [
    {
     "name": "stdout",
     "output_type": "stream",
     "text": [
      "5\n"
     ]
    }
   ],
   "source": [
    "a = 2+3\n",
    "print(a)"
   ]
  },
  {
   "cell_type": "markdown",
   "metadata": {},
   "source": [
    "<a class=\"anchor\" id=\"resources\"></a>\n",
    "## Resources and references\n",
    "\n",
    "Lomb, N.R. (1976) \"Least-squares frequency analysis of unequally spaced data\". Astrophysics and Space Science. 39 (2): 447–462: http://adsabs.harvard.edu/abs/1976Ap%26SS..39..447L\n",
    "\n",
    "Scargle, J. D. (1982) \"Studies in astronomical time series analysis. II - Statistical aspects of spectral analysis of unevenly spaced data\". Astrophysical Journal. 263, 835: http://adsabs.harvard.edu/doi/10.1086/160554\n",
    "\n",
    "Lomb-Scargle periodograms in `astropy`: http://docs.astropy.org/en/stable/stats/lombscargle.html"
   ]
  }
 ],
 "metadata": {
  "kernelspec": {
   "display_name": "Python 3",
   "language": "python",
   "name": "python3"
  },
  "language_info": {
   "codemirror_mode": {
    "name": "ipython",
    "version": 3
   },
   "file_extension": ".py",
   "mimetype": "text/x-python",
   "name": "python",
   "nbconvert_exporter": "python",
   "pygments_lexer": "ipython3",
   "version": "3.5.3"
  }
 },
 "nbformat": 4,
 "nbformat_minor": 2
}
