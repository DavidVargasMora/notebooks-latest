{
 "cells": [
  {
   "cell_type": "code",
   "execution_count": 1,
   "metadata": {},
   "outputs": [],
   "source": [
    "__author__ = 'Jane Author <jane@noao.edu>, John Writer <john.doe@noao.edu>' # single string; emails in <>\n",
    "__version__ = '20181220' # yyyymmdd; version datestamp of this notebook\n",
    "__datasets__ = ['']  # enter used datasets by hand; for a list of available datasets, see cell \"Available datasets in Data Lab\" further below\n",
    "__keywords__ = [''], # enter a few describing keywords relevant to the content of this notebook, e.g. ['example','science case','dwarf galaxies']"
   ]
  },
  {
   "cell_type": "markdown",
   "metadata": {},
   "source": [
    "# Table of contents\n",
    "* [Goals & notebook summary](#goals)\n",
    "* [Attribution](#attribution)\n",
    "* [Imports & setup](#import)\n",
    "* [Authentication](#auth)\n",
    "* [First chapter](#chapter1)\n",
    "* [Resources and references](#resources)"
   ]
  },
  {
   "cell_type": "markdown",
   "metadata": {},
   "source": [
    "# Short self-describing title of this notebook (e.g. Finding Dwarf Galaxies in DES DR1)\n",
    "\n",
    "*Jane Author, John Writer & NOAO Data Lab Team*"
   ]
  },
  {
   "cell_type": "markdown",
   "metadata": {},
   "source": [
    "<a class=\"anchor\" id=\"goals\"></a>\n",
    "# Goals\n",
    "One or two sentences, or a bullet list, of the goals of this notebook. E.g. \"To find dwarf galaxies in DES DR1 images\"."
   ]
  },
  {
   "cell_type": "markdown",
   "metadata": {},
   "source": [
    "# Summary\n",
    "Description of the content of this notebook: we do X, using data Y. The technique used is Z. Also rename the notebook file to something meaningful, e.g. 'TimeSeriesAnalysisRRLyrae_20171011'."
   ]
  },
  {
   "cell_type": "markdown",
   "metadata": {},
   "source": [
    "<a class=\"anchor\" id=\"attribution\"></a>\n",
    "# Disclaimer & attribution\n",
    "If you use this notebook for your published science, please acknowledge the following:\n",
    "\n",
    "* Data Lab concept paper: Fitzpatrick et al., \"The NOAO Data Laboratory: a conceptual overview\", SPIE, 9149, 2014, http://dx.doi.org/10.1117/12.2057445\n",
    "\n",
    "* Data Lab disclaimer: http://datalab.noao.edu/disclaimers.php"
   ]
  },
  {
   "cell_type": "markdown",
   "metadata": {},
   "source": [
    "<a class=\"anchor\" id=\"import\"></a>\n",
    "# Imports and setup"
   ]
  },
  {
   "cell_type": "code",
   "execution_count": 2,
   "metadata": {},
   "outputs": [],
   "source": [
    "# Python 2/3 compatibility\n",
    "from __future__ import print_function # to use print() as a function in Python 2\n",
    "#from __future__ import division  # if you need Python 3 division behavior in Python 2\n",
    "\n",
    "try:\n",
    "    input = raw_input # use 'input' function in both Python 2 and 3\n",
    "except NameError:\n",
    "    pass\n",
    "\n",
    "# std lib\n",
    "from getpass import getpass\n",
    "\n",
    "# 3rd party\n",
    "import numpy as np\n",
    "import pylab as plt\n",
    "import matplotlib\n",
    "%matplotlib inline\n",
    "\n",
    "# Data Lab\n",
    "from dl import authClient as ac, queryClient as qc, storeClient as sc\n",
    "# Data Lab helpers as needed, e.g.: (uncomment as needed)\n",
    "# from dl.helpers import cluster  # import one particular helper module\n",
    "# from dl.helpers.plot import plotSkymapScatter  # import one function from a helper module\n",
    "# from dl.helpers import all  # convenience import of all helper modules\n",
    "#\n",
    "# or old-style:\n",
    "# from dl.helpers import convert"
   ]
  },
  {
   "cell_type": "markdown",
   "metadata": {},
   "source": [
    "<a class=\"anchor\" id=\"auth\"></a>\n",
    "# Authentication\n",
    "Use this mini-section to authenticate the user, IF the notebook needs authentication (e.g. for saving files to VOSpace). If the 'anonymous' user is sufficient, use it. If the notebook does not require auhtnetication at all, remove this entire subsesection."
   ]
  },
  {
   "cell_type": "code",
   "execution_count": 3,
   "metadata": {},
   "outputs": [],
   "source": [
    "# Python 2/3 compatibility\n",
    "try:\n",
    "    input = raw_input\n",
    "except NameError:\n",
    "    pass\n",
    "\n",
    "# Either get token for anonymous user\n",
    "token = ac.login('anonymous')\n",
    "\n",
    "# ... or for authenticated user\n",
    "#token = ac.login(input(\"Enter user name: (+ENTER)\"),getpass(\"Enter password: (+ENTER)\"))"
   ]
  },
  {
   "cell_type": "markdown",
   "metadata": {},
   "source": [
    "# Available datasets in Data Lab\n",
    "This is a way to find out about available datasets. Use it only internally, and the list the datasets used in the ``__datasets__`` list in the very first cell of the notebook. Remove then this subsection from the notebook."
   ]
  },
  {
   "cell_type": "code",
   "execution_count": 4,
   "metadata": {},
   "outputs": [
    {
     "name": "stdout",
     "output_type": "stream",
     "text": [
      "Datasets available in Data Lab (with current profile):\n",
      " ['allwise', 'cp_calib', 'dad_dr1', 'dad_dr2', 'decaps_dr1', 'des_dr1', 'des_sva1', 'gaia_dr1', 'gaia_dr2', 'ivoa', 'ivoa_calibrated', 'ivoa_coadd', 'ivoa_des_dr1', 'ivoa_des_sva1', 'ivoa_des_y1', 'ivoa_des_y2', 'ivoa_des_y3', 'ivoa_ls_dr3', 'ivoa_ls_dr4', 'ivoa_ls_dr5', 'ivoa_ls_dr6', 'ivoa_ls_dr7', 'ivoa_nsa', 'ivoa_raw', 'ivoa_smash_dr1', 'ivoa_splus_dr1', 'ivoa_stripe82', 'ls_dr3', 'ls_dr4', 'ls_dr5', 'ls_dr6', 'ls_dr7', 'neo_dr1', 'nsc_dr1', 'phat_v2', 'sdss_dr13', 'sdss_dr14', 'smash_dr1', 'splus_dr1', 'stripe82', 'twomass', 'usno']\n"
     ]
    }
   ],
   "source": [
    "# these schemas are not astronomical datasets\n",
    "_remove = set(['ivao','ivao_smash','tap_schema','schema'])\n",
    "\n",
    "# get all schemas from DB\n",
    "_schemas = set(qc.query(token,sql='SELECT schema FROM tbl_stat').split())\n",
    "\n",
    "# remove non-astro schemas\n",
    "_alldatasets = sorted(list(_schemas - _remove))\n",
    "print(\"Datasets available in Data Lab (with current profile):\\n\", _alldatasets)\n",
    "\n",
    "# TODO: Enter used datasets by hand in the list __datasets__ in the very first cell above"
   ]
  },
  {
   "cell_type": "markdown",
   "metadata": {},
   "source": [
    "<a class=\"anchor\" id=\"chapter1\"></a>\n",
    "# Chapter 1 -- your content below..."
   ]
  },
  {
   "cell_type": "code",
   "execution_count": 5,
   "metadata": {},
   "outputs": [
    {
     "name": "stdout",
     "output_type": "stream",
     "text": [
      "5\n"
     ]
    }
   ],
   "source": [
    "a = 2+3\n",
    "print(a)"
   ]
  },
  {
   "cell_type": "markdown",
   "metadata": {},
   "source": [
    "<a class=\"anchor\" id=\"resources\"></a>\n",
    "## Resources and references\n",
    "\n",
    "Lomb, N.R. (1976) \"Least-squares frequency analysis of unequally spaced data\". Astrophysics and Space Science. 39 (2): 447–462: http://adsabs.harvard.edu/abs/1976Ap%26SS..39..447L\n",
    "\n",
    "Scargle, J. D. (1982) \"Studies in astronomical time series analysis. II - Statistical aspects of spectral analysis of unevenly spaced data\". Astrophysical Journal. 263, 835: http://adsabs.harvard.edu/doi/10.1086/160554\n",
    "\n",
    "Lomb-Scargle periodograms in `astropy`: http://docs.astropy.org/en/stable/stats/lombscargle.html"
   ]
  }
 ],
 "metadata": {
  "kernelspec": {
   "display_name": "Python 3",
   "language": "python",
   "name": "python3"
  },
  "language_info": {
   "codemirror_mode": {
    "name": "ipython",
    "version": 3
   },
   "file_extension": ".py",
   "mimetype": "text/x-python",
   "name": "python",
   "nbconvert_exporter": "python",
   "pygments_lexer": "ipython3",
   "version": "3.6.6"
  }
 },
 "nbformat": 4,
 "nbformat_minor": 2
}
